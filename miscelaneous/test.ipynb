{
 "cells": [
  {
   "cell_type": "markdown",
   "metadata": {},
   "source": [
    "# Testing\n",
    "---\n",
    "This notebook will be my testing method until one test becomes too big to handle"
   ]
  },
  {
   "cell_type": "code",
   "execution_count": 1,
   "metadata": {},
   "outputs": [],
   "source": [
    "from qiskit.quantum_info import Pauli,SparsePauliOp,Statevector\n",
    "from colorama import Fore\n",
    "import numpy as np\n",
    "from qiskit import QuantumCircuit, transpile\n",
    "from qiskit_aer import AerSimulator\n",
    "from qiskit_aer.primitives import SamplerV2\n",
    "from qiskit.visualization import plot_histogram"
   ]
  },
  {
   "cell_type": "code",
   "execution_count": 2,
   "metadata": {},
   "outputs": [
    {
     "name": "stdout",
     "output_type": "stream",
     "text": [
      "Statevector([0.+0.j, 0.+0.j, 0.+0.j, 0.+0.j, 1.+0.j, 0.+0.j, 0.+0.j,\n",
      "             0.+0.j],\n",
      "            dims=(2, 2, 2))\n"
     ]
    }
   ],
   "source": [
    "psi = Statevector.from_int(4,dims=8)\n",
    "psi"
   ]
  },
  {
   "cell_type": "code",
   "execution_count": 3,
   "metadata": {},
   "outputs": [
    {
     "name": "stdout",
     "output_type": "stream",
     "text": [
      "<Compressed Sparse Row sparse matrix of dtype 'complex128'\n",
      "\twith 8 stored elements and shape (8, 8)>\n",
      "  Coords\tValues\n",
      "  (0, 0)\t(1+0j)\n",
      "  (1, 1)\t(1+0j)\n",
      "  (2, 2)\t(-1+0j)\n",
      "  (3, 3)\t(-1+0j)\n",
      "  (4, 4)\t(-1+0j)\n",
      "  (5, 5)\t(-1+0j)\n",
      "  (6, 6)\t(1+0j)\n",
      "  (7, 7)\t(1+0j)\n"
     ]
    }
   ],
   "source": [
    "pl = Pauli('ZZI')\n",
    "\n",
    "print(pl.to_matrix(sparse=True))"
   ]
  },
  {
   "cell_type": "code",
   "execution_count": 10,
   "metadata": {},
   "outputs": [
    {
     "name": "stdout",
     "output_type": "stream",
     "text": [
      "H_cut is\n",
      "SparsePauliOp(['ZZI', 'ZIZ'],\n",
      "              coeffs=[1.+0.j, 1.+0.j])\n",
      "The sparse representation of H_cut is\n",
      "  (0, 0)\t(2+0j)\n",
      "  (1, 1)\t0j\n",
      "  (2, 2)\t0j\n",
      "  (3, 3)\t(-2+0j)\n",
      "  (4, 4)\t(-2+0j)\n",
      "  (5, 5)\t0j\n",
      "  (6, 6)\t0j\n",
      "  (7, 7)\t(2+0j)\n"
     ]
    }
   ],
   "source": [
    "H_cut = SparsePauliOp(Pauli('ZZI'))+ SparsePauliOp(Pauli('ZIZ'))\n",
    "\n",
    "print(\"H_cut is\")\n",
    "print(H_cut)\n",
    "print(\"The sparse representation of H_cut is\")\n",
    "print(H_cut.to_matrix(sparse=True))"
   ]
  },
  {
   "cell_type": "code",
   "execution_count": 18,
   "metadata": {},
   "outputs": [
    {
     "data": {
      "text/plain": [
       "-2.0"
      ]
     },
     "execution_count": 18,
     "metadata": {},
     "output_type": "execute_result"
    }
   ],
   "source": [
    "psi.expectation_value(H_cut).real"
   ]
  },
  {
   "cell_type": "markdown",
   "metadata": {},
   "source": [
    "## Quantum Annealer\n",
    "\n",
    "In this part of the notebook, we try the Ocean framework, to work with quantum annealers "
   ]
  },
  {
   "cell_type": "code",
   "execution_count": 2,
   "metadata": {},
   "outputs": [],
   "source": [
    "import dimod\n",
    "from dwave.system import DWaveSampler, EmbeddingComposite"
   ]
  },
  {
   "cell_type": "code",
   "execution_count": null,
   "metadata": {},
   "outputs": [
    {
     "name": "stdout",
     "output_type": "stream",
     "text": [
      "The problem we are going to solve is:\n",
      "BinaryQuadraticModel({0: 0.0, 1: 0.0, 2: 0.0}, {(1, 0): 1.0, (2, 0): 1.0}, 0.0, 'SPIN')\n"
     ]
    }
   ],
   "source": [
    "# Coefficients of the quadratic term elements (squared or products)\n",
    "J = {(0,1):1, (0,2):1}\n",
    "# Coefficients of the linear terms\n",
    "h = {}\n",
    "problem = dimod.BinaryQuadraticModel(h, J, 0.0, dimod.SPIN)\n",
    "print(\"The problem we are going to solve is:\")\n",
    "print(problem)\n"
   ]
  },
  {
   "cell_type": "code",
   "execution_count": null,
   "metadata": {},
   "outputs": [
    {
     "name": "stdout",
     "output_type": "stream",
     "text": [
      "The solutions that we have obtained are\n",
      "   0  1  2 energy num_oc. chain_.\n",
      "0 -1 +1 +1   -2.0       4     0.0\n",
      "1 +1 -1 -1   -2.0       6     0.0\n",
      "['SPIN', 2 rows, 10 samples, 3 variables]\n"
     ]
    }
   ],
   "source": [
    "# You need to have an access token configured\n",
    "# sampler = EmbeddingComposite(DWaveSampler())\n",
    "# result = sampler.sample(problem, num_reads=10)\n",
    "print(\"The solutions that we have obtained are\")\n",
    "print(result)"
   ]
  },
  {
   "cell_type": "code",
   "execution_count": 4,
   "metadata": {},
   "outputs": [
    {
     "data": {
      "text/plain": [
       "16583.76"
      ]
     },
     "execution_count": 4,
     "metadata": {},
     "output_type": "execute_result"
    }
   ],
   "source": [
    "result.info['timing']['qpu_access_time']"
   ]
  },
  {
   "cell_type": "markdown",
   "metadata": {},
   "source": [
    "Using `dimod` we can also solve binary problems without having to rewrite them in the QUBO or Ising model form. To test this we will solve the next minimization problem:\n",
    "\n",
    "\\begin{aligned}   \n",
    "        \\text{Minimize } \\quad -5x_0+3x_1-2x_2\\\\\n",
    "        \\text{Subject to }\\qquad \\qquad x_0 + x_2 \\leq 1,\\\\\n",
    "        3x_0 − x_1 + 3x_2 \\leq 4 \\\\\n",
    "        \\vec{x} \\in \\{0,1\\}^3\n",
    "    \\end{aligned}"
   ]
  },
  {
   "cell_type": "code",
   "execution_count": 42,
   "metadata": {},
   "outputs": [
    {
     "name": "stdout",
     "output_type": "stream",
     "text": [
      "Variables: Variables(['x0', 'x1', 'x2'])\n",
      "Objective: ObjectiveView({'x0': -5.0, 'x1': 3.0, 'x2': -2.0}, {}, 0.0, {'x0': 'BINARY', 'x1': 'BINARY', 'x2': 'BINARY'})\n",
      "Our constraints are: {'First constraint': Le(ConstraintView({'x0': 1.0, 'x2': 1.0}, {}, 0.0, {'x0': 'BINARY', 'x2': 'BINARY'}), 1.0), 'Second constraint': Le(ConstraintView({'x0': 3.0, 'x1': -1.0, 'x2': 3.0}, {}, 0.0, {'x0': 'BINARY', 'x1': 'BINARY', 'x2': 'BINARY'}), 4.0)}\n",
      "Solutions\n",
      "  x0 x1 x2 energy num_oc. is_sat. is_fea.\n",
      "6  1  0  1   -7.0       1 arra...   False\n",
      "2  1  0  0   -5.0       1 arra...    True\n",
      "7  1  1  1   -4.0       1 arra...   False\n",
      "3  1  1  0   -2.0       1 arra...    True\n",
      "4  0  0  1   -2.0       1 arra...    True\n",
      "0  0  0  0    0.0       1 arra...    True\n",
      "5  0  1  1    1.0       1 arra...    True\n",
      "1  0  1  0    3.0       1 arra...    True\n",
      "['INTEGER', 8 rows, 8 samples, 3 variables] \n",
      "\n",
      "\u001b[31mBest Solution\u001b[39m\n",
      "Variables: {'x0': 1, 'x1': 0, 'x2': 0}, Cost = -5.0\n"
     ]
    }
   ],
   "source": [
    "from dimod import Binary\n",
    "\n",
    "x0 = Binary(\"x0\")\n",
    "x1 = Binary(\"x1\")\n",
    "x2 = Binary(\"x2\")\n",
    "\n",
    "# Define the problem (objective and constraints)\n",
    "blp = dimod.ConstrainedQuadraticModel()\n",
    "\n",
    "blp.set_objective(-5*x0+3*x1-2*x2)\n",
    "blp.add_constraint(x0 + x2 <= 1, \"First constraint\")\n",
    "blp.add_constraint(3*x0 -x1 + 3*x2 <= 4, \"Second constraint\")\n",
    "\n",
    "print(f\"Variables: {blp.variables}\")\n",
    "print(f\"Objective: {blp.objective}\")\n",
    "print(f\"Our constraints are: {blp.constraints}\")\n",
    "\n",
    "solver = dimod.ExactCQMSolver()\n",
    "\n",
    "sol = solver.sample_cqm(blp)\n",
    "\n",
    "# This calculates even non feasible solutions\n",
    "print('Solutions')\n",
    "print(sol,'\\n')\n",
    "\n",
    "# We want the best feasible solution. We can filter by its feasibility and take the first element\n",
    "feas_sol = sol.filter(lambda s: s.is_feasible)\n",
    "print(Fore.RED+'Best Solution'+Fore.RESET)\n",
    "print(f'Variables: {feas_sol.first.sample}, Cost = {feas_sol.first.energy}')"
   ]
  },
  {
   "cell_type": "markdown",
   "metadata": {},
   "source": [
    "However, using this we dont use quantum annealers, to do that we can transform the problem to a QUBO using Ocean functions."
   ]
  },
  {
   "cell_type": "code",
   "execution_count": null,
   "metadata": {},
   "outputs": [
    {
     "name": "stdout",
     "output_type": "stream",
     "text": [
      "Solutions\n",
      "  slack_v050645ea8f4d4fa59dfae269a2016c91_0 ... x2 energy num_oc. chain_.\n",
      "0                                         0 ...  1   -2.0       1     0.0\n",
      "1                                         0 ...  0   -2.0       1     0.0\n",
      "2                                         0 ...  0    0.0       1     0.0\n",
      "3                                         0 ...  0    0.0       2     0.0\n",
      "4                                         0 ...  1    3.0       2     0.0\n",
      "5                                         1 ...  0    5.0       1     0.0\n",
      "6                                         1 ...  1    8.0       1     0.0\n",
      "7                                         1 ...  1   21.0       1     0.0\n",
      "['BINARY', 8 rows, 10 samples, 7 variables]\n"
     ]
    }
   ],
   "source": [
    "qubo, invert = dimod.cqm_to_bqm(blp,lagrange_multiplier = 5)\n",
    "\n",
    "# print(qubo) # Quite ugly output\n",
    "\n",
    "# Uncomment to execute\n",
    "# sampler = EmbeddingComposite(DWaveSampler())\n",
    "# result = sampler.sample(qubo,num_reads=10)\n",
    "\n",
    "print('Solutions')\n",
    "print(result)"
   ]
  },
  {
   "cell_type": "markdown",
   "metadata": {},
   "source": [
    "By using the QA we get the solutions from the transformed problem, we can obtain the solutions from the original problem by untransforming"
   ]
  },
  {
   "cell_type": "code",
   "execution_count": 55,
   "metadata": {},
   "outputs": [
    {
     "name": "stdout",
     "output_type": "stream",
     "text": [
      "The solutions to the original problem are\n",
      "  x0 x1 x2 energy num_oc. is_sat. is_fea.\n",
      "2  1  0  0   -5.0       1 arra...    True\n",
      "3  1  0  0   -5.0       2 arra...    True\n",
      "7  1  1  1   -4.0       1 arra...   False\n",
      "0  0  0  1   -2.0       1 arra...    True\n",
      "1  1  1  0   -2.0       1 arra...    True\n",
      "4  0  0  1   -2.0       2 arra...    True\n",
      "6  0  0  1   -2.0       1 arra...    True\n",
      "5  0  0  0    0.0       1 arra...    True\n",
      "['INTEGER', 8 rows, 10 samples, 3 variables] \n",
      "\n",
      "\u001b[31mBest Solution\u001b[39m\n",
      "Variables: {'x0': 1, 'x1': 0, 'x2': 0}, Cost = -5.0\n"
     ]
    }
   ],
   "source": [
    "samples = []\n",
    "occurrences = []\n",
    "\n",
    "for s in result.data():\n",
    "    samples.append(invert(s.sample))\n",
    "    occurrences.append(s.num_occurrences)\n",
    "    sampleset = dimod.SampleSet.from_samples_cqm(samples,blp,num_occurrences=occurrences)\n",
    "    \n",
    "print(\"The solutions to the original problem are\")\n",
    "print(sampleset,'\\n')\n",
    "\n",
    "feas_sol = sampleset.filter(lambda s: s.is_feasible)\n",
    "print(Fore.RED+'Best Solution'+Fore.RESET)\n",
    "print(f'Variables: {feas_sol.first.sample}, Cost = {feas_sol.first.energy}')"
   ]
  },
  {
   "cell_type": "markdown",
   "metadata": {},
   "source": [
    "As we can see, we get the same solutions, with the observation that we get the best solution ($x_0=1, x_1=x_2=0$) more than any other answer.\n",
    "\n",
    "---\n",
    "Using properties from the `dimod` package, we can change the multiple parameters that define the QA, maybe even obtaining better solutions for the problems. However, the scope of this work is not to use QA, rather **Quantum Approximate Optimization Algorithm** or **QAOA** to run the simulation on a general purpose QPU. We will be using **Qiskit** again.\n",
    "\n",
    "## QAOA"
   ]
  },
  {
   "cell_type": "markdown",
   "metadata": {},
   "source": [
    "As we will be using this disposition of gates multiple times, we create a function"
   ]
  },
  {
   "cell_type": "code",
   "execution_count": 2,
   "metadata": {},
   "outputs": [
    {
     "name": "stderr",
     "output_type": "stream",
     "text": [
      "<>:2: SyntaxWarning: invalid escape sequence '\\p'\n",
      "<>:2: SyntaxWarning: invalid escape sequence '\\p'\n",
      "C:\\Users\\nicolas.fernandez\\AppData\\Local\\Temp\\ipykernel_13516\\1012078355.py:2: SyntaxWarning: invalid escape sequence '\\p'\n",
      "  \"\"\"\n"
     ]
    }
   ],
   "source": [
    "def interaction_term(qc: QuantumCircuit, phi, control, target)->QuantumCircuit:\n",
    "    \"\"\"\n",
    "    Builds the gate from the interaction term in the Ising Hamiltonian\n",
    "    \n",
    "    Args:\n",
    "        `qc`: The quantum circuit to be added\n",
    "        `phi`: The parameter $\\phi$ from the optimization\n",
    "        `control`: The position of the control qubit\n",
    "        `target`: The position of the target qubit\n",
    "    \n",
    "    Returns:\n",
    "        The modified QuantumCircuit\n",
    "    \n",
    "    \"\"\"\n",
    "    \n",
    "    qc.cx(control,target)\n",
    "    qc.rz(phi*2,target)\n",
    "    qc.cx(control,target)\n",
    "    qc.barrier()\n",
    "    \n",
    "    return qc"
   ]
  },
  {
   "cell_type": "code",
   "execution_count": 3,
   "metadata": {},
   "outputs": [],
   "source": [
    "# Function to automatize layers of an ansatz\n",
    "def create_ansatz_layer(qc:QuantumCircuit,expression:str,x=1)->QuantumCircuit:\n",
    "    \n",
    "    expression = expression.replace(' ', '')\n",
    "    \n",
    "    # Standardize the polynomial string to handle positive terms properly\n",
    "    expression = expression.replace('-', '+-')\n",
    "    if expression[0] == '+':\n",
    "        expression = expression[1:]\n",
    "    \n",
    "    # Split the string into terms\n",
    "    terms = expression.split('+')\n",
    "    \n",
    "    for term in terms:\n",
    "        gate = term.count('Z')\n",
    "        coefs = term.split('Z')\n",
    "        if coefs[0] == '':\n",
    "            coefs[0]=1\n",
    "        if coefs[0] == '-':\n",
    "            coefs[0]=-1\n",
    "        coefs = [int(t) for t in coefs]\n",
    "        if gate == 1:\n",
    "            qc.rz(2*coefs[0]*x,coefs[1])\n",
    "            qc.barrier()\n",
    "        else:\n",
    "            qc = interaction_term(qc,coefs[0]*x,coefs[1],coefs[2])\n",
    "    return qc"
   ]
  },
  {
   "cell_type": "markdown",
   "metadata": {},
   "source": [
    "This is a test to write a QAOA circuit for a simple Hamiltonian $H_1=Z_1𝑍_3 + 𝑍_0𝑍_2 − 2𝑍_1 + 3𝑍_2$ with $𝑝 = 1$ (AKA one layer). As we only have 1 layer we will need 2 parameters: $\\beta$ and $\\gamma$. In this example we are already using the function that creates an ansatz from a ising hamiltonian."
   ]
  },
  {
   "cell_type": "code",
   "execution_count": 4,
   "metadata": {},
   "outputs": [
    {
     "data": {
      "image/png": "[encoded data removed]",
      "text/plain": [
       "<Figure size 1123.61x284.278 with 1 Axes>"
      ]
     },
     "execution_count": 4,
     "metadata": {},
     "output_type": "execute_result"
    }
   ],
   "source": [
    "expression = '3Z0Z2-Z1Z2+2Z0'\n",
    "size = 3\n",
    "qc = QuantumCircuit(size)\n",
    "for i in range(size):\n",
    "    qc.h(i)\n",
    "qc =  create_ansatz_layer(qc,expression)\n",
    "for i in range(size):\n",
    "    qc.rx(2,i)\n",
    "qc.draw('mpl')"
   ]
  },
  {
   "cell_type": "code",
   "execution_count": 5,
   "metadata": {},
   "outputs": [
    {
     "data": {
      "image/png": "[encoded data removed]",
      "text/plain": [
       "<Figure size 640x480 with 1 Axes>"
      ]
     },
     "execution_count": 5,
     "metadata": {},
     "output_type": "execute_result"
    }
   ],
   "source": [
    "sim = AerSimulator()\n",
    "qc.measure_all()\n",
    "qc = transpile(qc,sim)\n",
    "\n",
    "sampler = SamplerV2()\n",
    "shots =1028\n",
    "\n",
    "job = sampler.run([qc],shots=shots)\n",
    "job_result = job.result()\n",
    "counts=job_result[0].data.meas.get_counts()\n",
    "plot_histogram(counts)"
   ]
  },
  {
   "cell_type": "markdown",
   "metadata": {},
   "source": [
    "### Time test\n",
    "\n",
    "In order to calculate the energy of the system you have to compute multiple matrix products, however the matrices we are working with are diagonal, so we try to create a more efficient method. Moreover, we are working with states from the computational basis, meaning every position is a 0 so:\n",
    "\n",
    "$\\bra{a}H_1\\ket{a}=H_{jj}$, as $a_j=1$.\n",
    "\n",
    "With this in mind and knowing that:\n",
    "\n",
    "$\\bra{a}Z_jZ_k\\ket{a}=\\pm1$\n",
    "\n",
    "We can obtain the energy without having to calculate any matrix products."
   ]
  },
  {
   "cell_type": "code",
   "execution_count": 6,
   "metadata": {},
   "outputs": [],
   "source": [
    "def eval_energy(expression:str,factor:str):\n",
    "    energy = 0\n",
    "    \n",
    "    expression = expression.replace(' ', '')\n",
    "    \n",
    "    # Standardize the polynomial string to handle positive terms properly\n",
    "    expression = expression.replace('-', '+-')\n",
    "    if expression[0] == '+':\n",
    "        expression = expression[1:]\n",
    "    \n",
    "    # Split the string into terms\n",
    "    terms = expression.split('+')\n",
    "    \n",
    "    \n",
    "    for term in terms:\n",
    "        gate = term.count('Z')\n",
    "        coefs = term.split('Z')\n",
    "        if coefs[0] == '':\n",
    "            coefs[0]=1\n",
    "        if coefs[0] == '-':\n",
    "            coefs[0]=-1\n",
    "        coefs = [int(x) for x in coefs]\n",
    "        if gate == 1:\n",
    "            energy += (-2*int(factor[coefs[1]])+1)*coefs[0]\n",
    "        else:\n",
    "            energy += (2*np.abs(int(factor[coefs[1]])+int(factor[coefs[2]])-1)-1)*coefs[0]\n",
    "    \n",
    "    return energy"
   ]
  },
  {
   "cell_type": "code",
   "execution_count": 9,
   "metadata": {},
   "outputs": [
    {
     "data": {
      "text/plain": [
       "np.int64(-5)"
      ]
     },
     "execution_count": 9,
     "metadata": {},
     "output_type": "execute_result"
    }
   ],
   "source": [
    "eval_energy('Z1Z3+Z0Z2-2Z1+3Z2','1011')"
   ]
  },
  {
   "cell_type": "markdown",
   "metadata": {},
   "source": [
    "Using what we know this should be the energy expectation using the parameters $\\beta=\\gamma=1$ with one layer."
   ]
  },
  {
   "cell_type": "code",
   "execution_count": 10,
   "metadata": {},
   "outputs": [
    {
     "name": "stdout",
     "output_type": "stream",
     "text": [
      "-0.32101167315175105\n"
     ]
    }
   ],
   "source": [
    "energy = 0\n",
    "for key in counts:\n",
    "    energy+= counts[key]*eval_energy(expression,key)/shots\n",
    "    \n",
    "print(energy)"
   ]
  },
  {
   "cell_type": "code",
   "execution_count": 11,
   "metadata": {},
   "outputs": [],
   "source": [
    "def f_to_minimize(x):\n",
    "    expression = 'Z0Z1'\n",
    "    size = 2\n",
    "    qc = QuantumCircuit(size)\n",
    "    for i in range(size):\n",
    "        qc.h(i)\n",
    "    qc =  create_ansatz_layer(qc,expression,x[0])\n",
    "    for i in range(size):\n",
    "        qc.rx(2*x[1],i)\n",
    "        sim = AerSimulator()\n",
    "    qc.measure_all()\n",
    "    qc = transpile(qc,sim)\n",
    "\n",
    "    sampler = SamplerV2()\n",
    "    shots =128\n",
    "\n",
    "    job = sampler.run([qc],shots=shots)\n",
    "    job_result = job.result()\n",
    "    counts=job_result[0].data.meas.get_counts()\n",
    "    \n",
    "    energy = 0\n",
    "    for key in counts:\n",
    "        energy+= counts[key]*eval_energy(expression,key)/shots\n",
    "        \n",
    "    return energy"
   ]
  },
  {
   "cell_type": "code",
   "execution_count": 12,
   "metadata": {},
   "outputs": [
    {
     "name": "stdout",
     "output_type": "stream",
     "text": [
      "Initial parameters: beta=0.7550898879235483, gamma=0.4956495735201347\n",
      "Optimal value: -0.875\n",
      "Optimal parameters: [2.63913957 0.37588648]\n"
     ]
    }
   ],
   "source": [
    "import scipy\n",
    "import scipy.optimize\n",
    "\n",
    "initial_params = np.random.rand(2)\n",
    "\n",
    "print(f'Initial parameters: beta={initial_params[0]}, gamma={initial_params[1]}')\n",
    "\n",
    "result = scipy.optimize.minimize(fun=f_to_minimize,method='COBYLA',x0=initial_params)\n",
    "\n",
    "print(\"Optimal value:\", result.fun)\n",
    "print(\"Optimal parameters:\", result.x)"
   ]
  },
  {
   "cell_type": "code",
   "execution_count": 13,
   "metadata": {},
   "outputs": [
    {
     "data": {
      "image/png": "[encoded data removed]",
      "text/plain": [
       "<Figure size 640x480 with 1 Axes>"
      ]
     },
     "execution_count": 13,
     "metadata": {},
     "output_type": "execute_result"
    }
   ],
   "source": [
    "expression = 'Z0Z1'\n",
    "size = 2\n",
    "qc = QuantumCircuit(size)\n",
    "for i in range(size):\n",
    "    qc.h(i)\n",
    "qc =  create_ansatz_layer(qc,expression,0.6431375)\n",
    "for i in range(size):\n",
    "    qc.rx(2*1.17460945,i)\n",
    "    sim = AerSimulator()\n",
    "qc.measure_all()\n",
    "\n",
    "sampler = SamplerV2()\n",
    "shots =128\n",
    "\n",
    "job = sampler.run([qc],shots=shots)\n",
    "job_result = job.result()\n",
    "counts=job_result[0].data.meas.get_counts()\n",
    "\n",
    "plot_histogram(counts)"
   ]
  },
  {
   "cell_type": "markdown",
   "metadata": {},
   "source": [
    "We know that in this problem we have 2 optimal solutions: **01** and **10**, that are the only results that we measure in the last iteration, with a energy level of $-0.96$. This should mean that the methods are working fine. \n",
    "\n",
    "Definitely..., very likely..., likely..., probably..., presumably..., plausibly..., possibly..., conceivably..., maybe..., \n",
    "uncertainly..., questionably..., doubtfully..., improbably..., remotely..., dubiously..., implausibly...\n",
    "\n",
    "Seriously, I don't know if it works, it seems to work, but there is a high variability of the optimum parameters, I'm also getting substantially different results from the ones in the book, so I don't know. They also get totally different parameter values when running in a QPU, so at least I got that. At least the energy level seems consistent.\n",
    "\n",
    "---\n",
    "\n",
    "I'm going to try another example, where I know the optimal is **100**."
   ]
  },
  {
   "cell_type": "code",
   "execution_count": 20,
   "metadata": {},
   "outputs": [
    {
     "name": "stdout",
     "output_type": "stream",
     "text": [
      "Initial parameters: beta=0.993611649630799, gamma=0.09200005440720027\n",
      "Optimal value: -1.796875\n",
      "Optimal parameters: [ 0.2540503  -0.51347887]\n"
     ]
    }
   ],
   "source": [
    "def f_to_minimize(x):\n",
    "    expression = '3Z0Z2-Z1Z2+2Z0'\n",
    "    size = 3\n",
    "    qc = QuantumCircuit(size)\n",
    "    for i in range(size):\n",
    "        qc.h(i)\n",
    "    qc =  create_ansatz_layer(qc,expression,x[0])\n",
    "    for i in range(size):\n",
    "        qc.rx(2*x[1],i)\n",
    "        sim = AerSimulator()\n",
    "    qc.measure_all()\n",
    "    qc = transpile(qc,sim)\n",
    "\n",
    "    sampler = SamplerV2()\n",
    "    shots =128\n",
    "\n",
    "    job = sampler.run([qc],shots=shots)\n",
    "    job_result = job.result()\n",
    "    counts=job_result[0].data.meas.get_counts()\n",
    "    \n",
    "    energy = 0\n",
    "    for key in counts:\n",
    "        energy+= counts[key]*eval_energy(expression,key)/shots\n",
    "        \n",
    "    return energy\n",
    "\n",
    "\n",
    "initial_params = np.random.rand(2)\n",
    "\n",
    "print(f'Initial parameters: beta={initial_params[0]}, gamma={initial_params[1]}')\n",
    "\n",
    "result = scipy.optimize.minimize(fun=f_to_minimize,method='COBYLA',x0=initial_params)\n",
    "\n",
    "print(\"Optimal value:\", result.fun)\n",
    "print(\"Optimal parameters:\", result.x)"
   ]
  },
  {
   "cell_type": "code",
   "execution_count": 31,
   "metadata": {},
   "outputs": [
    {
     "data": {
      "image/png": "[encoded data removed]",
      "text/plain": [
       "<Figure size 640x480 with 1 Axes>"
      ]
     },
     "execution_count": 31,
     "metadata": {},
     "output_type": "execute_result"
    }
   ],
   "source": [
    "expression = '3Z0Z2-Z1Z2+2Z0'\n",
    "size = 3\n",
    "qc = QuantumCircuit(size)\n",
    "for i in range(size):\n",
    "    qc.h(i)\n",
    "qc =  create_ansatz_layer(qc,expression,result.x[0])\n",
    "for i in range(size):\n",
    "    qc.rx(2*-result.x[1],i)\n",
    "    sim = AerSimulator()\n",
    "qc.measure_all()\n",
    "\n",
    "sampler = SamplerV2()\n",
    "shots =128\n",
    "\n",
    "job = sampler.run([qc],shots=shots)\n",
    "job_result = job.result()\n",
    "counts=job_result[0].data.meas.get_counts()\n",
    "\n",
    "plot_histogram(counts)"
   ]
  },
  {
   "cell_type": "markdown",
   "metadata": {},
   "source": [
    "This is probably wrong."
   ]
  },
  {
   "cell_type": "markdown",
   "metadata": {},
   "source": [
    "---\n",
    "\n",
    "I think I can also allow to input the Hamiltonian using Pauli Strings, as $Z_0Z_1$ in a 3 qubit system can be expressed as the Pauli String=$ZZI$. I wasn't sure if $Z_0Z_1=Z_1Z_0$, so I tested it implementing 2 circuits with inverted control and target qubits."
   ]
  },
  {
   "cell_type": "code",
   "execution_count": 22,
   "metadata": {},
   "outputs": [
    {
     "name": "stdout",
     "output_type": "stream",
     "text": [
      "<Compressed Sparse Row sparse matrix of dtype 'complex128'\n",
      "\twith 8 stored elements and shape (8, 8)>\n",
      "  Coords\tValues\n",
      "  (0, 0)\t(3+0j)\n",
      "  (1, 1)\t(3+0j)\n",
      "  (2, 2)\t(-3+0j)\n",
      "  (3, 3)\t(-3+0j)\n",
      "  (4, 4)\t(-3+0j)\n",
      "  (5, 5)\t(-3+0j)\n",
      "  (6, 6)\t(3+0j)\n",
      "  (7, 7)\t(3+0j)\n",
      "Statevector([3.+0.j, 0.+0.j, 0.+0.j, 0.+0.j, 0.+0.j, 0.+0.j, 0.+0.j,\n",
      "             0.+0.j],\n",
      "            dims=(2, 2, 2))\n"
     ]
    }
   ],
   "source": [
    "xz = 3* SparsePauliOp(Pauli('ZZI'))\n",
    "st = Statevector.from_int(0,dims=8)\n",
    "st = st.evolve(xz)\n",
    "print(xz.to_matrix(sparse=True))\n",
    "print(st)"
   ]
  },
  {
   "cell_type": "code",
   "execution_count": 23,
   "metadata": {},
   "outputs": [
    {
     "name": "stdout",
     "output_type": "stream",
     "text": [
      "Z0Z1\n"
     ]
    }
   ],
   "source": [
    "sc = xz.to_list()[0][0].split('Z')\n",
    "exp = ''\n",
    "for i,term in enumerate(sc):\n",
    "    if term == '':\n",
    "        exp+='Z'+str(i)\n",
    "print(exp)"
   ]
  },
  {
   "cell_type": "code",
   "execution_count": 24,
   "metadata": {},
   "outputs": [
    {
     "data": {
      "image/png": "[encoded data removed]",
      "text/plain": [
       "<Figure size 538.128x200.667 with 1 Axes>"
      ]
     },
     "execution_count": 24,
     "metadata": {},
     "output_type": "execute_result"
    }
   ],
   "source": [
    "qc1 = QuantumCircuit(2)\n",
    "for i in range(2):\n",
    "    qc1.h(i)\n",
    "\n",
    "qc1.z(0)\n",
    "qc1.cx(0,1)\n",
    "qc1.rz(2,1)\n",
    "qc1.cx(0,1)\n",
    "\n",
    "qc1.draw('mpl')    "
   ]
  },
  {
   "cell_type": "code",
   "execution_count": 25,
   "metadata": {},
   "outputs": [
    {
     "data": {
      "image/png": "[encoded data removed]",
      "text/plain": [
       "<Figure size 538.128x200.667 with 1 Axes>"
      ]
     },
     "execution_count": 25,
     "metadata": {},
     "output_type": "execute_result"
    }
   ],
   "source": [
    "qc2 = QuantumCircuit(2)\n",
    "for i in range(2):\n",
    "    qc2.h(i)\n",
    "qc2.z(0)\n",
    "qc2.cx(1,0)\n",
    "qc2.rz(2,0)\n",
    "qc2.cx(1,0)\n",
    "\n",
    "qc2.draw('mpl')  "
   ]
  },
  {
   "cell_type": "code",
   "execution_count": 26,
   "metadata": {},
   "outputs": [
    {
     "name": "stdout",
     "output_type": "stream",
     "text": [
      "First circuit:\n",
      "Statevector([ 0.27015115-0.42073549j, -0.27015115-0.42073549j,\n",
      "              0.27015115+0.42073549j, -0.27015115+0.42073549j],\n",
      "            dims=(2, 2))\n",
      "Second circuit:\n",
      "Statevector([ 0.27015115-0.42073549j, -0.27015115-0.42073549j,\n",
      "              0.27015115+0.42073549j, -0.27015115+0.42073549j],\n",
      "            dims=(2, 2))\n"
     ]
    }
   ],
   "source": [
    "st1 = Statevector(qc1)\n",
    "st2 = Statevector(qc2)\n",
    "\n",
    "print('First circuit:')\n",
    "print(st1)\n",
    "print('Second circuit:')\n",
    "print(st2)"
   ]
  },
  {
   "cell_type": "code",
   "execution_count": 27,
   "metadata": {},
   "outputs": [],
   "source": [
    "qc1 = QuantumCircuit(3)\n",
    "qc2 = QuantumCircuit(3)\n",
    "for i in range(3):\n",
    "    qc1.h(i)\n",
    "    qc2.h(i)\n",
    "\n",
    "expression1='3Z0Z2-Z1Z2+2Z0'\n",
    "expression2='3Z2Z0-Z1Z2+2Z0'\n",
    "    \n",
    "qc1 = create_ansatz_layer(qc1,expression1)\n",
    "qc2 = create_ansatz_layer(qc2,expression2)\n",
    "for i in range(3):\n",
    "    qc1.rx(2,i)\n",
    "    qc2.rx(2,i)"
   ]
  },
  {
   "cell_type": "code",
   "execution_count": 28,
   "metadata": {},
   "outputs": [
    {
     "data": {
      "image/png": "[encoded data removed]",
      "text/plain": [
       "<Figure size 1123.61x284.278 with 1 Axes>"
      ]
     },
     "execution_count": 28,
     "metadata": {},
     "output_type": "execute_result"
    }
   ],
   "source": [
    "qc1.draw('mpl')"
   ]
  },
  {
   "cell_type": "code",
   "execution_count": 29,
   "metadata": {},
   "outputs": [
    {
     "data": {
      "image/png": "[encoded data removed]",
      "text/plain": [
       "<Figure size 1123.61x284.278 with 1 Axes>"
      ]
     },
     "execution_count": 29,
     "metadata": {},
     "output_type": "execute_result"
    }
   ],
   "source": [
    "qc2.draw('mpl')"
   ]
  },
  {
   "cell_type": "code",
   "execution_count": 30,
   "metadata": {},
   "outputs": [
    {
     "name": "stdout",
     "output_type": "stream",
     "text": [
      "First circuit:\n",
      "Statevector([ 0.16453747+0.10159367j, -0.61736941+0.00864046j,\n",
      "             -0.07632849+0.11539155j,  0.16453747-0.1875438j ,\n",
      "             -0.11408799-0.00864046j,  0.12677797-0.22852379j,\n",
      "              0.29303294+0.11887458j, -0.56439292-0.00864046j],\n",
      "            dims=(2, 2, 2))\n",
      "Second circuit:\n",
      "Statevector([ 0.16453747+0.10159367j, -0.61736941+0.00864046j,\n",
      "             -0.07632849+0.11539155j,  0.16453747-0.1875438j ,\n",
      "             -0.11408799-0.00864046j,  0.12677797-0.22852379j,\n",
      "              0.29303294+0.11887458j, -0.56439292-0.00864046j],\n",
      "            dims=(2, 2, 2))\n",
      "Difference:0j\n"
     ]
    }
   ],
   "source": [
    "st1 = Statevector(qc1)\n",
    "st2 = Statevector(qc2)\n",
    "\n",
    "print('First circuit:')\n",
    "print(st1)\n",
    "print('Second circuit:')\n",
    "print(st2)\n",
    "print(f'Difference:{np.sum(st1.data-st2.data)}')"
   ]
  },
  {
   "cell_type": "markdown",
   "metadata": {},
   "source": [
    "With this we confirm with high probability that the change is symmetrical, so We can implement the posibility to input the Ising Hamiltonian using Pauli Strings."
   ]
  },
  {
   "cell_type": "markdown",
   "metadata": {},
   "source": [
    "---\n",
    "\n",
    "# BioPython / BLAST"
   ]
  },
  {
   "cell_type": "code",
   "execution_count": 2,
   "metadata": {},
   "outputs": [
    {
     "name": "stdout",
     "output_type": "stream",
     "text": [
      "[[ 0.         67.82608696 78.4        65.54621849]\n",
      " [67.82608696  0.         66.66666667 72.22222222]\n",
      " [78.4        66.66666667  0.         79.66101695]\n",
      " [65.54621849 72.22222222 79.66101695  0.        ]]\n"
     ]
    }
   ],
   "source": [
    "from Bio import Align\n",
    "from Bio.Align import substitution_matrices\n",
    "from Bio import SeqIO\n",
    "import numpy as np\n",
    "import pandas as pd\n",
    "\n",
    "# Load sequences from FASTA file\n",
    "def load_sequences(fasta_file):\n",
    "    sequences = []\n",
    "    for record in SeqIO.parse(fasta_file, \"fasta\"):\n",
    "        sequences.append(str(record.seq))\n",
    "    return sequences\n",
    "\n",
    "# Compute pairwise alignment scores using BLOSUM62 and normalizing as the paper do\n",
    "def compute_distance_matrix(sequences):\n",
    "    aligner = Align.PairwiseAligner()\n",
    "    blosum62 = substitution_matrices.load(\"BLOSUM62\")\n",
    "    aligner.substitution_matrix = blosum62\n",
    "\n",
    "    n = len(sequences)\n",
    "    distance_matrix = np.zeros((n, n))\n",
    "\n",
    "    for i in range(n):\n",
    "        for j in range(n):\n",
    "            if i == j:\n",
    "                distance_matrix[i, j] = 0  # Distance with itself is 0                \n",
    "            else:\n",
    "                score = aligner.score(sequences[i], sequences[j])\n",
    "                biti = aligner.score(sequences[i], sequences[i])\n",
    "                bitj = aligner.score(sequences[j], sequences[j])\n",
    "                # Convert score to a distance (example: max_score - score)\n",
    "                distance_matrix[i, j] = 100*score/np.mean([biti,bitj])  # Negative alignment score for distance\n",
    "\n",
    "    return distance_matrix\n",
    "\n",
    "# Save the distance matrix as a CSV or visualize it\n",
    "def save_distance_matrix(matrix, labels, output_file):\n",
    "    df = pd.DataFrame(matrix, index=labels, columns=labels)\n",
    "    df.to_csv(output_file)\n",
    "    print(f\"Distance matrix saved to {output_file}\")\n",
    "\n",
    "# Main execution\n",
    "fasta_file = \"test.fasta\" \n",
    "# output_file = \"distance_matrix.csv\"\n",
    "\n",
    "sequences = load_sequences(fasta_file)\n",
    "labels = [f\"Seq{i+1}\" for i in range(len(sequences))]\n",
    "distance_matrix = compute_distance_matrix(sequences)\n",
    "print(distance_matrix)\n",
    "# save_distance_matrix(distance_matrix, labels, output_file)"
   ]
  },
  {
   "cell_type": "markdown",
   "metadata": {},
   "source": [
    "## Kinda proof"
   ]
  },
  {
   "cell_type": "code",
   "execution_count": 44,
   "metadata": {},
   "outputs": [
    {
     "name": "stdout",
     "output_type": "stream",
     "text": [
      "Constrained quadratic model: 9 variables, 0 constraints, 45 biases\n",
      "\n",
      "Objective\n",
      "  360.5215478829695*Binary(1) + 482.2225811746775*Binary(0) + 437.90652825761043*Binary(2) + 387.70395297362285*Binary(3) + 436.3714352710049*Binary(4) + 156.48227559187157*Binary(5) + 450.81015761026174*Binary(6) + 239.21891508030225*Binary(7) + 530.6517784791772*Binary(8) - 135.31810505126072*Binary(1)*Binary(0) - 57.96780548061275*Binary(1)*Binary(2) - 128.9964218872509*Binary(0)*Binary(2) - 129.1880453769479*Binary(1)*Binary(3) - 178.24312859891512*Binary(0)*Binary(3) - 11.192959808668457*Binary(2)*Binary(3) - 29.261859885079588*Binary(1)*Binary(4) - 138.89199666109943*Binary(0)*Binary(4) - 193.63476792709352*Binary(2)*Binary(4) - 188.70731667608607*Binary(3)*Binary(4) - 12.556388521594531*Binary(1)*Binary(5) - 30.801683414159008*Binary(0)*Binary(5) - 66.83292530709069*Binary(2)*Binary(5) - 37.08443526520375*Binary(3)*Binary(5) - 58.272139176653795*Binary(4)*Binary(5) - 96.6374344893705*Binary(1)*Binary(6) - 175.56208323973726*Binary(0)*Binary(6) - 156.91616506652187*Binary(2)*Binary(6) - 80.53802940451342*Binary(3)*Binary(6) - 128.67078555081778*Binary(4)*Binary(6) - 1.5502961858931963*Binary(5)*Binary(6) - 92.21554385667825*Binary(1)*Binary(7) - 9.60639280845259*Binary(0)*Binary(7) - 83.01129498700442*Binary(2)*Binary(7) - 5.356048521859291*Binary(3)*Binary(7) - 49.62558493971238*Binary(4)*Binary(7) - 61.27887537287986*Binary(5)*Binary(7) - 82.66710190198643*Binary(6)*Binary(7) - 167.8979131043948*Binary(1)*Binary(8) - 167.02535068847996*Binary(0)*Binary(8) - 177.26071605097823*Binary(2)*Binary(8) - 145.09794229505178*Binary(3)*Binary(8) - 85.6784197254672*Binary(4)*Binary(8) - 44.587807940268284*Binary(5)*Binary(8) - 179.07841938168298*Binary(6)*Binary(8) - 94.67698777203127*Binary(7)*Binary(8)\n",
      "\n",
      "Constraints\n",
      "\n",
      "Bounds\n",
      "\n",
      "    0 1 2 3 4 5 6 7 8      energy num_oc. is_sat. is_fea.\n",
      "0   0 0 0 0 0 0 0 0 0         0.0       1 arra...    True\n",
      "511 1 1 1 1 1 1 1 1 1         0.0       1 arra...    True\n",
      "32  0 0 0 0 0 1 0 0 0  156.482276       1 arra...    True\n",
      "479 1 1 1 1 1 0 1 1 1  156.482276       1 arra...    True\n",
      "128 0 0 0 0 0 0 0 1 0  239.218915       1 arra...    True\n",
      "383 1 1 1 1 1 1 1 0 1  239.218915       1 arra...    True\n",
      "160 0 0 0 0 0 1 0 1 0  334.422315       1 arra...    True\n",
      "351 1 1 1 1 1 0 1 0 1  334.422315       1 arra...    True\n",
      "509 1 0 1 1 1 1 1 1 1  360.521548       1 arra...    True\n",
      "2   0 1 0 0 0 0 0 0 0  360.521548       1 arra...    True\n",
      "8   0 0 0 1 0 0 0 0 0  387.703953       1 arra...    True\n",
      "503 1 1 1 0 1 1 1 1 1  387.703953       1 arra...    True\n",
      "16  0 0 0 0 1 0 0 0 0  436.371435       1 arra...    True\n",
      "495 1 1 1 1 0 1 1 1 1  436.371435       1 arra...    True\n",
      "4   0 0 1 0 0 0 0 0 0  437.906528       1 arra...    True\n",
      "507 1 1 0 1 1 1 1 1 1  437.906528       1 arra...    True\n",
      "64  0 0 0 0 0 0 1 0 0  450.810158       1 arra...    True\n",
      "447 1 1 1 1 1 1 0 1 1  450.810158       1 arra...    True\n",
      "510 0 1 1 1 1 1 1 1 1  482.222581       1 arra...    True\n",
      "1   1 0 0 0 0 0 0 0 0  482.222581       1 arra...    True\n",
      "34  0 1 0 0 0 1 0 0 0  504.447435       1 arra...    True\n",
      "477 1 0 1 1 1 0 1 1 1  504.447435       1 arra...    True\n",
      "40  0 0 0 1 0 1 0 0 0  507.101793       1 arra...    True\n",
      "471 1 1 1 0 1 0 1 1 1  507.101793       1 arra...    True\n",
      "381 1 0 1 1 1 1 1 0 1  507.524919       1 arra...    True\n",
      "130 0 1 0 0 0 0 0 1 0  507.524919       1 arra...    True\n",
      "36  0 0 1 0 0 1 0 0 0  527.555879       1 arra...    True\n",
      "475 1 1 0 1 1 0 1 1 1  527.555879       1 arra...    True\n",
      "256 0 0 0 0 0 0 0 0 1  530.651778       1 arra...    True\n",
      "255 1 1 1 1 1 1 1 1 0  530.651778       1 arra...    True\n",
      "48  0 0 0 0 1 1 0 0 0  534.581572       1 arra...    True\n",
      "463 1 1 1 1 0 0 1 1 1  534.581572       1 arra...    True\n",
      "162 0 1 0 0 0 1 0 1 0  590.171931       1 arra...    True\n",
      "349 1 0 1 1 1 0 1 0 1  590.171931       1 arra...    True\n",
      "132 0 0 1 0 0 0 0 1 0  594.114148       1 arra...    True\n",
      "379 1 1 0 1 1 1 1 0 1  594.114148       1 arra...    True\n",
      "96  0 0 0 0 0 1 1 0 0  605.742137       1 arra...    True\n",
      "415 1 1 1 1 1 0 0 1 1  605.742137       1 arra...    True\n",
      "192 0 0 0 0 0 0 1 1 0  607.361971       1 arra...    True\n",
      "319 1 1 1 1 1 1 0 0 1  607.361971       1 arra...    True\n",
      "478 0 1 1 1 1 0 1 1 1  607.903173       1 arra...    True\n",
      "33  1 0 0 0 0 1 0 0 0  607.903173       1 arra...    True\n",
      "10  0 1 0 1 0 0 0 0 0  619.037455       1 arra...    True\n",
      "501 1 0 1 0 1 1 1 1 1  619.037455       1 arra...    True\n",
      "136 0 0 0 1 0 0 0 1 0   621.56682       1 arra...    True\n",
      "375 1 1 1 0 1 1 1 0 1   621.56682       1 arra...    True\n",
      "164 0 0 1 0 0 1 0 1 0  622.484623       1 arra...    True\n",
      "347 1 1 0 1 1 0 1 0 1  622.484623       1 arra...    True\n",
      "144 0 0 0 0 1 0 0 1 0  625.964765       1 arra...    True\n",
      "367 1 1 1 1 0 1 1 0 1  625.964765       1 arra...    True\n",
      "24  0 0 0 1 1 0 0 0 0  635.368072       1 arra...    True\n",
      "487 1 1 1 0 0 1 1 1 1  635.368072       1 arra...    True\n",
      "288 0 0 0 0 0 1 0 0 1  642.546246       1 arra...    True\n",
      "223 1 1 1 1 1 0 1 1 0  642.546246       1 arra...    True\n",
      "176 0 0 0 0 1 1 0 1 0  662.896026       1 arra...    True\n",
      "335 1 1 1 1 0 0 1 0 1  662.896026       1 arra...    True\n",
      "384 0 0 0 0 0 0 0 1 1  675.193706       1 arra...    True\n",
      "127 1 1 1 1 1 1 1 0 0  675.193706       1 arra...    True\n",
      "168 0 0 0 1 0 1 0 1 0  679.685784       1 arra...    True\n",
      "343 1 1 1 0 1 0 1 0 1  679.685784       1 arra...    True\n",
      "20  0 0 1 0 1 0 0 0 0  680.643196       1 arra...    True\n",
      "491 1 1 0 1 0 1 1 1 1  680.643196       1 arra...    True\n",
      "9   1 0 0 1 0 0 0 0 0  691.683406       1 arra...    True\n",
      "502 0 1 1 0 1 1 1 1 1  691.683406       1 arra...    True\n",
      "56  0 0 0 1 1 1 0 0 0  696.493773       1 arra...    True\n",
      "455 1 1 1 0 0 0 1 1 1  696.493773       1 arra...    True\n",
      "224 0 0 0 0 0 1 1 1 0  701.015075       1 arra...    True\n",
      "287 1 1 1 1 1 0 0 0 1  701.015075       1 arra...    True\n",
      "508 0 0 1 1 1 1 1 1 1  707.426024       1 arra...    True\n",
      "3   1 1 0 0 0 0 0 0 0  707.426024       1 arra...    True\n",
      "382 0 1 1 1 1 1 1 0 1  711.835103       1 arra...    True\n",
      "129 1 0 0 0 0 0 0 1 0  711.835103       1 arra...    True\n",
      "459 1 1 0 1 0 0 1 1 1  712.020407       1 arra...    True\n",
      "52  0 0 1 0 1 1 0 0 0  712.020407       1 arra...    True\n",
      "445 1 0 1 1 1 1 0 1 1  714.694271       1 arra...    True\n",
      "66  0 1 0 0 0 0 1 0 0  714.694271       1 arra...    True\n",
      "253 1 0 1 1 1 1 1 1 0  723.275413       1 arra...    True\n",
      "258 0 1 0 0 0 0 0 0 1  723.275413       1 arra...    True\n",
      "416 0 0 0 0 0 1 0 1 1  725.809298       1 arra...    True\n",
      "95  1 1 1 1 1 0 1 0 0  725.809298       1 arra...    True\n",
      "42  0 1 0 1 0 1 0 0 0  725.878907       1 arra...    True\n",
      "469 1 0 1 0 1 0 1 1 1  725.878907       1 arra...    True\n",
      "68  0 0 1 0 0 0 1 0 0  731.800521       1 arra...    True\n",
      "443 1 1 0 1 1 1 0 1 1  731.800521       1 arra...    True\n",
      "6   0 1 1 0 0 0 0 0 0  740.460271       1 arra...    True\n",
      "505 1 0 0 1 1 1 1 1 1  740.460271       1 arra...    True\n",
      "180 0 0 1 0 1 1 0 1 0  757.323566       1 arra...    True\n",
      "331 1 1 0 1 0 0 1 0 1  757.323566       1 arra...    True\n",
      "446 0 1 1 1 1 1 0 1 1  757.470656       1 arra...    True\n",
      "65  1 0 0 0 0 0 1 0 0  757.470656       1 arra...    True\n",
      "72  0 0 0 1 0 0 1 0 0  757.976081       1 arra...    True\n",
      "439 1 1 1 0 1 1 0 1 1  757.976081       1 arra...    True\n",
      "80  0 0 0 0 1 0 1 0 0  758.510807       1 arra...    True\n",
      "431 1 1 1 1 0 1 0 1 1  758.510807       1 arra...    True\n",
      "138 0 1 0 1 0 0 0 1 0  760.684778       1 arra...    True\n",
      "373 1 0 1 0 1 1 1 0 1  760.684778       1 arra...    True\n",
      "18  0 1 0 0 1 0 0 0 0  767.631123       1 arra...    True\n",
      "493 1 0 1 1 0 1 1 1 1  767.631123       1 arra...    True\n",
      "264 0 0 0 1 0 0 0 0 1  773.257789       1 arra...    True\n",
      "247 1 1 1 0 1 1 1 1 0  773.257789       1 arra...    True\n",
      "125 1 0 1 1 1 1 1 0 0  775.601797       1 arra...    True\n",
      "386 0 1 0 0 0 0 0 1 1  775.601797       1 arra...    True\n",
      "350 0 1 1 1 1 0 1 0 1   776.23682       1 arra...    True\n",
      "161 1 0 0 0 0 1 0 1 0   776.23682       1 arra...    True\n",
      "317 1 0 1 1 1 1 0 0 1   779.03054       1 arra...    True\n",
      "194 0 1 0 0 0 0 1 1 0   779.03054       1 arra...    True\n",
      "17  1 0 0 0 1 0 0 0 0   779.70202       1 arra...    True\n",
      "494 0 1 1 1 0 1 1 1 1   779.70202       1 arra...    True\n",
      "41  1 0 0 1 0 1 0 0 0  780.279562       1 arra...    True\n",
      "470 0 1 1 0 1 0 1 1 1  780.279562       1 arra...    True\n",
      "148 0 0 1 0 1 0 0 1 0  787.225231       1 arra...    True\n",
      "363 1 1 0 1 0 1 1 0 1  787.225231       1 arra...    True\n",
      "11  1 1 0 1 0 0 0 0 0  787.698803       1 arra...    True\n",
      "500 0 0 1 0 1 1 1 1 1  787.698803       1 arra...    True\n",
      "5   1 0 1 0 0 0 0 0 0  791.132688       1 arra...    True\n",
      "506 0 1 0 1 1 1 1 1 1  791.132688       1 arra...    True\n",
      "260 0 0 1 0 0 0 0 0 1  791.297591       1 arra...    True\n",
      "251 1 1 0 1 1 1 1 1 0  791.297591       1 arra...    True\n",
      "25  1 0 0 1 1 0 0 0 0  800.455527       1 arra...    True\n",
      "486 0 1 1 0 0 1 1 1 1  800.455527       1 arra...    True\n",
      "320 0 0 0 0 0 0 1 0 1  802.383517       1 arra...    True\n",
      "191 1 1 1 1 1 1 0 1 0  802.383517       1 arra...    True\n",
      "134 0 1 1 0 0 0 0 1 0  804.452347       1 arra...    True\n",
      "377 1 0 0 1 1 1 1 0 1  804.452347       1 arra...    True\n",
      "196 0 0 1 0 0 0 1 1 0  805.341039       1 arra...    True\n",
      "315 1 1 0 1 1 1 0 0 1  805.341039       1 arra...    True\n",
      "170 0 1 0 1 0 1 0 1 0  806.247355       1 arra...    True\n",
      "341 1 0 1 0 1 0 1 0 1  806.247355       1 arra...    True\n",
      "93  1 0 1 1 1 0 1 0 0     813.661       1 arra...    True\n",
      "418 0 1 0 0 0 1 0 1 1     813.661       1 arra...    True\n",
      "12  0 0 1 1 0 0 0 0 0  814.417521       1 arra...    True\n",
      "499 1 1 0 0 1 1 1 1 1  814.417521       1 arra...    True\n",
      "38  0 1 1 0 0 1 0 0 0  817.553232       1 arra...    True\n",
      "473 1 0 0 1 1 0 1 1 1  817.553232       1 arra...    True\n",
      "184 0 0 0 1 1 1 0 1 0  819.452179       1 arra...    True\n",
      "327 1 1 1 0 0 0 1 0 1  819.452179       1 arra...    True\n",
      "152 0 0 0 1 1 0 0 1 0  819.605353       1 arra...    True\n",
      "359 1 1 1 0 0 1 1 0 1  819.605353       1 arra...    True\n",
      "100 0 0 1 0 0 1 1 0 0  819.899575       1 arra...    True\n",
      "411 1 1 0 1 1 0 0 1 1  819.899575       1 arra...    True\n",
      "166 0 1 1 0 0 1 0 1 0  820.266433       1 arra...    True\n",
      "345 1 0 0 1 1 0 1 0 1  820.266433       1 arra...    True\n",
      "476 0 0 1 1 1 0 1 1 1  820.550228       1 arra...    True\n",
      "35  1 1 0 0 0 1 0 0 0  820.550228       1 arra...    True\n",
      "221 1 0 1 1 1 0 1 1 0  822.613492       1 arra...    True\n",
      "290 0 1 0 0 0 1 0 0 1  822.613492       1 arra...    True\n",
      "454 0 1 1 0 0 0 1 1 1  830.779545       1 arra...    True\n",
      "57  1 0 0 1 1 1 0 0 0  830.779545       1 arra...    True\n",
      "228 0 0 1 0 0 1 1 1 0  832.161218       1 arra...    True\n",
      "283 1 1 0 1 1 0 0 0 1  832.161218       1 arra...    True\n",
      "292 0 0 1 0 0 1 0 0 1  836.359133       1 arra...    True\n",
      "219 1 1 0 1 1 0 1 1 0  836.359133       1 arra...    True\n",
      "420 0 0 1 0 0 1 0 1 1   836.61089       1 arra...    True\n",
      "91  1 1 0 1 1 0 1 0 0   836.61089       1 arra...    True\n",
      "266 0 1 0 1 0 0 0 0 1  836.693379       1 arra...    True\n",
      "245 1 0 1 0 1 1 1 1 0  836.693379       1 arra...    True\n",
      "26  0 1 0 1 1 0 0 0 0  837.439714       1 arra...    True\n",
      "485 1 0 1 0 0 1 1 1 1  837.439714       1 arra...    True\n",
      "267 1 1 0 1 0 0 0 0 1  838.329375       1 arra...    True\n",
      "244 0 0 1 0 1 1 1 1 0  838.329375       1 arra...    True\n",
      "380 0 0 1 1 1 1 1 0 1  844.823002       1 arra...    True\n",
      "131 1 1 0 0 0 0 0 1 0  844.823002       1 arra...    True\n",
      "254 0 1 1 1 1 1 1 1 0  845.849009       1 arra...    True\n",
      "257 1 0 0 0 0 0 0 0 1  845.849009       1 arra...    True\n",
      "84  0 0 1 0 1 0 1 0 0  845.866403       1 arra...    True\n",
      "427 1 1 0 1 0 1 0 1 1  845.866403       1 arra...    True\n",
      "462 0 1 1 1 0 0 1 1 1  847.110473       1 arra...    True\n",
      "49  1 0 0 0 1 1 0 0 0  847.110473       1 arra...    True\n",
      "296 0 0 0 1 0 1 0 0 1  848.067822       1 arra...    True\n",
      "215 1 1 1 0 1 0 1 1 0  848.067822       1 arra...    True\n",
      "37  1 0 1 0 0 1 0 0 0  849.980354       1 arra...    True\n",
      "474 0 1 0 1 1 0 1 1 1  849.980354       1 arra...    True\n",
      "388 0 0 1 0 0 0 0 1 1  852.828223       1 arra...    True\n",
      "123 1 1 0 1 1 1 1 0 0  852.828223       1 arra...    True\n",
      "461 1 0 1 1 0 0 1 1 1  853.284871       1 arra...    True\n",
      "50  0 1 0 0 1 1 0 0 0  853.284871       1 arra...    True\n",
      "112 0 0 0 0 1 1 1 0 0  855.170648       1 arra...    True\n",
      "399 1 1 1 1 0 0 0 1 1  855.170648       1 arra...    True\n",
      "98  0 1 0 0 0 1 1 0 0  857.069862       1 arra...    True\n",
      "413 1 0 1 1 1 0 0 1 1  857.069862       1 arra...    True\n",
      "226 0 1 0 0 0 1 1 1 0  860.127256       1 arra...    True\n",
      "285 1 0 1 1 1 0 0 0 1  860.127256       1 arra...    True\n",
      "60  0 0 1 1 1 1 0 0 0  862.739648       1 arra...    True\n",
      "451 1 1 0 0 0 0 1 1 1  862.739648       1 arra...    True\n",
      "468 0 0 1 0 1 0 1 1 1  863.738571       1 arra...    True\n",
      "43  1 1 0 1 0 1 0 0 0  863.738571       1 arra...    True\n",
      "448 0 0 0 0 0 0 1 1 1  864.258342       1 arra...    True\n",
      "63  1 1 1 1 1 1 0 0 0  864.258342       1 arra...    True\n",
      "146 0 1 0 0 1 0 0 1 0   865.00891       1 arra...    True\n",
      "365 1 0 1 1 0 1 1 0 1   865.00891       1 arra...    True\n",
      "208 0 0 0 0 1 0 1 1 0  865.437036       1 arra...    True\n",
      "303 1 1 1 1 0 1 0 0 1  865.437036       1 arra...    True\n",
      "89  1 0 0 1 1 0 1 0 0  866.494787       1 arra...    True\n",
      "422 0 1 1 0 0 1 0 1 1  866.494787       1 arra...    True\n",
      "44  0 0 1 1 0 1 0 0 0  866.982436       1 arra...    True\n",
      "467 1 1 0 0 1 0 1 1 1  866.982436       1 arra...    True\n",
      "484 0 0 1 0 0 1 1 1 1  867.209065       1 arra...    True\n",
      "27  1 1 0 1 1 0 0 0 0  867.209065       1 arra...    True\n",
      "61  1 0 1 1 1 1 0 0 0  868.028999       1 arra...    True\n",
      "450 0 1 0 0 0 0 1 1 1  868.028999       1 arra...    True\n",
      "28  0 0 1 1 1 0 0 0 0  868.446872       1 arra...    True\n",
      "483 1 1 0 0 0 1 1 1 1  868.446872       1 arra...    True\n",
      "212 0 0 1 0 1 0 1 1 0  869.781336       1 arra...    True\n",
      "299 1 1 0 1 0 1 0 0 1  869.781336       1 arra...    True\n",
      "116 0 0 1 0 1 1 1 0 0  875.693318       1 arra...    True\n",
      "395 1 1 0 1 0 0 0 1 1  875.693318       1 arra...    True\n",
      "104 0 0 0 1 0 1 1 0 0  875.823625       1 arra...    True\n",
      "407 1 1 1 0 1 0 0 1 1  875.823625       1 arra...    True\n",
      "88  0 0 0 1 1 0 1 0 0  876.969414       1 arra...    True\n",
      "423 1 1 1 0 0 1 0 1 1  876.969414       1 arra...    True\n",
      "239 1 1 1 1 0 1 1 1 0  881.344794       1 arra...    True\n",
      "272 0 0 0 0 1 0 0 0 1  881.344794       1 arra...    True\n",
      "414 0 1 1 1 1 0 0 1 1  881.600952       1 arra...    True\n",
      "97  1 0 0 0 0 1 1 0 0  881.600952       1 arra...    True\n",
      "394 0 1 0 1 0 0 0 1 1  883.663713       1 arra...    True\n",
      "117 1 0 1 0 1 1 1 0 0  883.663713       1 arra...    True\n",
      "85  1 0 1 0 1 0 1 0 0  884.638482       1 arra...    True\n",
      "426 0 1 0 1 0 1 0 1 1  884.638482       1 arra...    True\n",
      "59  1 1 0 1 1 1 0 0 0  884.976694       1 arra...    True\n",
      "452 0 0 1 0 0 0 1 1 1  884.976694       1 arra...    True\n",
      "75  1 1 0 1 0 0 1 0 0  885.771413       1 arra...    True\n",
      "436 0 0 1 0 1 1 0 1 1  885.771413       1 arra...    True\n",
      "453 1 0 1 0 0 0 1 1 1  886.009027       1 arra...    True\n",
      "58  0 1 0 1 1 1 0 0 0  886.009027       1 arra...    True\n",
      "444 0 0 1 1 1 1 0 1 1  886.036664       1 arra...    True\n",
      "67  1 1 0 0 0 0 1 0 0  886.036664       1 arra...    True\n",
      "73  1 0 0 1 0 0 1 0 0  886.393451       1 arra...    True\n",
      "438 0 1 1 0 1 1 0 1 1  886.393451       1 arra...    True\n",
      "333 1 0 1 1 0 0 1 0 1  889.383782       1 arra...    True\n",
      "178 0 1 0 0 1 1 0 1 0  889.383782       1 arra...    True\n",
      "74  0 1 0 1 0 0 1 0 0  892.672149       1 arra...    True\n",
      "437 1 0 1 0 1 1 0 1 1  892.672149       1 arra...    True\n",
      "21  1 0 1 0 1 0 0 0 0  894.977358       1 arra...    True\n",
      "490 0 1 0 1 0 1 1 1 1  894.977358       1 arra...    True\n",
      "121 1 0 0 1 1 1 1 0 0  895.268508       1 arra...    True\n",
      "390 0 1 1 0 0 0 0 1 1  895.268508       1 arra...    True\n",
      "458 0 1 0 1 0 0 1 1 1  895.552886       1 arra...    True\n",
      "53  1 0 1 0 1 1 0 0 0  895.552886       1 arra...    True\n",
      "348 0 0 1 1 1 0 1 0 1  896.668331       1 arra...    True\n",
      "163 1 1 0 0 0 1 0 1 0  896.668331       1 arra...    True\n",
      "189 1 0 1 1 1 1 0 1 0  898.369717       1 arra...    True\n",
      "322 0 1 0 0 0 0 1 0 1  898.369717       1 arra...    True\n",
      "298 0 1 0 1 0 1 0 0 1  898.947022       1 arra...    True\n",
      "213 1 0 1 0 1 0 1 1 0  898.947022       1 arra...    True\n",
      "240 0 0 0 0 1 1 1 1 0     900.818       1 arra...    True\n",
      "271 1 1 1 1 0 0 0 0 1     900.818       1 arra...    True\n",
      "188 0 0 1 1 1 1 0 1 0  902.686759       1 arra...    True\n",
      "323 1 1 0 0 0 0 1 0 1  902.686759       1 arra...    True\n",
      "252 0 0 1 1 1 1 1 1 0  903.154539       1 arra...    True\n",
      "259 1 1 0 0 0 0 0 0 1  903.154539       1 arra...    True\n",
      "318 0 1 1 1 1 1 0 0 1  904.416076       1 arra...    True\n",
      "193 1 0 0 0 0 0 1 1 0  904.416076       1 arra...    True\n",
      "29  1 0 1 1 1 0 0 0 0  904.537906       1 arra...    True\n",
      "482 0 1 0 0 0 1 1 1 1  904.537906       1 arra...    True\n",
      "187 1 1 0 1 1 1 0 1 0  906.113164       1 arra...    True\n",
      "324 0 0 1 0 0 0 1 0 1  906.113164       1 arra...    True\n",
      "200 0 0 0 1 0 0 1 1 0  909.171846       1 arra...    True\n",
      "311 1 1 1 0 1 1 0 0 1  909.171846       1 arra...    True\n",
      "69  1 0 1 0 0 0 1 0 0  909.464597       1 arra...    True\n",
      "442 0 1 0 1 1 1 0 1 1  909.464597       1 arra...    True\n",
      "265 1 0 0 1 0 0 0 0 1  910.211891       1 arra...    True\n",
      "246 0 1 1 0 1 1 1 1 0  910.211891       1 arra...    True\n",
      "392 0 0 0 1 0 0 0 1 1  912.443668       1 arra...    True\n",
      "119 1 1 1 0 1 1 1 0 0  912.443668       1 arra...    True\n",
      "352 0 0 0 0 0 1 1 0 1  912.727688       1 arra...    True\n",
      "159 1 1 1 1 1 0 0 1 0  912.727688       1 arra...    True\n",
      "480 0 0 0 0 0 1 1 1 1  913.323638       1 arra...    True\n",
      "31  1 1 1 1 1 0 0 0 0  913.323638       1 arra...    True\n",
      "137 1 0 0 1 0 0 0 1 0  915.939879       1 arra...    True\n",
      "374 0 1 1 0 1 1 1 0 1  915.939879       1 arra...    True\n",
      "325 1 0 1 0 0 0 1 0 1  916.751889       1 arra...    True\n",
      "186 0 1 0 1 1 1 0 1 0  916.751889       1 arra...    True\n",
      "198 0 1 1 0 0 0 1 1 0  919.041803       1 arra...    True\n",
      "313 1 0 0 1 1 1 0 0 1  919.041803       1 arra...    True\n",
      "139 1 1 0 1 0 0 0 1 0  919.739733       1 arra...    True\n",
      "372 0 0 1 0 1 1 1 0 1  919.739733       1 arra...    True\n",
      "182 0 1 1 0 1 1 0 1 0  925.843517       1 arra...    True\n",
      "329 1 0 0 1 0 0 1 0 1  925.843517       1 arra...    True\n",
      "262 0 1 1 0 0 0 0 0 1   925.95342       1 arra...    True\n",
      "249 1 0 0 1 1 1 1 1 0   925.95342       1 arra...    True\n",
      "424 0 0 0 1 0 1 0 1 1  925.974825       1 arra...    True\n",
      "87  1 1 1 0 1 0 1 0 0  925.974825       1 arra...    True\n",
      "81  1 0 0 0 1 0 1 0 0  926.279309       1 arra...    True\n",
      "430 0 1 1 1 0 1 0 1 1  926.279309       1 arra...    True\n",
      "222 0 1 1 1 1 0 1 1 0  926.941793       1 arra...    True\n",
      "289 1 0 0 0 0 1 0 0 1  926.941793       1 arra...    True\n",
      "154 0 1 0 1 1 0 0 1 0  929.461452       1 arra...    True\n",
      "357 1 0 1 0 0 1 1 0 1  929.461452       1 arra...    True\n",
      "330 0 1 0 1 0 0 1 0 1  931.249653       1 arra...    True\n",
      "181 1 0 1 0 1 1 0 1 0  931.249653       1 arra...    True\n",
      "230 0 1 1 0 0 1 1 1 0  933.305593       1 arra...    True\n",
      "281 1 0 0 1 1 0 0 0 1  933.305593       1 arra...    True\n",
      "340 0 0 1 0 1 0 1 0 1  934.500626       1 arra...    True\n",
      "171 1 1 0 1 0 1 0 1 0  934.500626       1 arra...    True\n",
      "304 0 0 0 0 1 1 0 0 1  934.967122       1 arra...    True\n",
      "207 1 1 1 1 0 0 1 1 0  934.967122       1 arra...    True\n",
      "203 1 1 0 1 0 0 1 1 0  935.145241       1 arra...    True\n",
      "308 0 0 1 0 1 1 0 0 1  935.145241       1 arra...    True\n",
      "280 0 0 0 1 1 0 0 0 1  935.243488       1 arra...    True\n",
      "231 1 1 1 0 0 1 1 1 0  935.243488       1 arra...    True\n",
      "165 1 0 1 0 0 1 0 1 0  935.302706       1 arra...    True\n",
      "346 0 1 0 1 1 0 1 0 1  935.302706       1 arra...    True\n",
      "120 0 0 0 1 1 1 1 0 0  936.544819       1 arra...    True\n",
      "391 1 1 1 0 0 0 0 1 1  936.544819       1 arra...    True\n",
      "70  0 1 1 0 0 0 1 0 0  937.716829       1 arra...    True\n",
      "441 1 0 0 1 1 1 0 1 1  937.716829       1 arra...    True\n",
      "133 1 0 1 0 0 0 0 1 0  937.733915       1 arra...    True\n",
      "378 0 1 0 1 1 1 1 0 1  937.733915       1 arra...    True\n",
      "316 0 0 1 1 1 1 0 0 1   940.76654       1 arra...    True\n",
      "195 1 1 0 0 0 0 1 1 0   940.76654       1 arra...    True\n",
      "190 0 1 1 1 1 1 0 1 0  942.018664       1 arra...    True\n",
      "321 1 0 0 0 0 0 1 0 1  942.018664       1 arra...    True\n",
      "169 1 0 0 1 0 1 0 1 0  943.257161       1 arra...    True\n",
      "342 0 1 1 0 1 0 1 0 1  943.257161       1 arra...    True\n",
      "326 0 1 1 0 0 0 1 0 1  944.131559       1 arra...    True\n",
      "185 1 0 0 1 1 1 0 1 0  944.131559       1 arra...    True\n",
      "124 0 0 1 1 1 1 1 0 0  945.874529       1 arra...    True\n",
      "387 1 1 0 0 0 0 0 1 1  945.874529       1 arra...    True\n",
      "276 0 0 1 0 1 0 0 0 1  948.355838       1 arra...    True\n",
      "235 1 1 0 1 0 1 1 1 0  948.355838       1 arra...    True\n",
      "356 0 0 1 0 0 1 1 0 1   949.62441       1 arra...    True\n",
      "155 1 1 0 1 1 0 0 1 0   949.62441       1 arra...    True\n",
      "202 0 1 0 1 0 0 1 1 0   951.65237       1 arra...    True\n",
      "309 1 0 1 0 1 1 0 0 1   951.65237       1 arra...    True\n",
      "312 0 0 0 1 1 1 0 0 1  951.781381       1 arra...    True\n",
      "199 1 1 1 0 0 0 1 1 0  951.781381       1 arra...    True\n",
      "92  0 0 1 1 1 0 1 0 0   953.13205       1 arra...    True\n",
      "419 1 1 0 0 0 1 0 1 1   953.13205       1 arra...    True\n",
      "22  0 1 1 0 1 0 0 0 0  953.935078       1 arra...    True\n",
      "489 1 0 0 1 0 1 1 1 1  953.935078       1 arra...    True\n",
      "214 0 1 1 0 1 0 1 1 0   954.22024       1 arra...    True\n",
      "297 1 0 0 1 0 1 0 0 1   954.22024       1 arra...    True\n",
      "172 0 0 1 1 0 1 0 1 0  956.555133       1 arra...    True\n",
      "339 1 1 0 0 1 0 1 0 1  956.555133       1 arra...    True\n",
      "504 0 0 0 1 1 1 1 1 1  958.368325       1 arra...    True\n",
      "7   1 1 1 0 0 0 0 0 0  958.368325       1 arra...    True\n",
      "294 0 1 1 0 0 1 0 0 1  958.458574       1 arra...    True\n",
      "217 1 0 0 1 1 0 1 1 0  958.458574       1 arra...    True\n",
      "145 1 0 0 0 1 0 0 1 0  959.688957       1 arra...    True\n",
      "366 0 1 1 1 0 1 1 0 1  959.688957       1 arra...    True\n",
      "404 0 0 1 0 1 0 0 1 1  960.260886       1 arra...    True\n",
      "107 1 1 0 1 0 1 1 0 0  960.260886       1 arra...    True\n",
      "328 0 0 0 1 0 0 1 0 1  964.451498       1 arra...    True\n",
      "183 1 1 1 0 1 1 0 1 0  964.451498       1 arra...    True\n",
      "140 0 0 1 1 0 0 0 1 0  965.269093       1 arra...    True\n",
      "371 1 1 0 0 1 1 1 0 1  965.269093       1 arra...    True\n",
      "232 0 0 0 1 0 1 1 1 0  965.740515       1 arra...    True\n",
      "279 1 1 1 0 1 0 0 0 1  965.740515       1 arra...    True\n",
      "334 0 1 1 1 0 0 1 0 1  965.818535       1 arra...    True\n",
      "177 1 0 0 0 1 1 0 1 0  965.818535       1 arra...    True\n",
      "410 0 1 0 1 1 0 0 1 1  966.761968       1 arra...    True\n",
      "101 1 0 1 0 0 1 1 0 0  966.761968       1 arra...    True\n",
      "286 0 1 1 1 1 0 0 0 1  967.267497       1 arra...    True\n",
      "225 1 0 0 0 0 1 1 1 0  967.267497       1 arra...    True\n",
      "150 0 1 1 0 1 0 0 1 0  968.301569       1 arra...    True\n",
      "361 1 0 0 1 0 1 1 0 1  968.301569       1 arra...    True\n",
      "79  1 1 1 1 0 0 1 0 0  968.604589       1 arra...    True\n",
      "432 0 0 0 0 1 1 0 1 1  968.604589       1 arra...    True\n",
      "282 0 1 0 1 1 0 0 0 1  969.417218       1 arra...    True\n",
      "229 1 0 1 0 0 1 1 1 0  969.417218       1 arra...    True\n",
      "156 0 0 1 1 1 0 0 1 0  969.672859       1 arra...    True\n",
      "355 1 1 0 0 0 1 1 0 1  969.672859       1 arra...    True\n",
      "220 0 0 1 1 1 0 1 1 0  971.690934       1 arra...    True\n",
      "291 1 1 0 0 0 1 0 0 1  971.690934       1 arra...    True\n",
      "54  0 1 1 0 1 1 0 0 0  972.755901       1 arra...    True\n",
      "457 1 0 0 1 0 0 1 1 1  972.755901       1 arra...    True\n",
      "197 1 0 1 0 0 0 1 1 0  973.398722       1 arra...    True\n",
      "314 0 1 0 1 1 1 0 0 1  973.398722       1 arra...    True\n",
      "105 1 0 0 1 0 1 1 0 0  973.439311       1 arra...    True\n",
      "406 0 1 1 0 1 0 0 1 1  973.439311       1 arra...    True\n",
      "153 1 0 0 1 1 0 0 1 0  975.086416       1 arra...    True\n",
      "358 0 1 1 0 0 1 1 0 1  975.086416       1 arra...    True\n",
      "492 0 0 1 1 0 1 1 1 1  975.643603       1 arra...    True\n",
      "19  1 1 0 0 1 0 0 0 0  975.643603       1 arra...    True\n",
      "111 1 1 1 1 0 1 1 0 0  976.261136       1 arra...    True\n",
      "400 0 0 0 0 1 0 0 1 1  976.261136       1 arra...    True\n",
      "248 0 0 0 1 1 1 1 1 0  976.836124       1 arra...    True\n",
      "263 1 1 1 0 0 0 0 0 1  976.836124       1 arra...    True\n",
      "261 1 0 1 0 0 0 0 0 1  977.498399       1 arra...    True\n",
      "250 0 1 0 1 1 1 1 1 0  977.498399       1 arra...    True\n",
      "216 0 0 0 1 1 0 1 1 0  978.539594       1 arra...    True\n",
      "295 1 1 1 0 0 1 0 0 1  978.539594       1 arra...    True\n",
      "440 0 0 0 1 1 1 0 1 1    980.0628       1 arra...    True\n",
      "71  1 1 1 0 0 0 1 0 0    980.0628       1 arra...    True\n",
      "126 0 1 1 1 1 1 1 0 0  980.784543       1 arra...    True\n",
      "385 1 0 0 0 0 0 0 1 1  980.784543       1 arra...    True\n",
      "90  0 1 0 1 1 0 1 0 0  982.403622       1 arra...    True\n",
      "421 1 0 1 0 0 1 0 1 1  982.403622       1 arra...    True\n",
      "14  0 1 1 1 0 0 0 0 0  987.783218       1 arra...    True\n",
      "497 1 0 0 0 1 1 1 1 1  987.783218       1 arra...    True\n",
      "13  1 0 1 1 0 0 0 0 0  989.400552       1 arra...    True\n",
      "498 0 1 0 0 1 1 1 1 1  989.400552       1 arra...    True\n",
      "284 0 0 1 1 1 0 0 0 1  991.061572       1 arra...    True\n",
      "227 1 1 0 0 0 1 1 1 0  991.061572       1 arra...    True\n",
      "218 0 1 0 1 1 0 1 1 0  991.758258       1 arra...    True\n",
      "293 1 0 1 0 0 1 0 0 1  991.758258       1 arra...    True\n",
      "149 1 0 1 0 1 0 0 1 0  991.953001       1 arra...    True\n",
      "362 0 1 0 1 0 1 1 0 1  991.953001       1 arra...    True\n",
      "398 0 1 1 1 0 0 0 1 1  992.137465       1 arra...    True\n",
      "113 1 0 0 0 1 1 1 0 0  992.137465       1 arra...    True\n",
      "82  0 1 0 0 1 0 1 0 0  993.133061       1 arra...    True\n",
      "429 1 0 1 1 0 1 0 1 1  993.133061       1 arra...    True\n",
      "62  0 1 1 1 1 1 0 0 0  994.287097       1 arra...    True\n",
      "449 1 0 0 0 0 0 1 1 1  994.287097       1 arra...    True\n",
      "234 0 1 0 1 0 1 1 1 0   995.66465       1 arra...    True\n",
      "277 1 0 1 0 1 0 0 0 1   995.66465       1 arra...    True\n",
      "157 1 0 1 1 1 0 0 1 0    996.1575       1 arra...    True\n",
      "354 0 1 0 0 0 1 1 0 1    996.1575       1 arra...    True\n",
      "412 0 0 1 1 1 0 0 1 1  997.610571       1 arra...    True\n",
      "99  1 1 0 0 0 1 1 0 0  997.610571       1 arra...    True\n",
      "344 0 0 0 1 1 0 1 0 1  997.766411       1 arra...    True\n",
      "167 1 1 1 0 0 1 0 1 0  997.766411       1 arra...    True\n",
      "106 0 1 0 1 0 1 1 0 0  997.963305       1 arra...    True\n",
      "405 1 0 1 0 1 0 0 1 1  997.963305       1 arra...    True\n",
      "94  0 1 1 1 1 0 1 0 0 1000.598452       1 arra...    True\n",
      "417 1 0 0 0 0 1 0 1 1 1000.598452       1 arra...    True\n",
      "472 0 0 0 1 1 0 1 1 1 1004.659603       1 arra...    True\n",
      "39  1 1 1 0 0 1 0 0 0 1004.659603       1 arra...    True\n",
      "301 1 0 1 1 0 1 0 0 1 1007.843745       1 arra...    True\n",
      "210 0 1 0 0 1 0 1 1 0 1007.843745       1 arra...    True\n",
      "45  1 0 1 1 0 1 0 0 0 1011.163784       1 arra...    True\n",
      "466 0 1 0 0 1 0 1 1 1 1011.163784       1 arra...    True\n",
      "30  0 1 1 1 1 0 0 0 0 1012.550709       1 arra...    True\n",
      "481 1 0 0 0 0 1 1 1 1 1012.550709       1 arra...    True\n",
      "376 0 0 0 1 1 1 1 0 1 1012.754008       1 arra...    True\n",
      "135 1 1 1 0 0 0 0 1 0 1012.754008       1 arra...    True\n",
      "102 0 1 1 0 0 1 1 0 0 1013.259494       1 arra...    True\n",
      "409 1 0 0 1 1 0 0 1 1 1013.259494       1 arra...    True\n",
      "456 0 0 0 1 0 0 1 1 1 1020.970275       1 arra...    True\n",
      "55  1 1 1 0 1 1 0 0 0 1020.970275       1 arra...    True\n",
      "158 0 1 1 1 1 0 0 1 0 1021.561152       1 arra...    True\n",
      "353 1 0 0 0 0 1 1 0 1 1021.561152       1 arra...    True\n",
      "86  0 1 1 0 1 0 1 0 0 1022.520851       1 arra...    True\n",
      "425 1 0 0 1 0 1 0 1 1 1022.520851       1 arra...    True\n",
      "268 0 0 1 1 0 0 0 0 1 1022.710642       1 arra...    True\n",
      "243 1 1 0 0 1 1 1 1 0 1022.710642       1 arra...    True\n",
      "209 1 0 0 0 1 0 1 1 0 1023.599144       1 arra...    True\n",
      "302 0 1 1 1 0 1 0 0 1 1023.599144       1 arra...    True\n",
      "175 1 1 1 1 0 1 0 1 0 1024.405747       1 arra...    True\n",
      "336 0 0 0 0 1 0 1 0 1 1024.405747       1 arra...    True\n",
      "408 0 0 0 1 1 0 0 1 1 1024.803782       1 arra...    True\n",
      "103 1 1 1 0 0 1 1 0 0 1024.803782       1 arra...    True\n",
      "174 0 1 1 1 0 1 0 1 0 1025.148897       1 arra...    True\n",
      "337 1 0 0 0 1 0 1 0 1 1025.148897       1 arra...    True\n",
      "428 0 0 1 1 0 1 0 1 1 1025.583457       1 arra...    True\n",
      "83  1 1 0 0 1 0 1 0 0 1025.583457       1 arra...    True\n",
      "77  1 0 1 1 0 0 1 0 0 1027.194432       1 arra...    True\n",
      "434 0 1 0 0 1 1 0 1 1 1027.194432       1 arra...    True\n",
      "15  1 1 1 1 0 0 0 0 0 1027.448144       1 arra...    True\n",
      "496 0 0 0 0 1 1 1 1 1 1027.448144       1 arra...    True\n",
      "76  0 0 1 1 0 0 1 0 0 1027.773485       1 arra...    True\n",
      "435 1 1 0 0 1 1 0 1 1 1027.773485       1 arra...    True\n",
      "46  0 1 1 1 0 1 0 0 0 1027.791745       1 arra...    True\n",
      "465 1 0 0 0 1 0 1 1 1 1027.791745       1 arra...    True\n",
      "201 1 0 0 1 0 0 1 1 0 1027.982822       1 arra...    True\n",
      "310 0 1 1 0 1 1 0 0 1 1027.982822       1 arra...    True\n",
      "270 0 1 1 1 0 0 0 0 1 1028.178425       1 arra...    True\n",
      "241 1 0 0 0 1 1 1 1 0 1028.178425       1 arra...    True\n",
      "389 1 0 1 0 0 0 0 1 1 1029.422639       1 arra...    True\n",
      "122 0 1 0 1 1 1 1 0 0 1029.422639       1 arra...    True\n",
      "460 0 0 1 1 0 0 1 1 1 1030.495667       1 arra...    True\n",
      "51  1 1 0 0 1 1 0 0 0 1030.495667       1 arra...    True\n",
      "269 1 0 1 1 0 0 0 0 1 1030.668322       1 arra...    True\n",
      "242 0 1 0 0 1 1 1 1 0 1030.668322       1 arra...    True\n",
      "300 0 0 1 1 0 1 0 0 1 1030.687749       1 arra...    True\n",
      "211 1 1 0 0 1 0 1 1 0 1030.687749       1 arra...    True\n",
      "488 0 0 0 1 0 1 1 1 1 1032.951136       1 arra...    True\n",
      "23  1 1 1 0 1 0 0 0 0 1032.951136       1 arra...    True\n",
      "47  1 1 1 1 0 1 0 0 0 1036.654987       1 arra...    True\n",
      "464 0 0 0 0 1 0 1 1 1 1036.654987       1 arra...    True\n",
      "360 0 0 0 1 0 1 1 0 1 1037.711234       1 arra...    True\n",
      "151 1 1 1 0 1 0 0 1 0 1037.711234       1 arra...    True\n",
      "393 1 0 0 1 0 0 0 1 1 1039.791377       1 arra...    True\n",
      "118 0 1 1 0 1 1 1 0 0 1039.791377       1 arra...    True\n",
      "237 1 0 1 1 0 1 1 1 0 1044.706569       1 arra...    True\n",
      "274 0 1 0 0 1 0 0 0 1 1044.706569       1 arra...    True\n",
      "142 0 1 1 1 0 0 0 1 0 1046.419246       1 arra...    True\n",
      "369 1 0 0 0 1 1 1 0 1 1046.419246       1 arra...    True\n",
      "109 1 0 1 1 0 1 1 0 0 1047.407367       1 arra...    True\n",
      "402 0 1 0 0 1 0 0 1 1 1047.407367       1 arra...    True\n",
      "233 1 0 0 1 0 1 1 1 0 1053.749808       1 arra...    True\n",
      "278 0 1 1 0 1 0 0 0 1 1053.749808       1 arra...    True\n",
      "332 0 0 1 1 0 0 1 0 1 1056.988185       1 arra...    True\n",
      "179 1 1 0 0 1 1 0 1 0 1056.988185       1 arra...    True\n",
      "238 0 1 1 1 0 1 1 1 0 1057.650028       1 arra...    True\n",
      "273 1 0 0 0 1 0 0 0 1 1057.650028       1 arra...    True\n",
      "364 0 0 1 1 0 1 1 0 1 1063.414996       1 arra...    True\n",
      "147 1 1 0 0 1 0 0 1 0 1063.414996       1 arra...    True\n",
      "143 1 1 1 1 0 0 0 1 0 1076.477779       1 arra...    True\n",
      "368 0 0 0 0 1 1 1 0 1 1076.477779       1 arra...    True\n",
      "397 1 0 1 1 0 0 0 1 1 1077.236513       1 arra...    True\n",
      "114 0 1 0 0 1 1 1 0 0 1077.236513       1 arra...    True\n",
      "108 0 0 1 1 0 1 1 0 0 1078.788103       1 arra...    True\n",
      "403 1 1 0 0 1 0 0 1 1 1078.788103       1 arra...    True\n",
      "396 0 0 1 1 0 0 0 1 1 1078.885225       1 arra...    True\n",
      "115 1 1 0 0 1 1 1 0 0 1078.885225       1 arra...    True\n",
      "206 0 1 1 1 0 0 1 1 0 1080.470673       1 arra...    True\n",
      "305 1 0 0 0 1 1 0 0 1 1080.470673       1 arra...    True\n",
      "236 0 0 1 1 0 1 1 1 0 1085.693698       1 arra...    True\n",
      "275 1 1 0 0 1 0 0 0 1 1085.693698       1 arra...    True\n",
      "205 1 0 1 1 0 0 1 1 0 1085.772509       1 arra...    True\n",
      "306 0 1 0 0 1 1 0 0 1 1085.772509       1 arra...    True\n",
      "173 1 0 1 1 0 1 0 1 0 1091.130087       1 arra...    True\n",
      "338 0 1 0 0 1 0 1 0 1 1091.130087       1 arra...    True\n",
      "204 0 0 1 1 0 0 1 1 0 1095.957954       1 arra...    True\n",
      "307 1 1 0 0 1 1 0 0 1 1095.957954       1 arra...    True\n",
      "78  0 1 1 1 0 0 1 0 0 1104.501747       1 arra...    True\n",
      "433 1 0 0 0 1 1 0 1 1 1104.501747       1 arra...    True\n",
      "141 1 0 1 1 0 0 0 1 0 1130.645731       1 arra...    True\n",
      "370 0 1 0 0 1 1 1 0 1 1130.645731       1 arra...    True\n",
      "110 0 1 1 1 0 1 1 0 0 1142.959977       1 arra...    True\n",
      "401 1 0 0 0 1 0 0 1 1 1142.959977       1 arra...    True\n",
      "['INTEGER', 512 rows, 512 samples, 9 variables]\n"
     ]
    }
   ],
   "source": [
    "from dimod import BinaryQuadraticModel, BINARY\n",
    "\n",
    "n = np.random.randint(3,10)\n",
    "matrix = np.random.rand(n,n)*100\n",
    "np.fill_diagonal(matrix,0) \n",
    "matrix = np.triu(matrix) + np.triu(matrix, 1).T \n",
    "\n",
    "rows = matrix.shape[0]\n",
    "var = []\n",
    "\n",
    "# if not tags:\n",
    "for i in range(rows):\n",
    "    var.append(dimod.Binary(i))\n",
    "# else:\n",
    "#     var = [dimod.Binary(i) for i in tags]\n",
    "    \n",
    "obj = BinaryQuadraticModel({},{},0.0,BINARY)\n",
    "\n",
    "for i in range(rows):\n",
    "    for j in range(i):\n",
    "        obj+=matrix[i,j]*(var[i]-var[j])**2\n",
    "\n",
    "suma = np.sum(var)      \n",
    "# Add restriction term\n",
    "# obj+=alpha*(suma-c)**2\n",
    "\n",
    "problem = dimod.ConstrainedQuadraticModel()\n",
    "\n",
    "problem.set_objective(obj)\n",
    "print(problem)\n",
    "\n",
    "solver = dimod.ExactCQMSolver()\n",
    "sol = solver.sample_cqm(problem)\n",
    "\n",
    "# We want the best feasible solution. We can filter by its feasibility and take the first element\n",
    "feas_sol = sol.filter(lambda s: s.is_feasible)\n",
    "print (feas_sol)"
   ]
  },
  {
   "cell_type": "code",
   "execution_count": 4,
   "metadata": {},
   "outputs": [],
   "source": [
    "from qiskit import QuantumCircuit\n",
    "qc = QuantumCircuit(2)\n",
    "qc.h(0)\n",
    "qc.h(1)\n",
    "qc.rx(2,0)\n",
    "qc.rx(2,1)\n",
    "tes=qc.draw('latex_source')\n",
    "f = open('aux.tex','a+')\n",
    "f.write(tes)\n",
    "f.close()"
   ]
  },
  {
   "cell_type": "code",
   "execution_count": 5,
   "metadata": {},
   "outputs": [],
   "source": [
    "qc = QuantumCircuit(2)\n",
    "qc.cx(0,1)\n",
    "qc.rx(2,1)\n",
    "qc.cx(0,1)\n",
    "tes=qc.draw('latex_source')\n",
    "f = open('aux.tex','a+')\n",
    "f.write(tes)\n",
    "f.close()"
   ]
  },
  {
   "cell_type": "markdown",
   "metadata": {},
   "source": [
    "---\n",
    "## Stuff for the presentation\n"
   ]
  },
  {
   "cell_type": "code",
   "execution_count": 18,
   "metadata": {},
   "outputs": [
    {
     "data": {
      "image/png": "[encoded data removed]",
      "text/plain": [
       "<Figure size 500x500 with 1 Axes>"
      ]
     },
     "execution_count": 18,
     "metadata": {},
     "output_type": "execute_result"
    }
   ],
   "source": [
    "import numpy as np\n",
    "from qiskit.visualization import plot_bloch_vector\n",
    "cero = np.array([1,np.pi/2,np.pi])\n",
    "uno = np.array([0,0,-1])\n",
    "\n",
    "plot_bloch_vector(cero,coord_type='spherical')\n",
    "# plot_bloch_vector(uno)"
   ]
  }
 ],
 "metadata": {
  "kernelspec": {
   "display_name": "Python 3",
   "language": "python",
   "name": "python3"
  },
  "language_info": {
   "codemirror_mode": {
    "name": "ipython",
    "version": 3
   },
   "file_extension": ".py",
   "mimetype": "text/x-python",
   "name": "python",
   "nbconvert_exporter": "python",
   "pygments_lexer": "ipython3",
   "version": "3.12.7"
  }
 },
 "nbformat": 4,
 "nbformat_minor": 2
}
