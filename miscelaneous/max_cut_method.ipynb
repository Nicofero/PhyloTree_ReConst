{
 "cells": [
  {
   "cell_type": "markdown",
   "id": "f8458df1",
   "metadata": {},
   "source": [
    "# Max Cut approach\n",
    "\n",
    "After testing the NMcut, I wondered if Maxcut could be used directly to solve the splitting of the distance matrix."
   ]
  },
  {
   "cell_type": "markdown",
   "id": "8359eaeb",
   "metadata": {},
   "source": [
    "---\n",
    "\n",
    "Here, we'll make use of a distance matrix directly, so we need new functions to calculate it. However, as all the elements in the matrix are normalized between 0 and 100, we can directly invert the elements of all the matrices."
   ]
  },
  {
   "cell_type": "code",
   "execution_count": 34,
   "id": "d310d11c",
   "metadata": {},
   "outputs": [],
   "source": [
    "import os, sys, re, time\n",
    "import numpy as np\n",
    "sys.path.append('../')\n",
    "from qa_functions import TreeNode, treecmp, Timer"
   ]
  },
  {
   "cell_type": "code",
   "execution_count": null,
   "id": "5dccb11d",
   "metadata": {},
   "outputs": [],
   "source": [
    "for i in range(8,40):\n",
    "    \n",
    "    os.makedirs(f'../distance_matrices/{i}', exist_ok=True)\n",
    "\n",
    "file_names = os.listdir('../matrices')\n",
    "\n",
    "for folder in file_names:\n",
    "    files = os.listdir(f'../matrices/{folder}')\n",
    "    for file in files:\n",
    "        # Load the sequences\n",
    "        distance_matrix = np.load(f'../matrices/{folder}/{file}')\n",
    "        # Invert the matrix\n",
    "        distance_matrix = 100 - distance_matrix\n",
    "        # Save the inverted matrix\n",
    "        np.save(f'../distance_matrices/{folder}/{file}', distance_matrix)\n",
    "\n",
    "        del distance_matrix"
   ]
  },
  {
   "cell_type": "markdown",
   "id": "1484291f",
   "metadata": {},
   "source": [
    "---\n",
    "\n",
    "We now have the distance matrix created from the alignments. Now we've got to define the new optimization problem using the max cut as a basis:\n",
    "\n",
    "$$Max_{cut}=\\sum_{i=1}^{n-1}\\sum_{j=0}^{i-1}D_{ij}z_iz_j,\\quad z_i\\in \\{-1,1\\}.$$\n",
    "\n",
    "We need to minimize this expression, therefore, our problems can be defined as:\n",
    "\n",
    "$$\\min Max_{cut}$$"
   ]
  },
  {
   "cell_type": "code",
   "execution_count": 5,
   "id": "ec32195f",
   "metadata": {},
   "outputs": [
    {
     "name": "stdout",
     "output_type": "stream",
     "text": [
      "[[100.          39.87122338  40.2281746   40.34482759  41.00861009\n",
      "   39.31307141  41.67283494  63.93361407]\n",
      " [ 39.87122338 100.           2.73224044  39.61519487  40.82286277\n",
      "   44.0732492   46.8248085   68.59340114]\n",
      " [ 40.2281746    2.73224044 100.          40.76086957  41.7221811\n",
      "   45.13011152  47.73570898  68.09937888]\n",
      " [ 40.34482759  39.61519487  40.76086957 100.           6.00343053\n",
      "   43.78538026  48.09535512  68.51714779]\n",
      " [ 41.00861009  40.82286277  41.7221811    6.00343053 100.\n",
      "   46.01769912  50.22091311  70.2316412 ]\n",
      " [ 39.31307141  44.0732492   45.13011152  43.78538026  46.01769912\n",
      "  100.          12.17948718  67.97029703]\n",
      " [ 41.67283494  46.8248085   47.73570898  48.09535512  50.22091311\n",
      "   12.17948718 100.          70.09391992]\n",
      " [ 63.93361407  68.59340114  68.09937888  68.51714779  70.2316412\n",
      "   67.97029703  70.09391992 100.        ]]\n"
     ]
    }
   ],
   "source": [
    "print(distance_matrix)"
   ]
  },
  {
   "cell_type": "code",
   "execution_count": 7,
   "id": "fb8d3618",
   "metadata": {},
   "outputs": [
    {
     "name": "stdout",
     "output_type": "stream",
     "text": [
      "BinaryQuadraticModel({1: 0.0, 0: 0.0, 2: 0.0, 3: 0.0, 4: 0.0, 5: 0.0, 6: 0.0, 7: 0.0}, {(0, 1): 39.87122337790986, (2, 1): 2.7322404371584668, (2, 0): 40.2281746031746, (3, 1): 39.615194869264926, (3, 0): 40.3448275862069, (3, 2): 40.76086956521739, (4, 1): 40.82286277408229, (4, 0): 41.00861008610086, (4, 2): 41.72218110041944, (4, 3): 6.00343053173242, (5, 1): 44.07324919574363, (5, 0): 39.31307141092167, (5, 2): 45.13011152416357, (5, 3): 43.78538026089097, (5, 4): 46.017699115044245, (6, 1): 46.824808500123545, (6, 0): 41.67283493708364, (6, 2): 47.73570898292502, (6, 3): 48.09535512410912, (6, 4): 50.220913107511045, (6, 5): 12.179487179487182, (7, 1): 68.59340114115604, (7, 0): 63.93361406985385, (7, 2): 68.09937888198758, (7, 3): 68.51714779175919, (7, 4): 70.23164120256284, (7, 5): 67.97029702970298, (7, 6): 70.09391992090954}, 0.0, 'SPIN')\n"
     ]
    }
   ],
   "source": [
    "import dimod\n",
    "from dimod import BinaryQuadraticModel, BINARY, SPIN\n",
    "from dimod import ExactDQMSolver\n",
    "\n",
    "distance_matrix = np.load('../distance_matrices/8/matrix_1822.npy')\n",
    "J = {}\n",
    "# Create the J dict for the BQM\n",
    "for i in range(len(distance_matrix)):\n",
    "    for j in range(i):\n",
    "        if distance_matrix[i][j] != 0:\n",
    "            J[(i, j)] = distance_matrix[i][j] \n",
    "\n",
    "model = BinaryQuadraticModel({},J,0.0,SPIN)\n",
    "print(model)"
   ]
  },
  {
   "cell_type": "code",
   "execution_count": 11,
   "id": "d91c545e",
   "metadata": {},
   "outputs": [
    {
     "name": "stdout",
     "output_type": "stream",
     "text": [
      "BinaryQuadraticModel({'1': -282.53298029543873, '0': -306.3723560712514, '2': -286.4086650950461, '3': -287.1222057291809, '4': -296.02733791745317, '5': -298.4692957159542, '6': -316.8230277521491, '7': -477.43940003793205}, {('0', '1'): 79.74244675581971, ('2', '1'): 5.4644808743169335, ('2', '0'): 80.4563492063492, ('3', '1'): 79.23038973852985, ('3', '0'): 80.6896551724138, ('3', '2'): 81.52173913043478, ('4', '1'): 81.64572554816458, ('4', '0'): 82.01722017220172, ('4', '2'): 83.44436220083888, ('4', '3'): 12.00686106346484, ('5', '1'): 88.14649839148726, ('5', '0'): 78.62614282184335, ('5', '2'): 90.26022304832713, ('5', '3'): 87.57076052178193, ('5', '4'): 92.03539823008849, ('6', '1'): 93.64961700024709, ('6', '0'): 83.34566987416729, ('6', '2'): 95.47141796585004, ('6', '3'): 96.19071024821824, ('6', '4'): 100.44182621502209, ('6', '5'): 24.358974358974365, ('7', '1'): 137.18680228231207, ('7', '0'): 127.8672281397077, ('7', '2'): 136.19875776397515, ('7', '3'): 137.03429558351837, ('7', '4'): 140.46328240512568, ('7', '5'): 135.94059405940595, ('7', '6'): 140.18783984181908}, 0.0, 'BINARY')\n"
     ]
    }
   ],
   "source": [
    "var = []\n",
    "    \n",
    "for i in range(8):\n",
    "    var.append(dimod.Binary(str(i)))\n",
    "    \n",
    "obj = BinaryQuadraticModel({},{},0.0,BINARY)\n",
    "\n",
    "for i in range(8):\n",
    "    for j in range(i):\n",
    "        obj+=-distance_matrix[i,j]*(var[i]-var[j])**2\n",
    "print(obj)"
   ]
  },
  {
   "cell_type": "markdown",
   "id": "70ba4ce7",
   "metadata": {},
   "source": [
    "Ok, we have transformed the Ising $Max_{cut}$ formulation into a QUBO formulation, easier to work with. Also, using this QUBO formulation we can use the CQM solver."
   ]
  },
  {
   "cell_type": "code",
   "execution_count": 23,
   "id": "bba54845",
   "metadata": {},
   "outputs": [
    {
     "name": "stdout",
     "output_type": "stream",
     "text": [
      "{'0': np.int64(0), '1': np.int64(1), '2': np.int64(1), '3': np.int64(1), '4': np.int64(1), '5': np.int64(0), '6': np.int64(0), '7': np.int64(0)}\n"
     ]
    }
   ],
   "source": [
    "test = dimod.ConstrainedQuadraticModel()\n",
    "test.set_objective(obj)\n",
    "\n",
    "solver = dimod.ExactCQMSolver()\n",
    "sol = solver.sample_cqm(test)\n",
    "\n",
    "# We want the best feasible solution. We can filter by its feasibility and take the first element\n",
    "feas_sol = sol.filter(lambda s: s.is_feasible)\n",
    "print(feas_sol.first.sample)"
   ]
  },
  {
   "cell_type": "markdown",
   "id": "d05f2b5c",
   "metadata": {},
   "source": [
    "We have one problem, this formulation seems to prefer balanced solutions, as expected, and this might not be the best, however, if we use the Ncut we arrive at the same problem as before. So let's create the architecture."
   ]
  },
  {
   "cell_type": "code",
   "execution_count": 19,
   "id": "c242b7df",
   "metadata": {},
   "outputs": [],
   "source": [
    "def max_cut (matrix:np.ndarray,tags=[])->BinaryQuadraticModel:\n",
    "    r\"\"\"\n",
    "    Creates a BinaryQuadraticModel from a numpy matrix using the Max-cut formulation. Both simmetrical matrices and matrices with 0 above the main diagonal work.\n",
    "    \n",
    "    Args:\n",
    "        `matrix`: Matrix that defines the problem.\n",
    "        `tags`: Optional list of tags for the variables. If not provided, the variables will be named as `Binary(0)`, `Binary(1)`, etc.\n",
    "    \n",
    "    Returns:\n",
    "        The BinaryQuadraticModel from dimod that defines the problem.\n",
    "    \"\"\"\n",
    "    \n",
    "    rows = matrix.shape[0]\n",
    "    var = []\n",
    "    \n",
    "    if not tags:\n",
    "        for i in range(rows):\n",
    "            var.append(dimod.Binary(i))\n",
    "    else:\n",
    "        var = [dimod.Binary(i) for i in tags]\n",
    "    obj = BinaryQuadraticModel({},{},0.0,BINARY)\n",
    "    \n",
    "    for i in range(rows):\n",
    "        for j in range(i):\n",
    "            obj+=-matrix[i,j]*(var[i]-var[j])**2\n",
    "            \n",
    "    return obj"
   ]
  },
  {
   "cell_type": "code",
   "execution_count": 40,
   "id": "17eb6659",
   "metadata": {},
   "outputs": [],
   "source": [
    "def bf_max_phylo_tree(matrix,tags=[],**kwargs):\n",
    "    r\"\"\"\n",
    "    Recursive function that uses D-Wave brute force solver to create the Phylogenetic tree using Ncut.\n",
    "    \n",
    "    Args:\n",
    "        `matrix`: The matrix defining the graph.\n",
    "        `tags`: Tags defining the names of the nodes, used for recursivity. **MUST BE AN INT LIST**\n",
    "        \n",
    "    Returns:\n",
    "        The `TreeNode` containing the full tree. \n",
    "    \"\"\"\n",
    "    solver = dimod.ExactCQMSolver()\n",
    "    \n",
    "    if not tags:\n",
    "        sub_mat = matrix\n",
    "    else:\n",
    "        sub_mat = matrix[np.ix_(tags, tags)]\n",
    "        \n",
    "    rows = sub_mat.shape[0]\n",
    "    \n",
    "    var = int(np.floor(rows/2.0))+1\n",
    "    \n",
    "    alpha = rows*100\n",
    "\n",
    "    # Run max_cut\n",
    "    \n",
    "    if 'timer' in kwargs:\n",
    "        start = time.time_ns()/1000000\n",
    "        \n",
    "    if not tags:\n",
    "        problem = max_cut(sub_mat)\n",
    "    else:\n",
    "        problem = max_cut(sub_mat,tags=tags)\n",
    "        \n",
    "    model = dimod.ConstrainedQuadraticModel()\n",
    "    model.set_objective(problem)\n",
    "    sol = solver.sample_cqm(model)\n",
    "\n",
    "    # We want the best feasible solution. We can filter by its feasibility and take the first element\n",
    "    feas_sol = sol.filter(lambda s: s.is_feasible)\n",
    "    \n",
    "    if 'timer' in kwargs:\n",
    "        end = time.time_ns()/1000000\n",
    "        kwargs['timer'].update(end-start)\n",
    "        \n",
    "    n_graph_0 = [j for j in feas_sol.first.sample if feas_sol.first.sample[j]==0]\n",
    "    n_graph_1 = [j for j in feas_sol.first.sample if feas_sol.first.sample[j]==1]\n",
    "    # print(f'\\tLa division es: {n_graph_0} | {n_graph_1}')\n",
    "    \n",
    "    node = TreeNode(tags)\n",
    "    \n",
    "    # Recursivity in the first graph\n",
    "    if len(n_graph_0) > 2:\n",
    "        if 'timer' in kwargs:\n",
    "            node.children.append(bf_max_phylo_tree(matrix,n_graph_0,timer=kwargs['timer']))\n",
    "        else:\n",
    "            node.children.append(bf_max_phylo_tree(matrix,n_graph_0))\n",
    "    else:\n",
    "        leaf = TreeNode(n_graph_0)\n",
    "        if len(n_graph_0) == 2:\n",
    "            leaf.children.append(TreeNode([n_graph_0[0]]))\n",
    "            leaf.children.append(TreeNode([n_graph_0[1]]))\n",
    "        node.children.append(leaf)\n",
    "        \n",
    "    # Recursivity in the first graph\n",
    "    if len(n_graph_1) > 2:\n",
    "        if 'timer' in kwargs:\n",
    "            node.children.append(bf_max_phylo_tree(matrix,n_graph_1,timer=kwargs['timer']))\n",
    "        else:\n",
    "            node.children.append(bf_max_phylo_tree(matrix,n_graph_1))\n",
    "    else:\n",
    "        leaf = TreeNode(n_graph_1)\n",
    "        if len(n_graph_1) == 2:\n",
    "            leaf.children.append(TreeNode([n_graph_1[0]]))\n",
    "            leaf.children.append(TreeNode([n_graph_1[1]]))\n",
    "        node.children.append(leaf)\n",
    "    \n",
    "    return node"
   ]
  },
  {
   "cell_type": "code",
   "execution_count": 33,
   "id": "71cdaa0a",
   "metadata": {},
   "outputs": [
    {
     "name": "stdout",
     "output_type": "stream",
     "text": [
      "\tLa division es: [0, 5, 6, 7] | [1, 2, 3, 4]\n",
      "\tLa division es: [0, 7] | [5, 6]\n",
      "\tLa division es: [3, 4] | [1, 2]\n",
      "└── |\n",
      "    ├── |\n",
      "    │   ├── |\n",
      "    │   │   ├── [0]\n",
      "    │   │   └── [7]\n",
      "    │   └── |\n",
      "    │       ├── [5]\n",
      "    │       └── [6]\n",
      "    └── |\n",
      "        ├── |\n",
      "        │   ├── [3]\n",
      "        │   └── [4]\n",
      "        └── |\n",
      "            ├── [1]\n",
      "            └── [2]\n"
     ]
    }
   ],
   "source": [
    "tree = bf_max_phylo_tree(distance_matrix)\n",
    "tree.print_tree()\n",
    "tree.create_newick_file('testing.nwl')"
   ]
  },
  {
   "cell_type": "code",
   "execution_count": 35,
   "id": "a79219a4",
   "metadata": {},
   "outputs": [
    {
     "name": "stdout",
     "output_type": "stream",
     "text": [
      "The Robinson-Foulds distance bewteen the Ncut with BF tree and the ground truth tree is \u001b[1m100.0\u001b[22m\n"
     ]
    }
   ],
   "source": [
    "with open(f'./testing.nwl','r') as fp:\n",
    "    bf_tree = fp.read()\n",
    "\n",
    "with open(f'../trees/8/tree_best_1822.newick','r') as fp:\n",
    "    biotree = fp.read()\n",
    "    \n",
    "\n",
    "biotree = re.sub(r'taxon([0-9]+)',lambda match: str(int(match.group(1)) - 1),biotree)\n",
    "biotree = re.sub(r':[0-9]\\.[0-9]+(e-[0-9]+)*',r'',biotree)\n",
    "# print(biotree)\n",
    "dist = treecmp(bf_tree,biotree)\n",
    "print(f'The Robinson-Foulds distance bewteen the Ncut with BF tree and the ground truth tree is \\033[1m{dist}\\033[22m')"
   ]
  },
  {
   "cell_type": "markdown",
   "id": "31543b51",
   "metadata": {},
   "source": [
    "Wow, this seems good, let's see what it does to all other trees."
   ]
  },
  {
   "cell_type": "code",
   "execution_count": 41,
   "id": "6db45e0f",
   "metadata": {},
   "outputs": [
    {
     "name": "stdout",
     "output_type": "stream",
     "text": [
      "Generating tree from: matrix_10618.npy\n",
      "Generating tree from: matrix_41388.npy\n",
      "Generating tree from: matrix_45255.npy\n",
      "Generating tree from: matrix_48947.npy\n",
      "Generating tree from: matrix_1.npy\n",
      "Generating tree from: matrix_10240.npy\n",
      "Generating tree from: matrix_29684.npy\n",
      "Generating tree from: matrix_48363.npy\n",
      "Generating tree from: matrix_11027.npy\n",
      "Generating tree from: matrix_11191.npy\n"
     ]
    }
   ],
   "source": [
    "file_names = os.listdir('../distance_matrices')\n",
    "\n",
    "for folder in file_names:\n",
    "    files = os.listdir(f'../distance_matrices/{folder}')\n",
    "    if int(folder) > 16 and int(folder) < 25:\n",
    "        for file in files:\n",
    "            # Load the matrix\n",
    "            distance_matrix = np.load(f'../distance_matrices/{folder}/{file}')\n",
    "\n",
    "            print(f'Generating tree from: {file}')\n",
    "            # Create the tree\n",
    "            tree_bf = bf_max_phylo_tree(distance_matrix)\n",
    "\n",
    "            file_ext = re.search(r'_([0-9]+)\\.',file).group(1)\n",
    "            new_file = f'max_bf_tree_{file_ext}.newick'\n",
    "            tree_bf.create_newick_file(f'../trees/{folder}/{new_file}')\n",
    "\n",
    "            del distance_matrix"
   ]
  },
  {
   "cell_type": "code",
   "execution_count": 43,
   "id": "ff137694",
   "metadata": {},
   "outputs": [
    {
     "name": "stdout",
     "output_type": "stream",
     "text": [
      "Comparation between max_bf_tree_28864.newick and tree_best_28864.newick is done\n",
      "Comparation between max_bf_tree_11523.newick and tree_best_11523.newick is done\n",
      "Comparation between max_bf_tree_7791.newick and tree_best_7791.newick is done\n",
      "Comparation between max_bf_tree_13951.newick and tree_best_13951.newick is done\n",
      "Comparation between max_bf_tree_10953.newick and tree_best_10953.newick is done\n",
      "Comparation between max_bf_tree_11018.newick and tree_best_11018.newick is done\n",
      "Comparation between max_bf_tree_1822.newick and tree_best_1822.newick is done\n",
      "Comparation between max_bf_tree_32709.newick and tree_best_32709.newick is done\n"
     ]
    }
   ],
   "source": [
    "from collections import defaultdict\n",
    "import os\n",
    "\n",
    "file_names = os.listdir('../trees')\n",
    "# with open(f'../metrics/RF-distance_bf_maxcut.csv','w+') as fp:\n",
    "#     fp.write('size,id,RF\\n')\n",
    "\n",
    "# Remove the folder test\n",
    "file_names = file_names[:-2]\n",
    "\n",
    "for folder in file_names:\n",
    "    files = os.listdir(f'../trees/{folder}')\n",
    "    if int(folder) >7 and int(folder) < 16:\n",
    "        trees = defaultdict(list)\n",
    "        for file in files:\n",
    "            name, ext = os.path.splitext(file)\n",
    "            fields = name.split('_')\n",
    "            # print(fields)\n",
    "            if (fields[0] == 'max') or fields[0]=='tree':\n",
    "                trees[fields[-1]].append(file)\n",
    "        # print(trees)\n",
    "        for key in trees.keys():\n",
    "            print(f'Comparation between {trees[key][0]} and {trees[key][1]} is done')\n",
    "            with open(f'../trees/{folder}/{trees[key][0]}','r') as fp:\n",
    "                qa_tree = fp.read()\n",
    "\n",
    "            with open(f'../trees/{folder}/{trees[key][1]}','r') as fp:\n",
    "                biotree = fp.read()\n",
    "\n",
    "            biotree = re.sub(r'taxon([0-9]+)',lambda match: str(int(match.group(1)) - 1),biotree)\n",
    "            biotree = re.sub(r':[0-9]\\.[0-9]+(e-[0-9]+)*',r'',biotree)\n",
    "            # print(biotree)\n",
    "            dist = treecmp(qa_tree,biotree)\n",
    "            \n",
    "            with open(f'../metrics/RF-distance_bf_maxcut.csv','a') as fp:\n",
    "                fp.write(f'{folder},{key},{dist}\\n')\n",
    "\n",
    "            # print(f'The Robinson-Foulds distance bewteen the Ncut with QA tree and the Neighbor-Joining tree is \\033[1m{dist}\\033[22m')"
   ]
  }
 ],
 "metadata": {
  "kernelspec": {
   "display_name": "Python 3",
   "language": "python",
   "name": "python3"
  },
  "language_info": {
   "codemirror_mode": {
    "name": "ipython",
    "version": 3
   },
   "file_extension": ".py",
   "mimetype": "text/x-python",
   "name": "python",
   "nbconvert_exporter": "python",
   "pygments_lexer": "ipython3",
   "version": "3.12.7"
  }
 },
 "nbformat": 4,
 "nbformat_minor": 5
}
