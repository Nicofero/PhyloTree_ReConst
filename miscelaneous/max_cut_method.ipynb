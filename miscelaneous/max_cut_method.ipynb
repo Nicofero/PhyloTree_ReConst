{
 "cells": [
  {
   "cell_type": "markdown",
   "id": "f8458df1",
   "metadata": {},
   "source": [
    "# Max Cut approach\n",
    "\n",
    "After testing the NMcut, I wondered if Maxcut could be used directly to solve the splitting of the distance matrix."
   ]
  },
  {
   "cell_type": "markdown",
   "id": "8359eaeb",
   "metadata": {},
   "source": [
    "---\n",
    "\n",
    "Here, we'll make use of a distance matrix directly, so we need new functions to calculate it. However, as all the elements in the matrix are normalized between 0 and 100, we can directly invert the elements of all the matrices."
   ]
  },
  {
   "cell_type": "code",
   "execution_count": 1,
   "id": "d310d11c",
   "metadata": {},
   "outputs": [],
   "source": [
    "import os, sys\n",
    "import numpy as np\n",
    "sys.path.append('../')"
   ]
  },
  {
   "cell_type": "code",
   "execution_count": null,
   "id": "5dccb11d",
   "metadata": {},
   "outputs": [],
   "source": [
    "for i in range(8,40):\n",
    "    \n",
    "    os.makedirs(f'../distance_matrices/{i}', exist_ok=True)\n",
    "\n",
    "file_names = os.listdir('../matrices')\n",
    "\n",
    "for folder in file_names:\n",
    "    files = os.listdir(f'../matrices/{folder}')\n",
    "    for file in files:\n",
    "        # Load the sequences\n",
    "        distance_matrix = np.load(f'../matrices/{folder}/{file}')\n",
    "        # Invert the matrix\n",
    "        distance_matrix = 100 - distance_matrix\n",
    "        # Save the inverted matrix\n",
    "        np.save(f'../distance_matrices/{folder}/{file}', distance_matrix)\n",
    "\n",
    "        del distance_matrix"
   ]
  },
  {
   "cell_type": "markdown",
   "id": "1484291f",
   "metadata": {},
   "source": [
    "---\n",
    "\n",
    "We now have the distance matrix created from the alignments. Now we've got to define the new optimization problem using the max cut as a basis:\n",
    "\n",
    "$$Max_{cut}=\\sum_{i=1}^{n-1}\\sum_{j=0}^{i-1}D_{ij}z_iz_j,\\quad z_i\\in \\{-1,1\\}.$$\n",
    "\n",
    "We need to minimize this expression, therefore, our problems can be defined as:\n",
    "\n",
    "$$\\min Max_{cut}$$"
   ]
  },
  {
   "cell_type": "code",
   "execution_count": null,
   "id": "fb8d3618",
   "metadata": {},
   "outputs": [
    {
     "name": "stdout",
     "output_type": "stream",
     "text": [
      "BinaryQuadraticModel({1: 0.0, 0: 0.0, 2: 0.0, 3: 0.0, 4: 0.0, 5: 0.0, 6: 0.0, 7: 0.0}, {(0, 1): 39.87122337790986, (2, 1): 2.7322404371584668, (2, 0): 40.2281746031746, (3, 1): 39.615194869264926, (3, 0): 40.3448275862069, (3, 2): 40.76086956521739, (4, 1): 40.82286277408229, (4, 0): 41.00861008610086, (4, 2): 41.72218110041944, (4, 3): 6.00343053173242, (5, 1): 44.07324919574363, (5, 0): 39.31307141092167, (5, 2): 45.13011152416357, (5, 3): 43.78538026089097, (5, 4): 46.017699115044245, (6, 1): 46.824808500123545, (6, 0): 41.67283493708364, (6, 2): 47.73570898292502, (6, 3): 48.09535512410912, (6, 4): 50.220913107511045, (6, 5): 12.179487179487182, (7, 1): 68.59340114115604, (7, 0): 63.93361406985385, (7, 2): 68.09937888198758, (7, 3): 68.51714779175919, (7, 4): 70.23164120256284, (7, 5): 67.97029702970298, (7, 6): 70.09391992090954}, 0.0, 'SPIN')\n"
     ]
    }
   ],
   "source": [
    "import dimod\n",
    "from dimod import BinaryQuadraticModel, BINARY, SPIN\n",
    "from dimod import ExactDQMSolver\n",
    "\n",
    "distance_matrix = np.load('../distance_matrices/8/matrix_1822.npy')\n",
    "J = {}\n",
    "# Create the J dict for the BQM\n",
    "for i in range(len(distance_matrix)):\n",
    "    for j in range(i):\n",
    "        if distance_matrix[i][j] != 0:\n",
    "            J[(i, j)] = distance_matrix[i][j]  \n",
    "\n",
    "model = BinaryQuadraticModel({},J,0.0,SPIN)\n",
    "print(model)"
   ]
  },
  {
   "cell_type": "code",
   "execution_count": 14,
   "id": "bba54845",
   "metadata": {},
   "outputs": [
    {
     "ename": "TypeError",
     "evalue": "'int' object is not callable",
     "output_type": "error",
     "traceback": [
      "\u001b[1;31m---------------------------------------------------------------------------\u001b[0m",
      "\u001b[1;31mTypeError\u001b[0m                                 Traceback (most recent call last)",
      "Cell \u001b[1;32mIn[14], line 2\u001b[0m\n\u001b[0;32m      1\u001b[0m solver \u001b[38;5;241m=\u001b[39m dimod\u001b[38;5;241m.\u001b[39mExactDQMSolver()\n\u001b[1;32m----> 2\u001b[0m sol \u001b[38;5;241m=\u001b[39m \u001b[43msolver\u001b[49m\u001b[38;5;241;43m.\u001b[39;49m\u001b[43msample_dqm\u001b[49m\u001b[43m(\u001b[49m\u001b[43mmodel\u001b[49m\u001b[43m)\u001b[49m\n\u001b[0;32m      4\u001b[0m \u001b[38;5;66;03m# We want the best feasible solution. We can filter by its feasibility and take the first element\u001b[39;00m\n\u001b[0;32m      5\u001b[0m feas_sol \u001b[38;5;241m=\u001b[39m sol\u001b[38;5;241m.\u001b[39mfilter(\u001b[38;5;28;01mlambda\u001b[39;00m s: s\u001b[38;5;241m.\u001b[39mis_feasible)\n",
      "File \u001b[1;32mc:\\Users\\nicolas.fernandez\\AppData\\Local\\Programs\\Python\\Python312\\Lib\\site-packages\\dimod\\reference\\samplers\\exact_solver.py:174\u001b[0m, in \u001b[0;36mExactDQMSolver.sample_dqm\u001b[1;34m(self, dqm, **kwargs)\u001b[0m\n\u001b[0;32m    162\u001b[0m \u001b[38;5;250m\u001b[39m\u001b[38;5;124;03m\"\"\"Sample from a discrete quadratic model.\u001b[39;00m\n\u001b[0;32m    163\u001b[0m \n\u001b[0;32m    164\u001b[0m \u001b[38;5;124;03mArgs:\u001b[39;00m\n\u001b[1;32m   (...)\u001b[0m\n\u001b[0;32m    170\u001b[0m \n\u001b[0;32m    171\u001b[0m \u001b[38;5;124;03m\"\"\"\u001b[39;00m\n\u001b[0;32m    172\u001b[0m Sampler\u001b[38;5;241m.\u001b[39mremove_unknown_kwargs(\u001b[38;5;28mself\u001b[39m, \u001b[38;5;241m*\u001b[39m\u001b[38;5;241m*\u001b[39mkwargs)\n\u001b[1;32m--> 174\u001b[0m \u001b[38;5;28;01mif\u001b[39;00m \u001b[38;5;129;01mnot\u001b[39;00m \u001b[43mdqm\u001b[49m\u001b[38;5;241;43m.\u001b[39;49m\u001b[43mnum_variables\u001b[49m\u001b[43m(\u001b[49m\u001b[43m)\u001b[49m:\n\u001b[0;32m    175\u001b[0m     \u001b[38;5;28;01mreturn\u001b[39;00m SampleSet\u001b[38;5;241m.\u001b[39mfrom_samples([], \u001b[38;5;124m'\u001b[39m\u001b[38;5;124mDISCRETE\u001b[39m\u001b[38;5;124m'\u001b[39m, energy\u001b[38;5;241m=\u001b[39m[])\n\u001b[0;32m    177\u001b[0m cases \u001b[38;5;241m=\u001b[39m _all_cases_dqm(dqm)\n",
      "\u001b[1;31mTypeError\u001b[0m: 'int' object is not callable"
     ]
    }
   ],
   "source": [
    "solver = dimod.ExactDQMSolver()\n",
    "sol = solver.sample_dqm(model)\n",
    "\n",
    "# We want the best feasible solution. We can filter by its feasibility and take the first element\n",
    "feas_sol = sol.filter(lambda s: s.is_feasible)\n",
    "print(feas_sol)"
   ]
  }
 ],
 "metadata": {
  "kernelspec": {
   "display_name": "Python 3",
   "language": "python",
   "name": "python3"
  },
  "language_info": {
   "codemirror_mode": {
    "name": "ipython",
    "version": 3
   },
   "file_extension": ".py",
   "mimetype": "text/x-python",
   "name": "python",
   "nbconvert_exporter": "python",
   "pygments_lexer": "ipython3",
   "version": "3.12.7"
  }
 },
 "nbformat": 4,
 "nbformat_minor": 5
}
