{
 "cells": [
  {
   "cell_type": "markdown",
   "metadata": {},
   "source": [
    "# QAOA Test\n",
    "\n",
    "As the last notebook was getting a little bigger than I would have wanted, I created a new notebook. I will transfer all the qaoa functions and the ones back in `test.ipynb` will probably become outdated.\n",
    "\n",
    "The circuits and estimations used in this code are based on:\n",
    "\n",
    "[1] Combarro, E. F., & Gonzalez-Castillo, S. (2023). A practical guide to quantum machine learning and quantum optimisation: Hands-On Approach to Modern Quantum Algorithms. Packt Publishing.\n",
    "\n",
    "---\n",
    "\n",
    "- **As of 10/12/2024 this file has become deprecated**"
   ]
  },
  {
   "cell_type": "code",
   "execution_count": 1,
   "metadata": {},
   "outputs": [],
   "source": [
    "from qiskit.quantum_info import Pauli,SparsePauliOp,Statevector\n",
    "from typing import Union\n",
    "from colorama import Fore\n",
    "import numpy as np\n",
    "from qiskit import QuantumCircuit, transpile\n",
    "from qiskit_aer import AerSimulator\n",
    "from qiskit_aer.primitives import SamplerV2\n",
    "from qiskit.visualization import plot_histogram"
   ]
  },
  {
   "cell_type": "code",
   "execution_count": 2,
   "metadata": {},
   "outputs": [],
   "source": [
    "def interaction_term(qc: QuantumCircuit, phi, control, target)->QuantumCircuit:\n",
    "    r\"\"\"\n",
    "    Builds the gate from the interaction term in the Ising Hamiltonian\n",
    "    \n",
    "    Args:\n",
    "        `qc`: The quantum circuit to be added\n",
    "        `phi`: The parameter $\\phi$ from the optimization\n",
    "        `control`: The position of the control qubit\n",
    "        `target`: The position of the target qubit\n",
    "    \n",
    "    Returns:\n",
    "        The modified QuantumCircuit    \n",
    "    \"\"\"\n",
    "    \n",
    "    qc.cx(control,target)\n",
    "    qc.rz(phi*2,target)\n",
    "    qc.cx(control,target)\n",
    "    qc.barrier()\n",
    "    \n",
    "    return qc\n",
    "\n",
    "def circuit_size(qc:QuantumCircuit)->int:\n",
    "    r\"\"\"Utility function to get the number of registers of a QuantumCircuit\"\"\"\n",
    "    size = 0\n",
    "    for reg in qc.qregs:\n",
    "        size+=reg.size\n",
    "    return size\n",
    "    "
   ]
  },
  {
   "cell_type": "code",
   "execution_count": 3,
   "metadata": {},
   "outputs": [],
   "source": [
    "# Transforms a Pauli expression to a supported quadratic expression\n",
    "def pauliop_to_exp(op:SparsePauliOp)->str:\n",
    "    exp = ''\n",
    "    for i,pauli in enumerate(op.paulis):\n",
    "        exp+=str(int(op.coeffs[i].real))\n",
    "        for i,char in enumerate(pauli.to_label()):\n",
    "            if char == 'Z':\n",
    "                exp+='Z'+str(i)\n",
    "        exp+='+'\n",
    "    exp = exp[:-1]\n",
    "    return exp"
   ]
  },
  {
   "cell_type": "code",
   "execution_count": 4,
   "metadata": {},
   "outputs": [],
   "source": [
    "# Function to automatize layers of an ansatz\n",
    "def create_ansatz_layer(qc:QuantumCircuit,expression:Union[str,SparsePauliOp],phi=1,beta=1)->QuantumCircuit:\n",
    "    r\"\"\"\n",
    "    Creates an ansatz layer. However you need to start your circuit with h gates to enter superposition.\n",
    "    \n",
    "    Args:\n",
    "        `qc`: QuantumCircuit to be modified.\n",
    "        `expression`: Hamiltonian to optimize. Either in str or pauli expression.\n",
    "        `phi`: Parameter for the Z rotations.\n",
    "        `beta`: Parameter for the X rotations.\n",
    "    \n",
    "    Returns:\n",
    "        The QuantumCircuit with the added ansatz.\n",
    "    \n",
    "    \"\"\"\n",
    "    if type(expression) == SparsePauliOp:\n",
    "        expression = pauliop_to_exp(expression)\n",
    "    #Read expression\n",
    "    expression = expression.replace(' ', '')\n",
    "    \n",
    "    # Standardize the polynomial string to handle positive terms properly\n",
    "    expression = expression.replace('-', '+-')\n",
    "    if expression[0] == '+':\n",
    "        expression = expression[1:]\n",
    "    \n",
    "    # Split the string into terms\n",
    "    terms = expression.split('+')\n",
    "    \n",
    "    for term in terms:\n",
    "        gate = term.count('Z')\n",
    "        coefs = term.split('Z')\n",
    "        if coefs[0] == '':\n",
    "            coefs[0]=1\n",
    "        if coefs[0] == '-':\n",
    "            coefs[0]=-1\n",
    "        coefs = [int(t) for t in coefs]\n",
    "        if gate == 1:\n",
    "            qc.rz(2*coefs[0]*phi,coefs[1])\n",
    "            qc.barrier()\n",
    "        else:\n",
    "            qc = interaction_term(qc,coefs[0]*phi,coefs[1],coefs[2])\n",
    "            \n",
    "    size = circuit_size(qc)\n",
    "    for i in range(size):\n",
    "        qc.rx(2*beta,i)\n",
    "    qc.barrier()\n",
    "    return qc\n",
    "\n",
    "# Create full ansatz (kind of stupid)\n",
    "def create_ansatz(expression:str,qubits:int,layers=1,phi=[1],beta=[1]):\n",
    "    r\"\"\"\n",
    "    Creates an ansatz. However you need to start your circuit with h gates to enter superposition.\n",
    "    \n",
    "    Args:\n",
    "        `expression`: Hamiltonian to optimize. Either in str or pauli expression.\n",
    "        `qubits`: number of qubits of the circuit.\n",
    "        `layers`:Number of layers to be added.\n",
    "        `phi`: Parameter for the Z rotations. Needs to be of size == layers.\n",
    "        `beta`: Parameter for the X rotations. Needs to be of size == layers.\n",
    "    \n",
    "    Returns:\n",
    "        The QuantumCircuit with the added ansatz.\n",
    "    \n",
    "    Raises:\n",
    "        ValueError: In case the size of the parameters is wrong.\n",
    "    \n",
    "    \"\"\"\n",
    "    qc = QuantumCircuit(qubits)\n",
    "    for i in range(qubits):\n",
    "        qc.h(i)\n",
    "        \n",
    "    if layers != len(phi) | layers!= len(beta):\n",
    "        raise ValueError(f'For {layers} layers you need to input size {layers} parameters')\n",
    "        \n",
    "    for i in range(layers):\n",
    "        qc = create_ansatz_layer(qc,expression,phi[i],beta[i])\n",
    "    return qc"
   ]
  },
  {
   "cell_type": "markdown",
   "metadata": {},
   "source": [
    "We can test if the code above works for both expression types"
   ]
  },
  {
   "cell_type": "code",
   "execution_count": 5,
   "metadata": {},
   "outputs": [
    {
     "data": {
      "image/png": "[encoded data removed]",
      "text/plain": [
       "<Figure size 1541.46x200.667 with 1 Axes>"
      ]
     },
     "execution_count": 5,
     "metadata": {},
     "output_type": "execute_result"
    }
   ],
   "source": [
    "expression = \"2Z0Z1+3Z0\"\n",
    "size = 2\n",
    "    \n",
    "qc=create_ansatz(expression,size,2,[1,2],[1,1])\n",
    "\n",
    "qc.draw('mpl')"
   ]
  },
  {
   "cell_type": "code",
   "execution_count": 6,
   "metadata": {},
   "outputs": [
    {
     "data": {
      "image/png": "[encoded data removed]",
      "text/plain": [
       "<Figure size 872.572x200.667 with 1 Axes>"
      ]
     },
     "execution_count": 6,
     "metadata": {},
     "output_type": "execute_result"
    }
   ],
   "source": [
    "op = 2* SparsePauliOp(Pauli('ZZ'))+3*SparsePauliOp(Pauli('ZI'))\n",
    "\n",
    "size = 2\n",
    "    \n",
    "qc=create_ansatz(op,size,1)\n",
    "\n",
    "qc.draw('mpl')"
   ]
  },
  {
   "cell_type": "markdown",
   "metadata": {},
   "source": [
    "## Energy estimation\n",
    "\n",
    "After we have the circuit, we can run it, and calculate the energy level we need to minimize"
   ]
  },
  {
   "cell_type": "code",
   "execution_count": 7,
   "metadata": {},
   "outputs": [],
   "source": [
    "def eval_energy(expression:Union[str,SparsePauliOp],factor:str):\n",
    "    r\"\"\"\n",
    "    Evaluates the energy of the factor given. This is the energy expectation from the state.\n",
    "    \n",
    "    Args:\n",
    "        `expression`: Hamiltonian to optimize. Either in str or pauli expression.\n",
    "        `factor`: Binary string to calculate the expectation value for the Hamiltonian.\n",
    "    \n",
    "    Returns:\n",
    "    The energy value\n",
    "    \n",
    "    \"\"\"\n",
    "    energy = 0\n",
    "    \n",
    "    if type(expression) == SparsePauliOp:\n",
    "        expression = pauliop_to_exp(expression)\n",
    "        \n",
    "    expression = expression.replace(' ', '')\n",
    "    \n",
    "    # Standardize the polynomial string to handle positive terms properly\n",
    "    expression = expression.replace('-', '+-')\n",
    "    if expression[0] == '+':\n",
    "        expression = expression[1:]\n",
    "    \n",
    "    # Split the string into terms\n",
    "    terms = expression.split('+')\n",
    "    \n",
    "    \n",
    "    for term in terms:\n",
    "        gate = term.count('Z')\n",
    "        coefs = term.split('Z')\n",
    "        if coefs[0] == '':\n",
    "            coefs[0]=1\n",
    "        if coefs[0] == '-':\n",
    "            coefs[0]=-1\n",
    "        coefs = [int(x) for x in coefs]\n",
    "        if gate == 1:\n",
    "            energy += (-2*int(factor[coefs[1]])+1)*coefs[0]\n",
    "        else:\n",
    "            energy += (2*np.abs(int(factor[coefs[1]])+int(factor[coefs[2]])-1)-1)*coefs[0]\n",
    "    \n",
    "    return energy"
   ]
  },
  {
   "cell_type": "code",
   "execution_count": 55,
   "metadata": {},
   "outputs": [],
   "source": [
    "def get_energy(qc:QuantumCircuit,expression,shots=1024):\n",
    "    \"\"\"\n",
    "    Returns the energy from an execution of a QuantumCircuit\n",
    "    \n",
    "    Args:\n",
    "        `qc`: QuantumCircuit to run.\n",
    "        `shots`: Number of shots for the circuit.\n",
    "        \n",
    "    Returns:\n",
    "        The energy value.\n",
    "    \"\"\"\n",
    "    \n",
    "    # Define the simulator, in a future version, this would be a parameter\n",
    "    sim = AerSimulator()\n",
    "    \n",
    "    # Transpile the circuit for the simulator or real QPU\n",
    "    qc.measure_all()\n",
    "    qc = transpile(qc,sim)\n",
    "\n",
    "    # Run the circuit and collect results\n",
    "    sampler = SamplerV2()\n",
    "    job = sampler.run([qc],shots=shots)\n",
    "    job_result = job.result()\n",
    "    counts=job_result[0].data.meas.get_counts()\n",
    "\n",
    "    # Using the formula from [1]\n",
    "    energy = 0\n",
    "    for key in counts:\n",
    "        energy+= (counts[key]/shots)*eval_energy(expression,key)\n",
    "    \n",
    "    return energy"
   ]
  },
  {
   "cell_type": "code",
   "execution_count": 57,
   "metadata": {},
   "outputs": [
    {
     "name": "stdout",
     "output_type": "stream",
     "text": [
      "1.107421875\n"
     ]
    }
   ],
   "source": [
    "op = 2* SparsePauliOp(Pauli('ZZ'))+3*SparsePauliOp(Pauli('ZI'))\n",
    "\n",
    "size = 2\n",
    "    \n",
    "qc=create_ansatz(op,size,1)\n",
    "\n",
    "energy = get_energy(qc,op)\n",
    "\n",
    "print(energy)"
   ]
  },
  {
   "cell_type": "markdown",
   "metadata": {},
   "source": [
    "## Minimization process\n",
    "\n",
    "After we can create and calculate the energy from a circuit, the next step should be to minimize the energy level to complete the QAOA algorithm. To do that we are going to create a function with the previous steps, that tries to minimize the energy modifying the parameters $\\gamma_0,\\ldots,\\gamma_n$ and $\\beta_0,\\ldots,\\beta_n$, when using a circuit with $n$ layers."
   ]
  },
  {
   "cell_type": "code",
   "execution_count": 10,
   "metadata": {},
   "outputs": [],
   "source": [
    "from scipy.optimize import minimize"
   ]
  },
  {
   "cell_type": "code",
   "execution_count": 59,
   "metadata": {},
   "outputs": [],
   "source": [
    "def objective (x,exp,size,layers):\n",
    "    \n",
    "    # Setting up gamma and beta\n",
    "    gamma = x[:layers]\n",
    "    beta = x[layers:]\n",
    "    \n",
    "    qc = create_ansatz(exp,size,layers,gamma,beta)\n",
    "    \n",
    "    energy = get_energy(qc,exp)\n",
    "    \n",
    "    return energy"
   ]
  },
  {
   "cell_type": "code",
   "execution_count": 71,
   "metadata": {},
   "outputs": [
    {
     "name": "stdout",
     "output_type": "stream",
     "text": [
      "Optimal parameters: [1.29518656 1.2627132  0.75315024 0.70205062]\n",
      "Minimum value: -4.4765625\n"
     ]
    }
   ],
   "source": [
    "# Parameters that define the optimization problem\n",
    "exp = 2* SparsePauliOp(Pauli('ZZ'))+3*SparsePauliOp(Pauli('ZI'))\n",
    "size = 2\n",
    "layers = 2\n",
    "method = 'COBYLA'\n",
    "\n",
    "# Define intial points\n",
    "initial_guess = np.random.random(2*layers)\n",
    "\n",
    "# Run minimization \n",
    "result = minimize(objective,initial_guess,args=(exp,size,layers),method=method)\n",
    "\n",
    "# Display results\n",
    "print(\"Optimal parameters:\", result.x)\n",
    "print(\"Minimum value:\", result.fun)"
   ]
  },
  {
   "cell_type": "code",
   "execution_count": null,
   "metadata": {},
   "outputs": [
    {
     "data": {
      "image/png": "[encoded data removed]",
      "text/plain": [
       "<Figure size 640x480 with 1 Axes>"
      ]
     },
     "execution_count": 72,
     "metadata": {},
     "output_type": "execute_result"
    }
   ],
   "source": [
    "gamma = result.x[:layers]\n",
    "beta = result.x[layers:]\n",
    "\n",
    "qc = create_ansatz(exp,size,layers,gamma,beta)\n",
    "\n",
    "sim = AerSimulator()\n",
    "\n",
    "# Transpile the circuit for the simulator or real QPU\n",
    "qc.measure_all()\n",
    "qc = transpile(qc,sim)\n",
    "\n",
    "# Run the circuit and collect results\n",
    "sampler = SamplerV2()\n",
    "job = sampler.run([qc],shots=2048)\n",
    "job_result = job.result()\n",
    "counts=job_result[0].data.meas.get_counts()\n",
    "\n",
    "plot_histogram(counts)\n",
    "\n"
   ]
  },
  {
   "cell_type": "markdown",
   "metadata": {},
   "source": [
    "---\n",
    "\n",
    "To better test if this process works, we can use statevectors instead of shots. This would effectively give us the exact energy level from the circuit."
   ]
  },
  {
   "cell_type": "code",
   "execution_count": 90,
   "metadata": {},
   "outputs": [],
   "source": [
    "def get_energy_statevector(qc:QuantumCircuit,expression):\n",
    "    \"\"\"\n",
    "    Returns the energy from an execution of a QuantumCircuit\n",
    "    \n",
    "    Args:\n",
    "        `qc`: QuantumCircuit to run.\n",
    "        `shots`: Number of shots for the circuit.\n",
    "        \n",
    "    Returns:\n",
    "        The energy value.\n",
    "    \"\"\"\n",
    "    \n",
    "    # Define the simulator, in a future version, this would be a parameter\n",
    "    st = Statevector(qc)\n",
    "\n",
    "    # Using the formula from [1]\n",
    "    energy = 0\n",
    "    for i in range(2**circuit_size(qc)):\n",
    "        energy+= (st[i]**2).real*eval_energy(expression,f\"{i:0{size}b}\")\n",
    "    \n",
    "    return energy\n",
    "\n",
    "def objective_statevector (x,exp,size,layers):\n",
    "    \n",
    "    # Setting up gamma and beta\n",
    "    gamma = x[:layers]\n",
    "    beta = x[layers:]\n",
    "    \n",
    "    qc = create_ansatz(exp,size,layers,gamma,beta)\n",
    "    \n",
    "    energy = get_energy_statevector(qc,exp)\n",
    "    \n",
    "    return energy"
   ]
  },
  {
   "cell_type": "code",
   "execution_count": 91,
   "metadata": {},
   "outputs": [
    {
     "name": "stdout",
     "output_type": "stream",
     "text": [
      "Optimal parameters: [ 0.78941148  0.33512907  0.92491077 -0.00725265]\n",
      "Minimum value: -4.698947144238817\n"
     ]
    }
   ],
   "source": [
    "# Parameters that define the optimization problem\n",
    "exp = 2* SparsePauliOp(Pauli('ZZ'))+3*SparsePauliOp(Pauli('ZI'))\n",
    "size = 2\n",
    "layers = 2\n",
    "method = 'COBYLA'\n",
    "\n",
    "# Define intial points\n",
    "initial_guess = np.random.random(2*layers)\n",
    "\n",
    "# Run minimization \n",
    "result = minimize(objective_statevector,initial_guess,args=(exp,size,layers),method=method)\n",
    "\n",
    "# Display results\n",
    "print(\"Optimal parameters:\", result.x)\n",
    "print(\"Minimum value:\", result.fun)"
   ]
  },
  {
   "cell_type": "code",
   "execution_count": 97,
   "metadata": {},
   "outputs": [
    {
     "name": "stdout",
     "output_type": "stream",
     "text": [
      "[-0.02423278 -0.09623193  0.68189759  0.03960933]\n"
     ]
    }
   ],
   "source": [
    "gamma = result.x[:layers]\n",
    "beta = result.x[layers:]\n",
    "\n",
    "qc = create_ansatz(exp,size,layers,gamma,beta)\n",
    "\n",
    "st = Statevector(qc)\n",
    "\n",
    "print(st.data.real)"
   ]
  },
  {
   "cell_type": "markdown",
   "metadata": {},
   "source": [
    "---\n",
    "\n",
    "## Note\n",
    "\n",
    "This notebook will no longer be used to update the functions. The methods in this notebook will be implemented by the file `qaoa_functions.py`, and thus become deprecated. No further development will be made in this file. As it is not an important file, this will be moved to a miscelaneous folder, because I want to keep the progress and evolution of the QAOA. "
   ]
  }
 ],
 "metadata": {
  "kernelspec": {
   "display_name": "Python 3",
   "language": "python",
   "name": "python3"
  },
  "language_info": {
   "codemirror_mode": {
    "name": "ipython",
    "version": 3
   },
   "file_extension": ".py",
   "mimetype": "text/x-python",
   "name": "python",
   "nbconvert_exporter": "python",
   "pygments_lexer": "ipython3",
   "version": "3.12.7"
  }
 },
 "nbformat": 4,
 "nbformat_minor": 2
}
