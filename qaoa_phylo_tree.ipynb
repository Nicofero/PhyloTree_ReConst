{
 "cells": [
  {
   "cell_type": "markdown",
   "metadata": {},
   "source": [
    "# Quantum Approximate Optimization Algorithm (QAOA) for Phylogenetic Trees\n",
    "\n",
    "---\n",
    "\n",
    "In this notebook, we are going to use Qiskit to solve the needed optimization problem to reconstruct Phylogenetic Trees. This work will be based in 2 documents, a book that describes QAOA [1], and the paper for reconstruction of Phylogenetic Trees [2].\n",
    "\n",
    "\n",
    "\n",
    "[1] Combarro, E. F., & Gonzalez-Castillo, S. (2023). A practical guide to quantum machine learning and quantum optimisation: Hands-On Approach to Modern Quantum Algorithms. Packt Publishing.\n",
    "\n",
    "[2] Onodera, W., Hara, N., Aoki, S., Asahi, T., & Sawamura, N. (2022). Phylogenetic tree reconstruction via graph cut presented using a quantum-inspired computer. Molecular Phylogenetics and Evolution, 178, 107636. https://doi.org/10.1016/j.ympev.2022.107636"
   ]
  },
  {
   "cell_type": "code",
   "execution_count": 1,
   "metadata": {},
   "outputs": [],
   "source": [
    "import numpy as np\n",
    "import dimod\n",
    "from dimod import BinaryQuadraticModel, BINARY\n",
    "from typing import Optional\n",
    "import time\n",
    "import networkx as nx\n",
    "import matplotlib.pyplot as plt\n",
    "import matplotlib.patches as patches\n",
    "import random\n",
    "import re\n",
    "from qaoa_functions import *\n",
    "from qa_functions import TreeNode,min_cut_c,n_cut,Timer\n",
    "from Bio.Phylo.TreeConstruction import DistanceTreeConstructor\n",
    "from Bio import Phylo\n",
    "from Bio.Phylo.TreeConstruction import DistanceMatrix\n",
    "from qiskit.quantum_info import Pauli,SparsePauliOp,Statevector\n",
    "from typing import Union\n",
    "from colorama import Fore\n",
    "import numpy as np\n",
    "from qiskit import QuantumCircuit, transpile\n",
    "from qiskit_aer import AerSimulator\n",
    "from qiskit_aer.primitives import SamplerV2\n",
    "from qiskit.visualization import plot_histogram\n",
    "from scipy.optimize import minimize"
   ]
  },
  {
   "cell_type": "markdown",
   "metadata": {},
   "source": [
    "Firstly, we need to transform the expression of the BQM to a Ising Hamiltonian, to do this, we'll make use of D-Wave functions. After we have the Ising Hamiltonian, we'll parse the expression in the way we need it."
   ]
  },
  {
   "cell_type": "code",
   "execution_count": 2,
   "metadata": {},
   "outputs": [
    {
     "name": "stdout",
     "output_type": "stream",
     "text": [
      "+204.0Z0Z1+239.5Z2Z1+213.5Z2Z0+225.5Z3Z1+211.0Z3Z0+232.5Z3Z2+233.0Z4Z1+204.0Z4Z0+218.5Z4Z2+235.5Z4Z3+1250.0Z1+1250.0Z0+1250.0Z2+1250.0Z3+1250.0Z4\n"
     ]
    }
   ],
   "source": [
    "matrix = np.array( [[ 0, 92, 73, 78, 92],\n",
    "                    [92,  0, 21, 49, 34],\n",
    "                    [73, 21,  0, 35, 63],\n",
    "                    [78, 49, 35,  0, 29],\n",
    "                    [92, 34, 63, 29,  0]])\n",
    "\n",
    "# Function to get the needed expression to create a QAOA\n",
    "def prepare_exp(matrix:np.ndarray,c=0):\n",
    "    r\"\"\"\n",
    "    Prepares the Hamiltonian needed for the QAOA circuit\n",
    "    \n",
    "    Args:\n",
    "        `matrix` (np.ndarray): Numpy array containing the simmetric (or lower triangular matrix) that defines the problem.\n",
    "        `c` (int): Number of non-zero variables.\n",
    "        `tags` (list): Defines the name of the variables. **MUST BE AN INT LIST**\n",
    "        \n",
    "    Returns:\n",
    "        The expression as a string.        \n",
    "    \"\"\"\n",
    "    \n",
    "    \n",
    "    alpha = matrix.shape[0]*100\n",
    "    h, J, _ = min_cut_c(matrix,c=c,alpha=alpha).to_ising()\n",
    "    # print(f'Linar coeffs: {h}')\n",
    "    # print(f'Quadratic terms: {J}')\n",
    "    exp = \"\"\n",
    "\n",
    "    for term in J:\n",
    "        exp+=\"+\"+str(J[term])+\"Z\"+str(term[0])+\"Z\"+str(term[1])\n",
    "\n",
    "    for term in h:\n",
    "        if h[term]!=0:\n",
    "            exp+=\"+\"+str(h[term])+\"Z\"+str(term)\n",
    "            \n",
    "    return exp \n",
    "\n",
    "def get_bes_sol(qc:QuantumCircuit)->dict:\n",
    "    \"\"\"   Runs the quantic circuit simulation and returns the value with more counts   \"\"\"\n",
    "    sim = AerSimulator()\n",
    "\n",
    "    # Transpile the circuit for the simulator or real QPU\n",
    "    qc.measure_all()\n",
    "    qc = transpile(qc,sim)\n",
    "\n",
    "    # Run the circuit and collect results\n",
    "    sampler = SamplerV2()\n",
    "    job = sampler.run([qc],shots=2048)\n",
    "    job_result = job.result()\n",
    "    counts=job_result[0].data.meas.get_counts()\n",
    "    best = max(counts,key=counts.get)\n",
    "    return best\n",
    "\n",
    "exp = prepare_exp(matrix,c=0)\n",
    "print(exp)"
   ]
  },
  {
   "cell_type": "markdown",
   "metadata": {},
   "source": [
    "Using the `phylo_tree` function from [qa_functions.py](qa_functions.py) as a base, we can use QAOA instead of the QA that we used before. We also need to change the way the solution and the tags will be used."
   ]
  },
  {
   "cell_type": "code",
   "execution_count": 3,
   "metadata": {},
   "outputs": [],
   "source": [
    "def qaoa_phylo_tree(matrix:np.ndarray,tags=[],**kwargs):\n",
    "    r\"\"\"\n",
    "    Recursive function that uses QAOA to create the Phylogenetic tree using Ncut\n",
    "    \n",
    "    Args:\n",
    "        `matrix`: The matrix defining the graph.\n",
    "        `tags`: Tags defining the names of the nodes, used for recursivity. **MUST BE AN INT LIST**\n",
    "    Returns:\n",
    "        The `TreeNode` containing the full tree. \n",
    "    \"\"\"\n",
    "    ncuts = []\n",
    "    n_graph_0 = []\n",
    "    n_graph_1 = []\n",
    "    \n",
    "    if not tags:\n",
    "        sub_mat = matrix\n",
    "        tags = list(range(matrix.shape[0]))\n",
    "    else:\n",
    "        sub_mat = matrix[np.ix_(tags, tags)]\n",
    "        \n",
    "    rows = sub_mat.shape[0]\n",
    "    \n",
    "    var = int(np.floor(rows/2.0))+1\n",
    "\n",
    "    # Run min_cut for each configuration\n",
    "    for i in range(1,var):\n",
    "        print(f'Corte con {i}')\n",
    "        if 'timer' in kwargs:\n",
    "            start = time.time_ns()/1000000\n",
    "        # Prepare the expression and run the QAOA    \n",
    "        problem = prepare_exp(sub_mat,c=i)\n",
    "        qaoa = QAOA(problem,rows)\n",
    "        qaoa.get_opt_circ()\n",
    "        result = get_bes_sol(qaoa.qc)\n",
    "        \n",
    "        ###### TODO: FALTA CAMBIAR TODO LO DE DESPUES\n",
    "        \n",
    "        # Time measurement\n",
    "        if 'timer' in kwargs:\n",
    "            end = time.time_ns()/1000000\n",
    "            kwargs['timer'].update(end-start)\n",
    "            \n",
    "        n_graph_0.append([tags[j] for j in range(len(result)) if result[j]=='0'])\n",
    "        n_graph_1.append([tags[j] for j in range(len(result)) if result[j]=='1'])        \n",
    "        print(f'\\tLa division es: {n_graph_0[i-1]} | {n_graph_1[i-1]}')\n",
    "        \n",
    "        if not n_graph_0[i-1] or not n_graph_1[i-1]:\n",
    "            n_graph_0.pop()\n",
    "            n_graph_1.pop()\n",
    "        else:\n",
    "            ncuts.append(n_cut(qaoa.min,n_graph_0[i-1],n_graph_1[i-1],matrix))\n",
    "        \n",
    "    \n",
    "    # Get the cuts created by the minimum ncut value\n",
    "    index = np.argmin(ncuts)\n",
    "    print(f'Se selecciona la separacion: {n_graph_0[index]} | {n_graph_1[index]}')\n",
    "    \n",
    "    node = TreeNode(tags)\n",
    "    \n",
    "    # Recursivity in the first graph\n",
    "    if len(n_graph_0[index]) > 2:\n",
    "        if 'timer' in kwargs:\n",
    "            node.children.append(qaoa_phylo_tree(matrix,tags=n_graph_0[index],timer=kwargs['timer']))\n",
    "        else:\n",
    "            node.children.append(qaoa_phylo_tree(matrix,tags=n_graph_0[index]))\n",
    "    else:\n",
    "        leaf = TreeNode(n_graph_0[index])\n",
    "        if len(n_graph_0[index]) == 2:\n",
    "            leaf.children.append(TreeNode([n_graph_0[index][0]]))\n",
    "            leaf.children.append(TreeNode([n_graph_0[index][1]]))\n",
    "        node.children.append(leaf)\n",
    "        \n",
    "    # Recursivity in the first graph\n",
    "    if len(n_graph_1[index]) > 2:\n",
    "        if 'timer' in kwargs:\n",
    "            node.children.append(qaoa_phylo_tree(matrix,tags=n_graph_1[index],timer=kwargs['timer']))\n",
    "        else:\n",
    "            node.children.append(qaoa_phylo_tree(matrix,tags=n_graph_1[index]))\n",
    "    else:\n",
    "        leaf = TreeNode(n_graph_1[index])\n",
    "        if len(n_graph_1[index]) == 2:\n",
    "            leaf.children.append(TreeNode([n_graph_1[index][0]]))\n",
    "            leaf.children.append(TreeNode([n_graph_1[index][1]]))\n",
    "        node.children.append(leaf)\n",
    "    \n",
    "    return node"
   ]
  },
  {
   "cell_type": "code",
   "execution_count": 29,
   "metadata": {},
   "outputs": [
    {
     "name": "stdout",
     "output_type": "stream",
     "text": [
      "Corte con 1\n",
      "\tLa division es: [0, 1] | [2, 3, 4]\n",
      "Corte con 2\n",
      "\tLa division es: [3, 4] | [0, 1, 2]\n",
      "Se selecciona la separacion: [0, 1] | [2, 3, 4]\n",
      "Corte con 1\n",
      "\tLa division es: [4] | [2, 3]\n",
      "Se selecciona la separacion: [4] | [2, 3]\n",
      "El tiempo utilizado es: 4116.04248046875\n"
     ]
    },
    {
     "data": {
      "image/png": "[encoded data removed]",
      "text/plain": [
       "<Figure size 1000x500 with 1 Axes>"
      ]
     },
     "metadata": {},
     "output_type": "display_data"
    }
   ],
   "source": [
    "timer = Timer(0.0)\n",
    "matrix = np.array( [[ 0, 92, 73, 78, 92],\n",
    "                    [92,  0, 21, 49, 34],\n",
    "                    [73, 21,  0, 35, 63],\n",
    "                    [78, 49, 35,  0, 29],\n",
    "                    [92, 34, 63, 29,  0]])\n",
    "tree = qaoa_phylo_tree(matrix,timer=timer)\n",
    "print(f'El tiempo utilizado es: {timer}')\n",
    "tree.display_tree()"
   ]
  },
  {
   "cell_type": "markdown",
   "metadata": {},
   "source": [
    "The QAOA does whatever it likes and it has a really high variability. We can explore this in especific examples, for example let's take the first iteration of `qaoa_phylo_tree` ($c=1$). Using this setup, we should get a solution with only one of the variables as 1."
   ]
  },
  {
   "cell_type": "code",
   "execution_count": 8,
   "metadata": {},
   "outputs": [],
   "source": [
    "def combine_inverse_keys(original_dict):\n",
    "    new_dict = {}\n",
    "    \n",
    "    for key, value in original_dict.items():\n",
    "        # Compute the inverse key\n",
    "        inverse_key = ''.join('1' if bit == '0' else '0' for bit in key)\n",
    "        \n",
    "        # Sort the pair to ensure consistent representation\n",
    "        combined_key = min(key, inverse_key)\n",
    "        \n",
    "        # Add value to the combined key\n",
    "        if combined_key in new_dict:\n",
    "            new_dict[combined_key] += value\n",
    "        else:\n",
    "            new_dict[combined_key] = value\n",
    "    \n",
    "    return new_dict"
   ]
  },
  {
   "cell_type": "code",
   "execution_count": 22,
   "metadata": {},
   "outputs": [
    {
     "name": "stdout",
     "output_type": "stream",
     "text": [
      "[1.94057021 0.93789696]\n",
      "10111\n"
     ]
    },
    {
     "data": {
      "image/png": "[encoded data removed]",
      "text/plain": [
       "<Figure size 640x480 with 1 Axes>"
      ]
     },
     "execution_count": 22,
     "metadata": {},
     "output_type": "execute_result"
    }
   ],
   "source": [
    "problem = prepare_exp(matrix,c=1)\n",
    "qaoa = QAOA(problem,5)\n",
    "qaoa.get_opt_circ()\n",
    "print(qaoa.param)\n",
    "sim = AerSimulator()\n",
    "\n",
    "# Transpile the circuit for the simulator or real QPU\n",
    "qaoa.qc.measure_all()\n",
    "qc = transpile(qaoa.qc,sim)\n",
    "\n",
    "# Run the circuit and collect results\n",
    "sampler = SamplerV2()\n",
    "job = sampler.run([qaoa.qc],shots=16384)\n",
    "job_result = job.result()\n",
    "counts=job_result[0].data.meas.get_counts()\n",
    "print(max(counts,key=counts.get))\n",
    "comb_counts = combine_inverse_keys(counts)\n",
    "plot_histogram(comb_counts)"
   ]
  }
 ],
 "metadata": {
  "kernelspec": {
   "display_name": "Python 3",
   "language": "python",
   "name": "python3"
  },
  "language_info": {
   "codemirror_mode": {
    "name": "ipython",
    "version": 3
   },
   "file_extension": ".py",
   "mimetype": "text/x-python",
   "name": "python",
   "nbconvert_exporter": "python",
   "pygments_lexer": "ipython3",
   "version": "3.12.7"
  }
 },
 "nbformat": 4,
 "nbformat_minor": 2
}
