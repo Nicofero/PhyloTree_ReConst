{
 "cells": [
  {
   "cell_type": "markdown",
   "metadata": {},
   "source": [
    "# Testing\n",
    "---\n",
    "This notebook will be my testing method until one test becomes too big to handle"
   ]
  },
  {
   "cell_type": "code",
   "execution_count": 11,
   "metadata": {},
   "outputs": [],
   "source": [
    "from qiskit.quantum_info import Pauli,SparsePauliOp,Statevector"
   ]
  },
  {
   "cell_type": "code",
   "execution_count": 16,
   "metadata": {},
   "outputs": [
    {
     "name": "stdout",
     "output_type": "stream",
     "text": [
      "Statevector([0.+0.j, 0.+0.j, 0.+0.j, 0.+0.j, 1.+0.j, 0.+0.j, 0.+0.j,\n",
      "             0.+0.j],\n",
      "            dims=(2, 2, 2))\n"
     ]
    }
   ],
   "source": [
    "psi = Statevector.from_int(4,dims=8)\n",
    "psi"
   ]
  },
  {
   "cell_type": "code",
   "execution_count": 8,
   "metadata": {},
   "outputs": [
    {
     "name": "stdout",
     "output_type": "stream",
     "text": [
      "  (0, 0)\t(1+0j)\n",
      "  (1, 1)\t(1+0j)\n",
      "  (2, 2)\t(-1+0j)\n",
      "  (3, 3)\t(-1+0j)\n",
      "  (4, 4)\t(-1+0j)\n",
      "  (5, 5)\t(-1+0j)\n",
      "  (6, 6)\t(1+0j)\n",
      "  (7, 7)\t(1+0j)\n"
     ]
    }
   ],
   "source": [
    "pl = Pauli('ZZI')\n",
    "\n",
    "print(pl.to_matrix(sparse=True))"
   ]
  },
  {
   "cell_type": "code",
   "execution_count": 10,
   "metadata": {},
   "outputs": [
    {
     "name": "stdout",
     "output_type": "stream",
     "text": [
      "H_cut is\n",
      "SparsePauliOp(['ZZI', 'ZIZ'],\n",
      "              coeffs=[1.+0.j, 1.+0.j])\n",
      "The sparse representation of H_cut is\n",
      "  (0, 0)\t(2+0j)\n",
      "  (1, 1)\t0j\n",
      "  (2, 2)\t0j\n",
      "  (3, 3)\t(-2+0j)\n",
      "  (4, 4)\t(-2+0j)\n",
      "  (5, 5)\t0j\n",
      "  (6, 6)\t0j\n",
      "  (7, 7)\t(2+0j)\n"
     ]
    }
   ],
   "source": [
    "H_cut = SparsePauliOp(Pauli('ZZI'))+ SparsePauliOp(Pauli('ZIZ'))\n",
    "\n",
    "print(\"H_cut is\")\n",
    "print(H_cut)\n",
    "print(\"The sparse representation of H_cut is\")\n",
    "print(H_cut.to_matrix(sparse=True))"
   ]
  },
  {
   "cell_type": "code",
   "execution_count": 18,
   "metadata": {},
   "outputs": [
    {
     "data": {
      "text/plain": [
       "-2.0"
      ]
     },
     "execution_count": 18,
     "metadata": {},
     "output_type": "execute_result"
    }
   ],
   "source": [
    "psi.expectation_value(H_cut).real"
   ]
  }
 ],
 "metadata": {
  "kernelspec": {
   "display_name": "Python 3",
   "language": "python",
   "name": "python3"
  },
  "language_info": {
   "codemirror_mode": {
    "name": "ipython",
    "version": 3
   },
   "file_extension": ".py",
   "mimetype": "text/x-python",
   "name": "python",
   "nbconvert_exporter": "python",
   "pygments_lexer": "ipython3",
   "version": "3.10.0"
  }
 },
 "nbformat": 4,
 "nbformat_minor": 2
}
