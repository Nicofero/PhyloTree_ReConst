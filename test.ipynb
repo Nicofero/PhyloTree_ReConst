{
 "cells": [
  {
   "cell_type": "markdown",
   "metadata": {},
   "source": [
    "# Testing\n",
    "---\n",
    "This notebook will be my testing method until one test becomes too big to handle"
   ]
  },
  {
   "cell_type": "code",
   "execution_count": 13,
   "metadata": {},
   "outputs": [],
   "source": [
    "from qiskit.quantum_info import Pauli,SparsePauliOp,Statevector\n",
    "from colorama import Fore\n",
    "import numpy as np\n",
    "from qiskit import QuantumCircuit, transpile\n",
    "from qiskit_aer import AerSimulator\n",
    "from qiskit_aer.primitives import SamplerV2\n",
    "from qiskit.visualization import plot_histogram"
   ]
  },
  {
   "cell_type": "code",
   "execution_count": 16,
   "metadata": {},
   "outputs": [
    {
     "name": "stdout",
     "output_type": "stream",
     "text": [
      "Statevector([0.+0.j, 0.+0.j, 0.+0.j, 0.+0.j, 1.+0.j, 0.+0.j, 0.+0.j,\n",
      "             0.+0.j],\n",
      "            dims=(2, 2, 2))\n"
     ]
    }
   ],
   "source": [
    "psi = Statevector.from_int(4,dims=8)\n",
    "psi"
   ]
  },
  {
   "cell_type": "code",
   "execution_count": 8,
   "metadata": {},
   "outputs": [
    {
     "name": "stdout",
     "output_type": "stream",
     "text": [
      "  (0, 0)\t(1+0j)\n",
      "  (1, 1)\t(1+0j)\n",
      "  (2, 2)\t(-1+0j)\n",
      "  (3, 3)\t(-1+0j)\n",
      "  (4, 4)\t(-1+0j)\n",
      "  (5, 5)\t(-1+0j)\n",
      "  (6, 6)\t(1+0j)\n",
      "  (7, 7)\t(1+0j)\n"
     ]
    }
   ],
   "source": [
    "pl = Pauli('ZZI')\n",
    "\n",
    "print(pl.to_matrix(sparse=True))"
   ]
  },
  {
   "cell_type": "code",
   "execution_count": 10,
   "metadata": {},
   "outputs": [
    {
     "name": "stdout",
     "output_type": "stream",
     "text": [
      "H_cut is\n",
      "SparsePauliOp(['ZZI', 'ZIZ'],\n",
      "              coeffs=[1.+0.j, 1.+0.j])\n",
      "The sparse representation of H_cut is\n",
      "  (0, 0)\t(2+0j)\n",
      "  (1, 1)\t0j\n",
      "  (2, 2)\t0j\n",
      "  (3, 3)\t(-2+0j)\n",
      "  (4, 4)\t(-2+0j)\n",
      "  (5, 5)\t0j\n",
      "  (6, 6)\t0j\n",
      "  (7, 7)\t(2+0j)\n"
     ]
    }
   ],
   "source": [
    "H_cut = SparsePauliOp(Pauli('ZZI'))+ SparsePauliOp(Pauli('ZIZ'))\n",
    "\n",
    "print(\"H_cut is\")\n",
    "print(H_cut)\n",
    "print(\"The sparse representation of H_cut is\")\n",
    "print(H_cut.to_matrix(sparse=True))"
   ]
  },
  {
   "cell_type": "code",
   "execution_count": 18,
   "metadata": {},
   "outputs": [
    {
     "data": {
      "text/plain": [
       "-2.0"
      ]
     },
     "execution_count": 18,
     "metadata": {},
     "output_type": "execute_result"
    }
   ],
   "source": [
    "psi.expectation_value(H_cut).real"
   ]
  },
  {
   "cell_type": "markdown",
   "metadata": {},
   "source": [
    "## Quantum Annealer\n",
    "\n",
    "In this part of the notebook, we try the Ocean framework, to work with quantum annealers "
   ]
  },
  {
   "cell_type": "code",
   "execution_count": 44,
   "metadata": {},
   "outputs": [],
   "source": [
    "import dimod\n",
    "from dwave.system import DWaveSampler, EmbeddingComposite"
   ]
  },
  {
   "cell_type": "code",
   "execution_count": null,
   "metadata": {},
   "outputs": [
    {
     "name": "stdout",
     "output_type": "stream",
     "text": [
      "The problem we are going to solve is:\n",
      "BinaryQuadraticModel({0: 0.0, 1: 0.0, 2: 0.0}, {(1, 0): 1.0, (2, 0): 1.0}, 0.0, 'SPIN')\n"
     ]
    }
   ],
   "source": [
    "# Coefficients of the quadratic term elements (squared or products)\n",
    "J = {(0,1):1, (0,2):1}\n",
    "# Coefficients of the linear terms\n",
    "h = {}\n",
    "problem = dimod.BinaryQuadraticModel(h, J, 0.0, dimod.SPIN)\n",
    "print(\"The problem we are going to solve is:\")\n",
    "print(problem)\n"
   ]
  },
  {
   "cell_type": "code",
   "execution_count": null,
   "metadata": {},
   "outputs": [
    {
     "name": "stdout",
     "output_type": "stream",
     "text": [
      "The solutions that we have obtained are\n",
      "   0  1  2 energy num_oc. chain_.\n",
      "0 -1 +1 +1   -2.0       4     0.0\n",
      "1 +1 -1 -1   -2.0       6     0.0\n",
      "['SPIN', 2 rows, 10 samples, 3 variables]\n"
     ]
    }
   ],
   "source": [
    "# You need to have an access token configured\n",
    "# sampler = EmbeddingComposite(DWaveSampler())\n",
    "# result = sampler.sample(problem, num_reads=10)\n",
    "print(\"The solutions that we have obtained are\")\n",
    "print(result)"
   ]
  },
  {
   "cell_type": "code",
   "execution_count": 4,
   "metadata": {},
   "outputs": [
    {
     "data": {
      "text/plain": [
       "16583.76"
      ]
     },
     "execution_count": 4,
     "metadata": {},
     "output_type": "execute_result"
    }
   ],
   "source": [
    "result.info['timing']['qpu_access_time']"
   ]
  },
  {
   "cell_type": "markdown",
   "metadata": {},
   "source": [
    "Using `dimod` we can also solve binary problems without having to rewrite them in the QUBO or Ising model form. To test this we will solve the next minimization problem:\n",
    "\n",
    "\\begin{aligned}   \n",
    "        \\text{Minimize } \\quad -5x_0+3x_1-2x_2\\\\\n",
    "        \\text{Subject to }\\qquad \\qquad x_0 + x_2 \\leq 1,\\\\\n",
    "        3x_0 − x_1 + 3x_2 \\leq 4 \\\\\n",
    "        \\vec{x} \\in \\{0,1\\}^3\n",
    "    \\end{aligned}"
   ]
  },
  {
   "cell_type": "code",
   "execution_count": 42,
   "metadata": {},
   "outputs": [
    {
     "name": "stdout",
     "output_type": "stream",
     "text": [
      "Variables: Variables(['x0', 'x1', 'x2'])\n",
      "Objective: ObjectiveView({'x0': -5.0, 'x1': 3.0, 'x2': -2.0}, {}, 0.0, {'x0': 'BINARY', 'x1': 'BINARY', 'x2': 'BINARY'})\n",
      "Our constraints are: {'First constraint': Le(ConstraintView({'x0': 1.0, 'x2': 1.0}, {}, 0.0, {'x0': 'BINARY', 'x2': 'BINARY'}), 1.0), 'Second constraint': Le(ConstraintView({'x0': 3.0, 'x1': -1.0, 'x2': 3.0}, {}, 0.0, {'x0': 'BINARY', 'x1': 'BINARY', 'x2': 'BINARY'}), 4.0)}\n",
      "Solutions\n",
      "  x0 x1 x2 energy num_oc. is_sat. is_fea.\n",
      "6  1  0  1   -7.0       1 arra...   False\n",
      "2  1  0  0   -5.0       1 arra...    True\n",
      "7  1  1  1   -4.0       1 arra...   False\n",
      "3  1  1  0   -2.0       1 arra...    True\n",
      "4  0  0  1   -2.0       1 arra...    True\n",
      "0  0  0  0    0.0       1 arra...    True\n",
      "5  0  1  1    1.0       1 arra...    True\n",
      "1  0  1  0    3.0       1 arra...    True\n",
      "['INTEGER', 8 rows, 8 samples, 3 variables] \n",
      "\n",
      "\u001b[31mBest Solution\u001b[39m\n",
      "Variables: {'x0': 1, 'x1': 0, 'x2': 0}, Cost = -5.0\n"
     ]
    }
   ],
   "source": [
    "from dimod import Binary\n",
    "\n",
    "x0 = Binary(\"x0\")\n",
    "x1 = Binary(\"x1\")\n",
    "x2 = Binary(\"x2\")\n",
    "\n",
    "# Define the problem (objective and constraints)\n",
    "blp = dimod.ConstrainedQuadraticModel()\n",
    "\n",
    "blp.set_objective(-5*x0+3*x1-2*x2)\n",
    "blp.add_constraint(x0 + x2 <= 1, \"First constraint\")\n",
    "blp.add_constraint(3*x0 -x1 + 3*x2 <= 4, \"Second constraint\")\n",
    "\n",
    "print(f\"Variables: {blp.variables}\")\n",
    "print(f\"Objective: {blp.objective}\")\n",
    "print(f\"Our constraints are: {blp.constraints}\")\n",
    "\n",
    "solver = dimod.ExactCQMSolver()\n",
    "\n",
    "sol = solver.sample_cqm(blp)\n",
    "\n",
    "# This calculates even non feasible solutions\n",
    "print('Solutions')\n",
    "print(sol,'\\n')\n",
    "\n",
    "# We want the best feasible solution. We can filter by its feasibility and take the first element\n",
    "feas_sol = sol.filter(lambda s: s.is_feasible)\n",
    "print(Fore.RED+'Best Solution'+Fore.RESET)\n",
    "print(f'Variables: {feas_sol.first.sample}, Cost = {feas_sol.first.energy}')"
   ]
  },
  {
   "cell_type": "markdown",
   "metadata": {},
   "source": [
    "However, using this we dont use quantum annealers, to do that we can transform the problem to a QUBO using Ocean functions."
   ]
  },
  {
   "cell_type": "code",
   "execution_count": null,
   "metadata": {},
   "outputs": [
    {
     "name": "stdout",
     "output_type": "stream",
     "text": [
      "Solutions\n",
      "  slack_v050645ea8f4d4fa59dfae269a2016c91_0 ... x2 energy num_oc. chain_.\n",
      "0                                         0 ...  1   -2.0       1     0.0\n",
      "1                                         0 ...  0   -2.0       1     0.0\n",
      "2                                         0 ...  0    0.0       1     0.0\n",
      "3                                         0 ...  0    0.0       2     0.0\n",
      "4                                         0 ...  1    3.0       2     0.0\n",
      "5                                         1 ...  0    5.0       1     0.0\n",
      "6                                         1 ...  1    8.0       1     0.0\n",
      "7                                         1 ...  1   21.0       1     0.0\n",
      "['BINARY', 8 rows, 10 samples, 7 variables]\n"
     ]
    }
   ],
   "source": [
    "qubo, invert = dimod.cqm_to_bqm(blp,lagrange_multiplier = 5)\n",
    "\n",
    "# print(qubo) # Quite ugly output\n",
    "\n",
    "# Uncomment to execute\n",
    "# sampler = EmbeddingComposite(DWaveSampler())\n",
    "# result = sampler.sample(qubo,num_reads=10)\n",
    "\n",
    "print('Solutions')\n",
    "print(result)"
   ]
  },
  {
   "cell_type": "markdown",
   "metadata": {},
   "source": [
    "By using the QA we get the solutions from the transformed problem, we can obtain the solutions from the original problem by untransforming"
   ]
  },
  {
   "cell_type": "code",
   "execution_count": 55,
   "metadata": {},
   "outputs": [
    {
     "name": "stdout",
     "output_type": "stream",
     "text": [
      "The solutions to the original problem are\n",
      "  x0 x1 x2 energy num_oc. is_sat. is_fea.\n",
      "2  1  0  0   -5.0       1 arra...    True\n",
      "3  1  0  0   -5.0       2 arra...    True\n",
      "7  1  1  1   -4.0       1 arra...   False\n",
      "0  0  0  1   -2.0       1 arra...    True\n",
      "1  1  1  0   -2.0       1 arra...    True\n",
      "4  0  0  1   -2.0       2 arra...    True\n",
      "6  0  0  1   -2.0       1 arra...    True\n",
      "5  0  0  0    0.0       1 arra...    True\n",
      "['INTEGER', 8 rows, 10 samples, 3 variables] \n",
      "\n",
      "\u001b[31mBest Solution\u001b[39m\n",
      "Variables: {'x0': 1, 'x1': 0, 'x2': 0}, Cost = -5.0\n"
     ]
    }
   ],
   "source": [
    "samples = []\n",
    "occurrences = []\n",
    "\n",
    "for s in result.data():\n",
    "    samples.append(invert(s.sample))\n",
    "    occurrences.append(s.num_occurrences)\n",
    "    sampleset = dimod.SampleSet.from_samples_cqm(samples,blp,num_occurrences=occurrences)\n",
    "    \n",
    "print(\"The solutions to the original problem are\")\n",
    "print(sampleset,'\\n')\n",
    "\n",
    "feas_sol = sampleset.filter(lambda s: s.is_feasible)\n",
    "print(Fore.RED+'Best Solution'+Fore.RESET)\n",
    "print(f'Variables: {feas_sol.first.sample}, Cost = {feas_sol.first.energy}')"
   ]
  },
  {
   "cell_type": "markdown",
   "metadata": {},
   "source": [
    "As we can see, we get the same solutions, with the observation that we get the best solution ($x_0=1, x_1=x_2=0$) more than any other answer.\n",
    "\n",
    "---\n",
    "Using properties from the `dimod` package, we can change the multiple parameters that define the QA, maybe even obtaining better solutions for the problems. However, the scope of this work is not to use QA, rather **Quantum Approximate Optimization Algorithm** or **QAOA** to run the simulation on a general purpose QPU. We will be using **Qiskit** again.\n",
    "\n",
    "## QAOA"
   ]
  },
  {
   "cell_type": "markdown",
   "metadata": {},
   "source": [
    "As we will be using this disposition of gates multiple times, we create a function"
   ]
  },
  {
   "cell_type": "code",
   "execution_count": 91,
   "metadata": {},
   "outputs": [],
   "source": [
    "def interaction_term(qc: QuantumCircuit, phi, control, target)->QuantumCircuit:\n",
    "    \"\"\"\n",
    "    Builds the gate from the interaction term in the Ising Hamiltonian\n",
    "    \n",
    "    Args:\n",
    "        `qc`: The quantum circuit to be added\n",
    "        `phi`: The parameter $\\phi$ from the optimization\n",
    "        `control`: The position of the control qubit\n",
    "        `target`: The position of the target qubit\n",
    "    \n",
    "    Returns:\n",
    "        The modified QuantumCircuit\n",
    "    \n",
    "    \"\"\"\n",
    "    \n",
    "    qc.cx(control,target)\n",
    "    qc.rz(phi*2,target)\n",
    "    qc.cx(control,target)\n",
    "    qc.barrier()\n",
    "    \n",
    "    return qc"
   ]
  },
  {
   "cell_type": "code",
   "execution_count": 97,
   "metadata": {},
   "outputs": [],
   "source": [
    "# Function to automatize layers of an ansatz\n",
    "def create_ansatz_layer(qc:QuantumCircuit,expression:str,x=1)->QuantumCircuit:\n",
    "    \n",
    "    expression = expression.replace(' ', '')\n",
    "    \n",
    "    # Standardize the polynomial string to handle positive terms properly\n",
    "    expression = expression.replace('-', '+-')\n",
    "    if expression[0] == '+':\n",
    "        expression = expression[1:]\n",
    "    \n",
    "    # Split the string into terms\n",
    "    terms = expression.split('+')\n",
    "    \n",
    "    for term in terms:\n",
    "        gate = term.count('Z')\n",
    "        coefs = term.split('Z')\n",
    "        if coefs[0] == '':\n",
    "            coefs[0]=1\n",
    "        if coefs[0] == '-':\n",
    "            coefs[0]=-1\n",
    "        coefs = [int(t) for t in coefs]\n",
    "        if gate == 1:\n",
    "            qc.rz(2*coefs[0]*x,coefs[1])\n",
    "            qc.barrier()\n",
    "        else:\n",
    "            qc = interaction_term(qc,coefs[0]*x,coefs[1],coefs[2])\n",
    "    return qc"
   ]
  },
  {
   "cell_type": "markdown",
   "metadata": {},
   "source": [
    "This is a test to write a QAOA circuit for a simple Hamiltonian $H_1=Z_1𝑍_3 + 𝑍_0𝑍_2 − 2𝑍_1 + 3𝑍_2$ with $𝑝 = 1$ (AKA one layer). As we only have 1 layer we will need 2 parameters: $\\beta$ and $\\gamma$. In this example we are already using the function that creates an ansatz from a ising hamiltonian."
   ]
  },
  {
   "cell_type": "code",
   "execution_count": 63,
   "metadata": {},
   "outputs": [
    {
     "data": {
      "image/png": "[encoded data removed]",
      "text/plain": [
       "<Figure size 1123.61x284.278 with 1 Axes>"
      ]
     },
     "execution_count": 63,
     "metadata": {},
     "output_type": "execute_result"
    }
   ],
   "source": [
    "expression = '3Z0Z2-Z1Z2+2Z0'\n",
    "size = 3\n",
    "qc = QuantumCircuit(size)\n",
    "for i in range(size):\n",
    "    qc.h(i)\n",
    "qc =  create_ansatz_layer(qc,expression)\n",
    "for i in range(size):\n",
    "    qc.rx(2,i)\n",
    "qc.draw('mpl')"
   ]
  },
  {
   "cell_type": "code",
   "execution_count": 119,
   "metadata": {},
   "outputs": [
    {
     "data": {
      "image/png": "[encoded data removed]",
      "text/plain": [
       "<Figure size 640x480 with 1 Axes>"
      ]
     },
     "execution_count": 119,
     "metadata": {},
     "output_type": "execute_result"
    }
   ],
   "source": [
    "sim = AerSimulator()\n",
    "qc.measure_all()\n",
    "qc = transpile(qc,sim)\n",
    "\n",
    "sampler = SamplerV2()\n",
    "shots =1028\n",
    "\n",
    "job = sampler.run([qc],shots=shots)\n",
    "job_result = job.result()\n",
    "counts=job_result[0].data.meas.get_counts()\n",
    "plot_histogram(counts)"
   ]
  },
  {
   "cell_type": "markdown",
   "metadata": {},
   "source": [
    "### Time test\n",
    "\n",
    "In order to calculate the energy of the system you have to compute multiple matrix products, however the matrices we are working with are diagonal, so we try to create a more efficient method. Moreover, we are working with states from the computational basis, meaning every position is a 0 so:\n",
    "\n",
    "$\\bra{a}H_1\\ket{a}=H_{jj}$, as $a_j=1$.\n",
    "\n",
    "With this in mind and knowing that:\n",
    "\n",
    "$\\bra{a}Z_jZ_k\\ket{a}=\\pm1$\n",
    "\n",
    "We can obtain the energy without having to calculate any matrix products."
   ]
  },
  {
   "cell_type": "code",
   "execution_count": 6,
   "metadata": {},
   "outputs": [],
   "source": [
    "def eval_energy(expression:str,factor:str):\n",
    "    energy = 0\n",
    "    \n",
    "    expression = expression.replace(' ', '')\n",
    "    \n",
    "    # Standardize the polynomial string to handle positive terms properly\n",
    "    expression = expression.replace('-', '+-')\n",
    "    if expression[0] == '+':\n",
    "        expression = expression[1:]\n",
    "    \n",
    "    # Split the string into terms\n",
    "    terms = expression.split('+')\n",
    "    \n",
    "    \n",
    "    for term in terms:\n",
    "        gate = term.count('Z')\n",
    "        coefs = term.split('Z')\n",
    "        if coefs[0] == '':\n",
    "            coefs[0]=1\n",
    "        if coefs[0] == '-':\n",
    "            coefs[0]=-1\n",
    "        coefs = [int(x) for x in coefs]\n",
    "        if gate == 1:\n",
    "            energy += (-2*int(factor[coefs[1]])+1)*coefs[0]\n",
    "        else:\n",
    "            energy += (2*np.abs(int(factor[coefs[1]])+int(factor[coefs[2]])-1)-1)*coefs[0]\n",
    "    \n",
    "    return energy"
   ]
  },
  {
   "cell_type": "code",
   "execution_count": 7,
   "metadata": {},
   "outputs": [
    {
     "data": {
      "text/plain": [
       "-5"
      ]
     },
     "execution_count": 7,
     "metadata": {},
     "output_type": "execute_result"
    }
   ],
   "source": [
    "eval_energy('Z1Z3+Z0Z2-2Z1+3Z2','1011')"
   ]
  },
  {
   "cell_type": "markdown",
   "metadata": {},
   "source": [
    "Using what we know this should be the energy expectation using the parameters $\\beta=\\gamma=1$ with one layer."
   ]
  },
  {
   "cell_type": "code",
   "execution_count": 120,
   "metadata": {},
   "outputs": [
    {
     "name": "stdout",
     "output_type": "stream",
     "text": [
      "-0.6634241245136185\n"
     ]
    }
   ],
   "source": [
    "energy = 0\n",
    "for key in counts:\n",
    "    energy+= counts[key]*eval_energy(expression,key)/shots\n",
    "    \n",
    "print(energy)"
   ]
  },
  {
   "cell_type": "code",
   "execution_count": 24,
   "metadata": {},
   "outputs": [],
   "source": [
    "def f_to_minimize(x):\n",
    "    expression = 'Z0Z1'\n",
    "    size = 2\n",
    "    qc = QuantumCircuit(size)\n",
    "    for i in range(size):\n",
    "        qc.h(i)\n",
    "    qc =  create_ansatz_layer(qc,expression,x[0])\n",
    "    for i in range(size):\n",
    "        qc.rx(2*x[1],i)\n",
    "        sim = AerSimulator()\n",
    "    qc.measure_all()\n",
    "    qc = transpile(qc,sim)\n",
    "\n",
    "    sampler = SamplerV2()\n",
    "    shots =128\n",
    "\n",
    "    job = sampler.run([qc],shots=shots)\n",
    "    job_result = job.result()\n",
    "    counts=job_result[0].data.meas.get_counts()\n",
    "    \n",
    "    energy = 0\n",
    "    for key in counts:\n",
    "        energy+= counts[key]*eval_energy(expression,key)/shots\n",
    "        \n",
    "    return energy"
   ]
  },
  {
   "cell_type": "code",
   "execution_count": 31,
   "metadata": {},
   "outputs": [
    {
     "name": "stdout",
     "output_type": "stream",
     "text": [
      "Initial parameters: beta=0.3850952441548283, gamma=0.9772560221673439\n",
      "Optimal value: -0.96875\n",
      "Optimal parameters: [0.6431375  1.17460945]\n"
     ]
    }
   ],
   "source": [
    "import scipy\n",
    "import scipy.optimize\n",
    "\n",
    "initial_params = np.random.rand(2)\n",
    "\n",
    "print(f'Initial parameters: beta={initial_params[0]}, gamma={initial_params[1]}')\n",
    "\n",
    "result = scipy.optimize.minimize(fun=f_to_minimize,method='COBYLA',x0=initial_params)\n",
    "\n",
    "print(\"Optimal value:\", result.fun)\n",
    "print(\"Optimal parameters:\", result.x)"
   ]
  },
  {
   "cell_type": "code",
   "execution_count": 32,
   "metadata": {},
   "outputs": [
    {
     "data": {
      "image/png": "[encoded data removed]",
      "text/plain": [
       "<Figure size 640x480 with 1 Axes>"
      ]
     },
     "execution_count": 32,
     "metadata": {},
     "output_type": "execute_result"
    }
   ],
   "source": [
    "expression = 'Z0Z1'\n",
    "size = 2\n",
    "qc = QuantumCircuit(size)\n",
    "for i in range(size):\n",
    "    qc.h(i)\n",
    "qc =  create_ansatz_layer(qc,expression,0.6431375)\n",
    "for i in range(size):\n",
    "    qc.rx(2*1.17460945,i)\n",
    "    sim = AerSimulator()\n",
    "qc.measure_all()\n",
    "\n",
    "sampler = SamplerV2()\n",
    "shots =128\n",
    "\n",
    "job = sampler.run([qc],shots=shots)\n",
    "job_result = job.result()\n",
    "counts=job_result[0].data.meas.get_counts()\n",
    "\n",
    "plot_histogram(counts)"
   ]
  },
  {
   "cell_type": "markdown",
   "metadata": {},
   "source": [
    "We know that in this problem we have 2 optimal solutions: **01** and **10**, that are the only results that we measure in the last iteration, with a energy level of $-0.96$. This should mean that the methods are working fine. \n",
    "\n",
    "Definitely..., very likely..., likely..., probably..., presumably..., plausibly..., possibly..., conceivably..., maybe..., \n",
    "uncertainly..., questionably..., doubtfully..., improbably..., remotely..., dubiously..., implausibly...\n",
    "\n",
    "Seriously, I don't know if it works, it seems to work, but there is a high variability of the optimum parameters, I'm also getting substantially different results from the ones in the book, so I don't know. They also get totally different parameter values when running in a QPU, so at least I got that. At least the energy level seems consistent.\n",
    "\n",
    "---\n",
    "\n",
    "I'm going to try another example, where I know the optimal is **100**."
   ]
  },
  {
   "cell_type": "code",
   "execution_count": 69,
   "metadata": {},
   "outputs": [
    {
     "name": "stdout",
     "output_type": "stream",
     "text": [
      "Initial parameters: beta=0.33212033613453973, gamma=0.15198913275831238\n",
      "Optimal value: -1.40625\n",
      "Optimal parameters: [ 2.16555042 -0.28009921]\n"
     ]
    }
   ],
   "source": [
    "def f_to_minimize(x):\n",
    "    expression = '3Z0Z2-Z1Z2+2Z0'\n",
    "    size = 3\n",
    "    qc = QuantumCircuit(size)\n",
    "    for i in range(size):\n",
    "        qc.h(i)\n",
    "    qc =  create_ansatz_layer(qc,expression,x[0])\n",
    "    for i in range(size):\n",
    "        qc.rx(2*x[1],i)\n",
    "        sim = AerSimulator()\n",
    "    qc.measure_all()\n",
    "    qc = transpile(qc,sim)\n",
    "\n",
    "    sampler = SamplerV2()\n",
    "    shots =128\n",
    "\n",
    "    job = sampler.run([qc],shots=shots)\n",
    "    job_result = job.result()\n",
    "    counts=job_result[0].data.meas.get_counts()\n",
    "    \n",
    "    energy = 0\n",
    "    for key in counts:\n",
    "        energy+= counts[key]*eval_energy(expression,key)/shots\n",
    "        \n",
    "    return energy\n",
    "\n",
    "\n",
    "initial_params = np.random.rand(2)\n",
    "\n",
    "print(f'Initial parameters: beta={initial_params[0]}, gamma={initial_params[1]}')\n",
    "\n",
    "result = scipy.optimize.minimize(fun=f_to_minimize,method='COBYLA',x0=initial_params)\n",
    "\n",
    "print(\"Optimal value:\", result.fun)\n",
    "print(\"Optimal parameters:\", result.x)"
   ]
  },
  {
   "cell_type": "code",
   "execution_count": 70,
   "metadata": {},
   "outputs": [
    {
     "data": {
      "image/png": "[encoded data removed]",
      "text/plain": [
       "<Figure size 640x480 with 1 Axes>"
      ]
     },
     "execution_count": 70,
     "metadata": {},
     "output_type": "execute_result"
    }
   ],
   "source": [
    "expression = '3Z0Z2-Z1Z2+2Z0'\n",
    "size = 3\n",
    "qc = QuantumCircuit(size)\n",
    "for i in range(size):\n",
    "    qc.h(i)\n",
    "qc =  create_ansatz_layer(qc,expression,result.x[0])\n",
    "for i in range(size):\n",
    "    qc.rx(2*-result.x[1],i)\n",
    "    sim = AerSimulator()\n",
    "qc.measure_all()\n",
    "\n",
    "sampler = SamplerV2()\n",
    "shots =128\n",
    "\n",
    "job = sampler.run([qc],shots=shots)\n",
    "job_result = job.result()\n",
    "counts=job_result[0].data.meas.get_counts()\n",
    "\n",
    "plot_histogram(counts)"
   ]
  },
  {
   "cell_type": "markdown",
   "metadata": {},
   "source": [
    "This is probably wrong."
   ]
  },
  {
   "cell_type": "markdown",
   "metadata": {},
   "source": [
    "---\n",
    "\n",
    "I think I can also allow to input the Hamiltonian using Pauli Strings, as $Z_0Z_1$ in a 3 qubit system can be expressed as the Pauli String=$ZZI$. I wasn't sure if $Z_0Z_1=Z_1Z_0$, so I tested it implementing 2 circuits with inverted control and target qubits."
   ]
  },
  {
   "cell_type": "code",
   "execution_count": 4,
   "metadata": {},
   "outputs": [
    {
     "name": "stdout",
     "output_type": "stream",
     "text": [
      "  (0, 0)\t(3+0j)\n",
      "  (1, 1)\t(3+0j)\n",
      "  (2, 2)\t(-3+0j)\n",
      "  (3, 3)\t(-3+0j)\n",
      "  (4, 4)\t(-3+0j)\n",
      "  (5, 5)\t(-3+0j)\n",
      "  (6, 6)\t(3+0j)\n",
      "  (7, 7)\t(3+0j)\n",
      "Statevector([3.+0.j, 0.+0.j, 0.+0.j, 0.+0.j, 0.+0.j, 0.+0.j, 0.+0.j,\n",
      "             0.+0.j],\n",
      "            dims=(2, 2, 2))\n"
     ]
    }
   ],
   "source": [
    "xz = 3* SparsePauliOp(Pauli('ZZI'))\n",
    "st = Statevector.from_int(0,dims=8)\n",
    "st = st.evolve(xz)\n",
    "print(xz.to_matrix(sparse=True))\n",
    "print(st)"
   ]
  },
  {
   "cell_type": "code",
   "execution_count": 11,
   "metadata": {},
   "outputs": [
    {
     "name": "stdout",
     "output_type": "stream",
     "text": [
      "Z0Z1\n"
     ]
    }
   ],
   "source": [
    "sc = xz.to_list()[0][0].split('Z')\n",
    "exp = ''\n",
    "for i,term in enumerate(sc):\n",
    "    if term == '':\n",
    "        exp+='Z'+str(i)\n",
    "print(exp)"
   ]
  },
  {
   "cell_type": "code",
   "execution_count": 86,
   "metadata": {},
   "outputs": [
    {
     "data": {
      "image/png": "[encoded data removed]",
      "text/plain": [
       "<Figure size 538.128x200.667 with 1 Axes>"
      ]
     },
     "execution_count": 86,
     "metadata": {},
     "output_type": "execute_result"
    }
   ],
   "source": [
    "qc1 = QuantumCircuit(2)\n",
    "for i in range(2):\n",
    "    qc1.h(i)\n",
    "\n",
    "qc1.z(0)\n",
    "qc1.cx(0,1)\n",
    "qc1.rz(2,1)\n",
    "qc1.cx(0,1)\n",
    "\n",
    "qc1.draw('mpl')    "
   ]
  },
  {
   "cell_type": "code",
   "execution_count": 85,
   "metadata": {},
   "outputs": [
    {
     "data": {
      "image/png": "[encoded data removed]",
      "text/plain": [
       "<Figure size 538.128x200.667 with 1 Axes>"
      ]
     },
     "execution_count": 85,
     "metadata": {},
     "output_type": "execute_result"
    }
   ],
   "source": [
    "qc2 = QuantumCircuit(2)\n",
    "for i in range(2):\n",
    "    qc2.h(i)\n",
    "qc2.z(0)\n",
    "qc2.cx(1,0)\n",
    "qc2.rz(2,0)\n",
    "qc2.cx(1,0)\n",
    "\n",
    "qc2.draw('mpl')  "
   ]
  },
  {
   "cell_type": "code",
   "execution_count": 87,
   "metadata": {},
   "outputs": [
    {
     "name": "stdout",
     "output_type": "stream",
     "text": [
      "First circuit:\n",
      "Statevector([ 0.27015115-0.42073549j, -0.27015115-0.42073549j,\n",
      "              0.27015115+0.42073549j, -0.27015115+0.42073549j],\n",
      "            dims=(2, 2))\n",
      "Second circuit:\n",
      "Statevector([ 0.27015115-0.42073549j, -0.27015115-0.42073549j,\n",
      "              0.27015115+0.42073549j, -0.27015115+0.42073549j],\n",
      "            dims=(2, 2))\n"
     ]
    }
   ],
   "source": [
    "st1 = Statevector(qc1)\n",
    "st2 = Statevector(qc2)\n",
    "\n",
    "print('First circuit:')\n",
    "print(st1)\n",
    "print('Second circuit:')\n",
    "print(st2)"
   ]
  },
  {
   "cell_type": "code",
   "execution_count": 98,
   "metadata": {},
   "outputs": [],
   "source": [
    "qc1 = QuantumCircuit(3)\n",
    "qc2 = QuantumCircuit(3)\n",
    "for i in range(3):\n",
    "    qc1.h(i)\n",
    "    qc2.h(i)\n",
    "\n",
    "expression1='3Z0Z2-Z1Z2+2Z0'\n",
    "expression2='3Z2Z0-Z1Z2+2Z0'\n",
    "    \n",
    "qc1 = create_ansatz_layer(qc1,expression1)\n",
    "qc2 = create_ansatz_layer(qc2,expression2)\n",
    "for i in range(3):\n",
    "    qc1.rx(2,i)\n",
    "    qc2.rx(2,i)"
   ]
  },
  {
   "cell_type": "code",
   "execution_count": 99,
   "metadata": {},
   "outputs": [
    {
     "data": {
      "image/png": "[encoded data removed]",
      "text/plain": [
       "<Figure size 1123.61x284.278 with 1 Axes>"
      ]
     },
     "execution_count": 99,
     "metadata": {},
     "output_type": "execute_result"
    }
   ],
   "source": [
    "qc1.draw('mpl')"
   ]
  },
  {
   "cell_type": "code",
   "execution_count": 100,
   "metadata": {},
   "outputs": [
    {
     "data": {
      "image/png": "[encoded data removed]",
      "text/plain": [
       "<Figure size 1123.61x284.278 with 1 Axes>"
      ]
     },
     "execution_count": 100,
     "metadata": {},
     "output_type": "execute_result"
    }
   ],
   "source": [
    "qc2.draw('mpl')"
   ]
  },
  {
   "cell_type": "code",
   "execution_count": 103,
   "metadata": {},
   "outputs": [
    {
     "name": "stdout",
     "output_type": "stream",
     "text": [
      "First circuit:\n",
      "Statevector([ 0.16453747+0.10159367j, -0.61736941+0.00864046j,\n",
      "             -0.07632849+0.11539155j,  0.16453747-0.1875438j ,\n",
      "             -0.11408799-0.00864046j,  0.12677797-0.22852379j,\n",
      "              0.29303294+0.11887458j, -0.56439292-0.00864046j],\n",
      "            dims=(2, 2, 2))\n",
      "Second circuit:\n",
      "Statevector([ 0.16453747+0.10159367j, -0.61736941+0.00864046j,\n",
      "             -0.07632849+0.11539155j,  0.16453747-0.1875438j ,\n",
      "             -0.11408799-0.00864046j,  0.12677797-0.22852379j,\n",
      "              0.29303294+0.11887458j, -0.56439292-0.00864046j],\n",
      "            dims=(2, 2, 2))\n",
      "Difference:0j\n"
     ]
    }
   ],
   "source": [
    "st1 = Statevector(qc1)\n",
    "st2 = Statevector(qc2)\n",
    "\n",
    "print('First circuit:')\n",
    "print(st1)\n",
    "print('Second circuit:')\n",
    "print(st2)\n",
    "print(f'Difference:{np.sum(st1.data-st2.data)}')"
   ]
  },
  {
   "cell_type": "markdown",
   "metadata": {},
   "source": [
    "With this we confirm with high probability that the change is symmetrical, so We can implement the posibility to input the Ising Hamiltonian using Pauli Strings."
   ]
  },
  {
   "cell_type": "markdown",
   "metadata": {},
   "source": [
    "---\n",
    "\n",
    "# A new beggining\n",
    "\n",
    "## QAOA for Mincut/Ncut problem"
   ]
  }
 ],
 "metadata": {
  "kernelspec": {
   "display_name": "Python 3",
   "language": "python",
   "name": "python3"
  },
  "language_info": {
   "codemirror_mode": {
    "name": "ipython",
    "version": 3
   },
   "file_extension": ".py",
   "mimetype": "text/x-python",
   "name": "python",
   "nbconvert_exporter": "python",
   "pygments_lexer": "ipython3",
   "version": "3.10.0"
  }
 },
 "nbformat": 4,
 "nbformat_minor": 2
}
