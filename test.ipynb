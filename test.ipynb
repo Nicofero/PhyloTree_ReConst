{
 "cells": [
  {
   "cell_type": "markdown",
   "metadata": {},
   "source": [
    "# Testing\n",
    "---\n",
    "This notebook will be my testing method until one test becomes too big to handle"
   ]
  },
  {
   "cell_type": "code",
   "execution_count": 1,
   "metadata": {},
   "outputs": [],
   "source": [
    "from qiskit.quantum_info import Pauli,SparsePauliOp,Statevector\n",
    "from colorama import Fore"
   ]
  },
  {
   "cell_type": "code",
   "execution_count": 16,
   "metadata": {},
   "outputs": [
    {
     "name": "stdout",
     "output_type": "stream",
     "text": [
      "Statevector([0.+0.j, 0.+0.j, 0.+0.j, 0.+0.j, 1.+0.j, 0.+0.j, 0.+0.j,\n",
      "             0.+0.j],\n",
      "            dims=(2, 2, 2))\n"
     ]
    }
   ],
   "source": [
    "psi = Statevector.from_int(4,dims=8)\n",
    "psi"
   ]
  },
  {
   "cell_type": "code",
   "execution_count": 8,
   "metadata": {},
   "outputs": [
    {
     "name": "stdout",
     "output_type": "stream",
     "text": [
      "  (0, 0)\t(1+0j)\n",
      "  (1, 1)\t(1+0j)\n",
      "  (2, 2)\t(-1+0j)\n",
      "  (3, 3)\t(-1+0j)\n",
      "  (4, 4)\t(-1+0j)\n",
      "  (5, 5)\t(-1+0j)\n",
      "  (6, 6)\t(1+0j)\n",
      "  (7, 7)\t(1+0j)\n"
     ]
    }
   ],
   "source": [
    "pl = Pauli('ZZI')\n",
    "\n",
    "print(pl.to_matrix(sparse=True))"
   ]
  },
  {
   "cell_type": "code",
   "execution_count": 10,
   "metadata": {},
   "outputs": [
    {
     "name": "stdout",
     "output_type": "stream",
     "text": [
      "H_cut is\n",
      "SparsePauliOp(['ZZI', 'ZIZ'],\n",
      "              coeffs=[1.+0.j, 1.+0.j])\n",
      "The sparse representation of H_cut is\n",
      "  (0, 0)\t(2+0j)\n",
      "  (1, 1)\t0j\n",
      "  (2, 2)\t0j\n",
      "  (3, 3)\t(-2+0j)\n",
      "  (4, 4)\t(-2+0j)\n",
      "  (5, 5)\t0j\n",
      "  (6, 6)\t0j\n",
      "  (7, 7)\t(2+0j)\n"
     ]
    }
   ],
   "source": [
    "H_cut = SparsePauliOp(Pauli('ZZI'))+ SparsePauliOp(Pauli('ZIZ'))\n",
    "\n",
    "print(\"H_cut is\")\n",
    "print(H_cut)\n",
    "print(\"The sparse representation of H_cut is\")\n",
    "print(H_cut.to_matrix(sparse=True))"
   ]
  },
  {
   "cell_type": "code",
   "execution_count": 18,
   "metadata": {},
   "outputs": [
    {
     "data": {
      "text/plain": [
       "-2.0"
      ]
     },
     "execution_count": 18,
     "metadata": {},
     "output_type": "execute_result"
    }
   ],
   "source": [
    "psi.expectation_value(H_cut).real"
   ]
  },
  {
   "cell_type": "markdown",
   "metadata": {},
   "source": [
    "## Quantum Annealer\n",
    "\n",
    "In this part of the notebook, we try the Ocean framework, to work with quantum annealers "
   ]
  },
  {
   "cell_type": "code",
   "execution_count": 44,
   "metadata": {},
   "outputs": [],
   "source": [
    "import dimod\n",
    "from dwave.system import DWaveSampler, EmbeddingComposite"
   ]
  },
  {
   "cell_type": "code",
   "execution_count": null,
   "metadata": {},
   "outputs": [
    {
     "name": "stdout",
     "output_type": "stream",
     "text": [
      "The problem we are going to solve is:\n",
      "BinaryQuadraticModel({0: 0.0, 1: 0.0, 2: 0.0}, {(1, 0): 1.0, (2, 0): 1.0}, 0.0, 'SPIN')\n"
     ]
    }
   ],
   "source": [
    "# Coefficients of the quadratic term elements (squared or products)\n",
    "J = {(0,1):1, (0,2):1}\n",
    "# Coefficients of the linear terms\n",
    "h = {}\n",
    "problem = dimod.BinaryQuadraticModel(h, J, 0.0, dimod.SPIN)\n",
    "print(\"The problem we are going to solve is:\")\n",
    "print(problem)\n"
   ]
  },
  {
   "cell_type": "code",
   "execution_count": null,
   "metadata": {},
   "outputs": [
    {
     "name": "stdout",
     "output_type": "stream",
     "text": [
      "The solutions that we have obtained are\n",
      "   0  1  2 energy num_oc. chain_.\n",
      "0 -1 +1 +1   -2.0       4     0.0\n",
      "1 +1 -1 -1   -2.0       6     0.0\n",
      "['SPIN', 2 rows, 10 samples, 3 variables]\n"
     ]
    }
   ],
   "source": [
    "# You need to have an access token configured\n",
    "sampler = EmbeddingComposite(DWaveSampler())\n",
    "result = sampler.sample(problem, num_reads=10)\n",
    "print(\"The solutions that we have obtained are\")\n",
    "print(result)"
   ]
  },
  {
   "cell_type": "code",
   "execution_count": 4,
   "metadata": {},
   "outputs": [
    {
     "data": {
      "text/plain": [
       "16583.76"
      ]
     },
     "execution_count": 4,
     "metadata": {},
     "output_type": "execute_result"
    }
   ],
   "source": [
    "result.info['timing']['qpu_access_time']"
   ]
  },
  {
   "cell_type": "markdown",
   "metadata": {},
   "source": [
    "Using `dimod` we can also solve binary problems without having to rewrite them in the QUBO or Ising model form. To test this we will solve the next minimization problem:\n",
    "\n",
    "\\begin{aligned}   \n",
    "        \\text{Minimize } \\quad -5x_0+3x_1-2x_2\\\\\n",
    "        \\text{Subject to }\\qquad \\qquad x_0 + x_2 \\leq 1,\\\\\n",
    "        3x_0 − x_1 + 3x_2 \\leq 4 \\\\\n",
    "        \\vec{x} \\in \\{0,1\\}^3\n",
    "    \\end{aligned}"
   ]
  },
  {
   "cell_type": "code",
   "execution_count": 42,
   "metadata": {},
   "outputs": [
    {
     "name": "stdout",
     "output_type": "stream",
     "text": [
      "Variables: Variables(['x0', 'x1', 'x2'])\n",
      "Objective: ObjectiveView({'x0': -5.0, 'x1': 3.0, 'x2': -2.0}, {}, 0.0, {'x0': 'BINARY', 'x1': 'BINARY', 'x2': 'BINARY'})\n",
      "Our constraints are: {'First constraint': Le(ConstraintView({'x0': 1.0, 'x2': 1.0}, {}, 0.0, {'x0': 'BINARY', 'x2': 'BINARY'}), 1.0), 'Second constraint': Le(ConstraintView({'x0': 3.0, 'x1': -1.0, 'x2': 3.0}, {}, 0.0, {'x0': 'BINARY', 'x1': 'BINARY', 'x2': 'BINARY'}), 4.0)}\n",
      "Solutions\n",
      "  x0 x1 x2 energy num_oc. is_sat. is_fea.\n",
      "6  1  0  1   -7.0       1 arra...   False\n",
      "2  1  0  0   -5.0       1 arra...    True\n",
      "7  1  1  1   -4.0       1 arra...   False\n",
      "3  1  1  0   -2.0       1 arra...    True\n",
      "4  0  0  1   -2.0       1 arra...    True\n",
      "0  0  0  0    0.0       1 arra...    True\n",
      "5  0  1  1    1.0       1 arra...    True\n",
      "1  0  1  0    3.0       1 arra...    True\n",
      "['INTEGER', 8 rows, 8 samples, 3 variables] \n",
      "\n",
      "\u001b[31mBest Solution\u001b[39m\n",
      "Variables: {'x0': 1, 'x1': 0, 'x2': 0}, Cost = -5.0\n"
     ]
    }
   ],
   "source": [
    "from dimod import Binary\n",
    "\n",
    "x0 = Binary(\"x0\")\n",
    "x1 = Binary(\"x1\")\n",
    "x2 = Binary(\"x2\")\n",
    "\n",
    "# Define the problem (objective and constraints)\n",
    "blp = dimod.ConstrainedQuadraticModel()\n",
    "\n",
    "blp.set_objective(-5*x0+3*x1-2*x2)\n",
    "blp.add_constraint(x0 + x2 <= 1, \"First constraint\")\n",
    "blp.add_constraint(3*x0 -x1 + 3*x2 <= 4, \"Second constraint\")\n",
    "\n",
    "print(f\"Variables: {blp.variables}\")\n",
    "print(f\"Objective: {blp.objective}\")\n",
    "print(f\"Our constraints are: {blp.constraints}\")\n",
    "\n",
    "solver = dimod.ExactCQMSolver()\n",
    "\n",
    "sol = solver.sample_cqm(blp)\n",
    "\n",
    "# This calculates even non feasible solutions\n",
    "print('Solutions')\n",
    "print(sol,'\\n')\n",
    "\n",
    "# We want the best feasible solution. We can filter by its feasibility and take the first element\n",
    "feas_sol = sol.filter(lambda s: s.is_feasible)\n",
    "print(Fore.RED+'Best Solution'+Fore.RESET)\n",
    "print(f'Variables: {feas_sol.first.sample}, Cost = {feas_sol.first.energy}')"
   ]
  },
  {
   "cell_type": "markdown",
   "metadata": {},
   "source": [
    "However, using this we dont use quantum annealers, to do that we can transform the problem to a QUBO using Ocean functions."
   ]
  },
  {
   "cell_type": "code",
   "execution_count": null,
   "metadata": {},
   "outputs": [
    {
     "name": "stdout",
     "output_type": "stream",
     "text": [
      "Solutions\n",
      "  slack_v050645ea8f4d4fa59dfae269a2016c91_0 ... x2 energy num_oc. chain_.\n",
      "0                                         0 ...  1   -2.0       1     0.0\n",
      "1                                         0 ...  0   -2.0       1     0.0\n",
      "2                                         0 ...  0    0.0       1     0.0\n",
      "3                                         0 ...  0    0.0       2     0.0\n",
      "4                                         0 ...  1    3.0       2     0.0\n",
      "5                                         1 ...  0    5.0       1     0.0\n",
      "6                                         1 ...  1    8.0       1     0.0\n",
      "7                                         1 ...  1   21.0       1     0.0\n",
      "['BINARY', 8 rows, 10 samples, 7 variables]\n"
     ]
    }
   ],
   "source": [
    "qubo, invert = dimod.cqm_to_bqm(blp,lagrange_multiplier = 5)\n",
    "\n",
    "# print(qubo) # Quite ugly output\n",
    "\n",
    "sampler = EmbeddingComposite(DWaveSampler())\n",
    "result = sampler.sample(qubo,num_reads=10)\n",
    "\n",
    "print('Solutions')\n",
    "print(result)"
   ]
  },
  {
   "cell_type": "markdown",
   "metadata": {},
   "source": [
    "By using the QA we get the solutions from the transformed problem, we can obtain the solutions from the original problem by untransforming"
   ]
  },
  {
   "cell_type": "code",
   "execution_count": 55,
   "metadata": {},
   "outputs": [
    {
     "name": "stdout",
     "output_type": "stream",
     "text": [
      "The solutions to the original problem are\n",
      "  x0 x1 x2 energy num_oc. is_sat. is_fea.\n",
      "2  1  0  0   -5.0       1 arra...    True\n",
      "3  1  0  0   -5.0       2 arra...    True\n",
      "7  1  1  1   -4.0       1 arra...   False\n",
      "0  0  0  1   -2.0       1 arra...    True\n",
      "1  1  1  0   -2.0       1 arra...    True\n",
      "4  0  0  1   -2.0       2 arra...    True\n",
      "6  0  0  1   -2.0       1 arra...    True\n",
      "5  0  0  0    0.0       1 arra...    True\n",
      "['INTEGER', 8 rows, 10 samples, 3 variables] \n",
      "\n",
      "\u001b[31mBest Solution\u001b[39m\n",
      "Variables: {'x0': 1, 'x1': 0, 'x2': 0}, Cost = -5.0\n"
     ]
    }
   ],
   "source": [
    "samples = []\n",
    "occurrences = []\n",
    "\n",
    "for s in result.data():\n",
    "    samples.append(invert(s.sample))\n",
    "    occurrences.append(s.num_occurrences)\n",
    "    sampleset = dimod.SampleSet.from_samples_cqm(samples,blp,num_occurrences=occurrences)\n",
    "    \n",
    "print(\"The solutions to the original problem are\")\n",
    "print(sampleset,'\\n')\n",
    "\n",
    "feas_sol = sampleset.filter(lambda s: s.is_feasible)\n",
    "print(Fore.RED+'Best Solution'+Fore.RESET)\n",
    "print(f'Variables: {feas_sol.first.sample}, Cost = {feas_sol.first.energy}')"
   ]
  },
  {
   "cell_type": "markdown",
   "metadata": {},
   "source": [
    "As we can see, we get the same solutions, with the observation that we get the best solution ($x_0=1, x_1=x_2=0$) more than any other answer.\n",
    "\n",
    "---\n",
    "Using properties from the `dimod` package, we can change the multiple parameters that define the QA, maybe even obtaining better solutions for the problems. However, the scope of this work is not to use QA, rather **Quantum Approximate Optimization Algorithm** or **QAOA** to run the simulation on a general purpose QPU. We will be using **Qiskit** again.\n",
    "\n",
    "## QAOA"
   ]
  },
  {
   "cell_type": "code",
   "execution_count": 3,
   "metadata": {},
   "outputs": [],
   "source": [
    "from qiskit import QuantumCircuit"
   ]
  },
  {
   "cell_type": "markdown",
   "metadata": {},
   "source": [
    "As we will be using this disposition of gates multiple times, we create a function"
   ]
  },
  {
   "cell_type": "code",
   "execution_count": 20,
   "metadata": {},
   "outputs": [],
   "source": [
    "def interaction_term(qc: QuantumCircuit, phi, control, target)->QuantumCircuit:\n",
    "    \"\"\"\n",
    "    Builds the gate from the interaction term in the Ising Hamiltonian\n",
    "    \n",
    "    Args:\n",
    "        `qc`: The quantum circuit to be added\n",
    "        `phi`: The parameter $\\phi$ from the optimization\n",
    "        `control`: The position of the control qubit\n",
    "        `target`: The position of the target qubit\n",
    "    \n",
    "    Returns:\n",
    "        The modified QuantumCircuit\n",
    "    \n",
    "    \"\"\"\n",
    "    \n",
    "    qc.cx(control,target)\n",
    "    qc.rz(phi*2,target)\n",
    "    qc.cx(control,target)\n",
    "    \n",
    "    return qc"
   ]
  },
  {
   "cell_type": "markdown",
   "metadata": {},
   "source": [
    "This is a test to write a QAOA circuit for a simple Hamiltonian $H_1=𝑍_1𝑍_3 + 𝑍_0𝑍_2 − 2𝑍_1 + 3𝑍_2$ with $𝑝 = 1$ (AKA one layer). As we only have 1 layer we will need 2 parameters: $\\beta$ and $\\gamma$"
   ]
  },
  {
   "cell_type": "code",
   "execution_count": 28,
   "metadata": {},
   "outputs": [
    {
     "data": {
      "image/png": "[encoded data removed]",
      "text/plain": [
       "<Figure size 1123.61x367.889 with 1 Axes>"
      ]
     },
     "execution_count": 28,
     "metadata": {},
     "output_type": "execute_result"
    }
   ],
   "source": [
    "qcirc = QuantumCircuit(4)\n",
    "beta = 1\n",
    "gamma = 1\n",
    "\n",
    "# Prepare the state |+>\n",
    "for i in range(4):\n",
    "    qcirc.h(i)\n",
    "\n",
    "# H1, interaction terms\n",
    "qcirc = interaction_term(qcirc,beta,1,3)\n",
    "qcirc.barrier()\n",
    "qcirc = interaction_term(qcirc,beta,0,2)\n",
    "qcirc.barrier()\n",
    "\n",
    "# H1, independent terms\n",
    "qcirc.rz(-4*beta,1)\n",
    "qcirc.rz(6*beta,2)\n",
    "\n",
    "qcirc.barrier()\n",
    "\n",
    "# H0, X rotations\n",
    "for i in range(4):\n",
    "    qcirc.rx(2*gamma,i)\n",
    "\n",
    "qcirc.draw('mpl')"
   ]
  }
 ],
 "metadata": {
  "kernelspec": {
   "display_name": "Python 3",
   "language": "python",
   "name": "python3"
  },
  "language_info": {
   "codemirror_mode": {
    "name": "ipython",
    "version": 3
   },
   "file_extension": ".py",
   "mimetype": "text/x-python",
   "name": "python",
   "nbconvert_exporter": "python",
   "pygments_lexer": "ipython3",
   "version": "3.10.0"
  }
 },
 "nbformat": 4,
 "nbformat_minor": 2
}
