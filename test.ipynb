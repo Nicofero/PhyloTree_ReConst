{
 "cells": [
  {
   "cell_type": "markdown",
   "metadata": {},
   "source": [
    "# Testing\n",
    "---\n",
    "This notebook will be my testing method until one test becomes too big to handle"
   ]
  },
  {
   "cell_type": "code",
   "execution_count": 11,
   "metadata": {},
   "outputs": [],
   "source": [
    "from qiskit.quantum_info import Pauli,SparsePauliOp,Statevector"
   ]
  },
  {
   "cell_type": "code",
   "execution_count": 16,
   "metadata": {},
   "outputs": [
    {
     "name": "stdout",
     "output_type": "stream",
     "text": [
      "Statevector([0.+0.j, 0.+0.j, 0.+0.j, 0.+0.j, 1.+0.j, 0.+0.j, 0.+0.j,\n",
      "             0.+0.j],\n",
      "            dims=(2, 2, 2))\n"
     ]
    }
   ],
   "source": [
    "psi = Statevector.from_int(4,dims=8)\n",
    "psi"
   ]
  },
  {
   "cell_type": "code",
   "execution_count": 8,
   "metadata": {},
   "outputs": [
    {
     "name": "stdout",
     "output_type": "stream",
     "text": [
      "  (0, 0)\t(1+0j)\n",
      "  (1, 1)\t(1+0j)\n",
      "  (2, 2)\t(-1+0j)\n",
      "  (3, 3)\t(-1+0j)\n",
      "  (4, 4)\t(-1+0j)\n",
      "  (5, 5)\t(-1+0j)\n",
      "  (6, 6)\t(1+0j)\n",
      "  (7, 7)\t(1+0j)\n"
     ]
    }
   ],
   "source": [
    "pl = Pauli('ZZI')\n",
    "\n",
    "print(pl.to_matrix(sparse=True))"
   ]
  },
  {
   "cell_type": "code",
   "execution_count": 10,
   "metadata": {},
   "outputs": [
    {
     "name": "stdout",
     "output_type": "stream",
     "text": [
      "H_cut is\n",
      "SparsePauliOp(['ZZI', 'ZIZ'],\n",
      "              coeffs=[1.+0.j, 1.+0.j])\n",
      "The sparse representation of H_cut is\n",
      "  (0, 0)\t(2+0j)\n",
      "  (1, 1)\t0j\n",
      "  (2, 2)\t0j\n",
      "  (3, 3)\t(-2+0j)\n",
      "  (4, 4)\t(-2+0j)\n",
      "  (5, 5)\t0j\n",
      "  (6, 6)\t0j\n",
      "  (7, 7)\t(2+0j)\n"
     ]
    }
   ],
   "source": [
    "H_cut = SparsePauliOp(Pauli('ZZI'))+ SparsePauliOp(Pauli('ZIZ'))\n",
    "\n",
    "print(\"H_cut is\")\n",
    "print(H_cut)\n",
    "print(\"The sparse representation of H_cut is\")\n",
    "print(H_cut.to_matrix(sparse=True))"
   ]
  },
  {
   "cell_type": "code",
   "execution_count": 18,
   "metadata": {},
   "outputs": [
    {
     "data": {
      "text/plain": [
       "-2.0"
      ]
     },
     "execution_count": 18,
     "metadata": {},
     "output_type": "execute_result"
    }
   ],
   "source": [
    "psi.expectation_value(H_cut).real"
   ]
  },
  {
   "cell_type": "markdown",
   "metadata": {},
   "source": [
    "## Quantum Annealer\n",
    "\n",
    "In this part of the notebook, we try the Ocean framework, to work with quantum annealers "
   ]
  },
  {
   "cell_type": "code",
   "execution_count": null,
   "metadata": {},
   "outputs": [
    {
     "name": "stdout",
     "output_type": "stream",
     "text": [
      "The problem we are going to solve is:\n",
      "BinaryQuadraticModel({0: 0.0, 1: 0.0, 2: 0.0}, {(1, 0): 1.0, (2, 0): 1.0}, 0.0, 'SPIN')\n"
     ]
    }
   ],
   "source": [
    "import dimod\n",
    "# Coefficients of the quadratic term elements (squared or products)\n",
    "J = {(0,1):1, (0,2):1}\n",
    "# Coefficients of the linear terms\n",
    "h = {}\n",
    "problem = dimod.BinaryQuadraticModel(h, J, 0.0, dimod.SPIN)\n",
    "print(\"The problem we are going to solve is:\")\n",
    "print(problem)\n"
   ]
  },
  {
   "cell_type": "code",
   "execution_count": null,
   "metadata": {},
   "outputs": [
    {
     "ename": "ValueError",
     "evalue": "API token not defined",
     "output_type": "error",
     "traceback": [
      "\u001b[1;31m---------------------------------------------------------------------------\u001b[0m",
      "\u001b[1;31mValueError\u001b[0m                                Traceback (most recent call last)",
      "Cell \u001b[1;32mIn[3], line 3\u001b[0m\n\u001b[0;32m      1\u001b[0m \u001b[38;5;28;01mfrom\u001b[39;00m \u001b[38;5;21;01mdwave\u001b[39;00m\u001b[38;5;21;01m.\u001b[39;00m\u001b[38;5;21;01msystem\u001b[39;00m \u001b[38;5;28;01mimport\u001b[39;00m DWaveSampler, EmbeddingComposite\n\u001b[1;32m----> 3\u001b[0m sampler \u001b[38;5;241m=\u001b[39m EmbeddingComposite(\u001b[43mDWaveSampler\u001b[49m\u001b[43m(\u001b[49m\u001b[43m)\u001b[49m)\n\u001b[0;32m      4\u001b[0m result \u001b[38;5;241m=\u001b[39m sampler\u001b[38;5;241m.\u001b[39msample(problem, num_reads\u001b[38;5;241m=\u001b[39m\u001b[38;5;241m10\u001b[39m)\n\u001b[0;32m      5\u001b[0m \u001b[38;5;28mprint\u001b[39m(\u001b[38;5;124m\"\u001b[39m\u001b[38;5;124mThe solutions that we have obtained are\u001b[39m\u001b[38;5;124m\"\u001b[39m)\n",
      "File \u001b[1;32mc:\\Users\\Nicolás Fernández\\AppData\\Local\\Programs\\Python\\Python310\\lib\\site-packages\\dwave\\system\\samplers\\dwave_sampler.py:180\u001b[0m, in \u001b[0;36mDWaveSampler.__init__\u001b[1;34m(self, failover, retry_interval, **config)\u001b[0m\n\u001b[0;32m    177\u001b[0m \u001b[38;5;28mself\u001b[39m\u001b[38;5;241m.\u001b[39mretry_interval \u001b[38;5;241m=\u001b[39m retry_interval\n\u001b[0;32m    178\u001b[0m \u001b[38;5;28mself\u001b[39m\u001b[38;5;241m.\u001b[39m_solver_penalty \u001b[38;5;241m=\u001b[39m defaultdict(\u001b[38;5;28mint\u001b[39m)\n\u001b[1;32m--> 180\u001b[0m \u001b[38;5;28mself\u001b[39m\u001b[38;5;241m.\u001b[39mclient \u001b[38;5;241m=\u001b[39m Client\u001b[38;5;241m.\u001b[39mfrom_config(\u001b[38;5;241m*\u001b[39m\u001b[38;5;241m*\u001b[39mconfig)\n\u001b[0;32m    181\u001b[0m \u001b[38;5;28mself\u001b[39m\u001b[38;5;241m.\u001b[39msolver \u001b[38;5;241m=\u001b[39m \u001b[38;5;28mself\u001b[39m\u001b[38;5;241m.\u001b[39m_get_solver(penalty\u001b[38;5;241m=\u001b[39m\u001b[38;5;28mself\u001b[39m\u001b[38;5;241m.\u001b[39m_solver_penalty)\n",
      "File \u001b[1;32mc:\\Users\\Nicolás Fernández\\AppData\\Local\\Programs\\Python\\Python310\\lib\\site-packages\\dwave\\cloud\\client\\base.py:436\u001b[0m, in \u001b[0;36mClient.from_config\u001b[1;34m(cls, config_file, profile, client, **kwargs)\u001b[0m\n\u001b[0;32m    433\u001b[0m _client \u001b[38;5;241m=\u001b[39m config\u001b[38;5;241m.\u001b[39mpop(\u001b[38;5;124m'\u001b[39m\u001b[38;5;124mclient\u001b[39m\u001b[38;5;124m'\u001b[39m, \u001b[38;5;28;01mNone\u001b[39;00m) \u001b[38;5;129;01mor\u001b[39;00m \u001b[38;5;124m'\u001b[39m\u001b[38;5;124mbase\u001b[39m\u001b[38;5;124m'\u001b[39m\n\u001b[0;32m    435\u001b[0m logger\u001b[38;5;241m.\u001b[39mdebug(\u001b[38;5;124m\"\u001b[39m\u001b[38;5;124mCreating \u001b[39m\u001b[38;5;132;01m%s\u001b[39;00m\u001b[38;5;124m.Client() with: \u001b[39m\u001b[38;5;132;01m%r\u001b[39;00m\u001b[38;5;124m\"\u001b[39m, _client, config)\n\u001b[1;32m--> 436\u001b[0m \u001b[38;5;28;01mreturn\u001b[39;00m _clients[_client](\u001b[38;5;241m*\u001b[39m\u001b[38;5;241m*\u001b[39mconfig)\n",
      "File \u001b[1;32mc:\\Users\\Nicolás Fernández\\AppData\\Local\\Programs\\Python\\Python310\\lib\\site-packages\\dwave\\cloud\\events.py:109\u001b[0m, in \u001b[0;36mdispatches_events.__call__.<locals>.wrapped\u001b[1;34m(*pargs, **kwargs)\u001b[0m\n\u001b[0;32m    104\u001b[0m \u001b[38;5;129m@wraps\u001b[39m(fn)\n\u001b[0;32m    105\u001b[0m \u001b[38;5;28;01mdef\u001b[39;00m \u001b[38;5;21mwrapped\u001b[39m(\u001b[38;5;241m*\u001b[39mpargs, \u001b[38;5;241m*\u001b[39m\u001b[38;5;241m*\u001b[39mkwargs):\n\u001b[0;32m    106\u001b[0m     \u001b[38;5;28;01mif\u001b[39;00m \u001b[38;5;129;01mnot\u001b[39;00m (has_handler(\u001b[38;5;28mself\u001b[39m\u001b[38;5;241m.\u001b[39mbefore_eventname) \u001b[38;5;129;01mor\u001b[39;00m\n\u001b[0;32m    107\u001b[0m             has_handler(\u001b[38;5;28mself\u001b[39m\u001b[38;5;241m.\u001b[39mafter_eventname)):\n\u001b[0;32m    108\u001b[0m         \u001b[38;5;66;03m# skip dispatch altogether\u001b[39;00m\n\u001b[1;32m--> 109\u001b[0m         \u001b[38;5;28;01mreturn\u001b[39;00m fn(\u001b[38;5;241m*\u001b[39mpargs, \u001b[38;5;241m*\u001b[39m\u001b[38;5;241m*\u001b[39mkwargs)\n\u001b[0;32m    111\u001b[0m     sig \u001b[38;5;241m=\u001b[39m inspect\u001b[38;5;241m.\u001b[39msignature(fn)\n\u001b[0;32m    112\u001b[0m     bound \u001b[38;5;241m=\u001b[39m sig\u001b[38;5;241m.\u001b[39mbind(\u001b[38;5;241m*\u001b[39mpargs, \u001b[38;5;241m*\u001b[39m\u001b[38;5;241m*\u001b[39mkwargs)\n",
      "File \u001b[1;32mc:\\Users\\Nicolás Fernández\\AppData\\Local\\Programs\\Python\\Python310\\lib\\site-packages\\dwave\\cloud\\client\\base.py:467\u001b[0m, in \u001b[0;36mClient.__init__\u001b[1;34m(self, **kwargs)\u001b[0m\n\u001b[0;32m    464\u001b[0m     \u001b[38;5;28;01mraise\u001b[39;00m \u001b[38;5;167;01mValueError\u001b[39;00m(\u001b[38;5;124m\"\u001b[39m\u001b[38;5;124mAPI endpoint not defined\u001b[39m\u001b[38;5;124m\"\u001b[39m)\n\u001b[0;32m    466\u001b[0m \u001b[38;5;28;01mif\u001b[39;00m \u001b[38;5;129;01mnot\u001b[39;00m \u001b[38;5;28mself\u001b[39m\u001b[38;5;241m.\u001b[39mconfig\u001b[38;5;241m.\u001b[39mtoken:\n\u001b[1;32m--> 467\u001b[0m     \u001b[38;5;28;01mraise\u001b[39;00m \u001b[38;5;167;01mValueError\u001b[39;00m(\u001b[38;5;124m\"\u001b[39m\u001b[38;5;124mAPI token not defined\u001b[39m\u001b[38;5;124m\"\u001b[39m)\n\u001b[0;32m    469\u001b[0m \u001b[38;5;66;03m# Create session for main thread only\u001b[39;00m\n\u001b[0;32m    470\u001b[0m \u001b[38;5;28mself\u001b[39m\u001b[38;5;241m.\u001b[39msession \u001b[38;5;241m=\u001b[39m \u001b[38;5;28mself\u001b[39m\u001b[38;5;241m.\u001b[39mcreate_session()\n",
      "\u001b[1;31mValueError\u001b[0m: API token not defined"
     ]
    }
   ],
   "source": [
    "from dwave.system import DWaveSampler, EmbeddingComposite\n",
    "# I need to have an access token \n",
    "sampler = EmbeddingComposite(DWaveSampler())\n",
    "result = sampler.sample(problem, num_reads=10)\n",
    "print(\"The solutions that we have obtained are\")\n",
    "print(result)"
   ]
  }
 ],
 "metadata": {
  "kernelspec": {
   "display_name": "Python 3",
   "language": "python",
   "name": "python3"
  },
  "language_info": {
   "codemirror_mode": {
    "name": "ipython",
    "version": 3
   },
   "file_extension": ".py",
   "mimetype": "text/x-python",
   "name": "python",
   "nbconvert_exporter": "python",
   "pygments_lexer": "ipython3",
   "version": "3.10.0"
  }
 },
 "nbformat": 4,
 "nbformat_minor": 2
}
