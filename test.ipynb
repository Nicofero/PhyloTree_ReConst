{
 "cells": [
  {
   "cell_type": "markdown",
   "metadata": {},
   "source": [
    "# Testing\n",
    "---\n",
    "This notebook will be my testing method until one test becomes too big to handle"
   ]
  },
  {
   "cell_type": "code",
   "execution_count": 76,
   "metadata": {},
   "outputs": [],
   "source": [
    "from qiskit.quantum_info import Pauli,SparsePauliOp,Statevector\n",
    "from colorama import Fore\n",
    "import numpy as np"
   ]
  },
  {
   "cell_type": "code",
   "execution_count": 16,
   "metadata": {},
   "outputs": [
    {
     "name": "stdout",
     "output_type": "stream",
     "text": [
      "Statevector([0.+0.j, 0.+0.j, 0.+0.j, 0.+0.j, 1.+0.j, 0.+0.j, 0.+0.j,\n",
      "             0.+0.j],\n",
      "            dims=(2, 2, 2))\n"
     ]
    }
   ],
   "source": [
    "psi = Statevector.from_int(4,dims=8)\n",
    "psi"
   ]
  },
  {
   "cell_type": "code",
   "execution_count": 8,
   "metadata": {},
   "outputs": [
    {
     "name": "stdout",
     "output_type": "stream",
     "text": [
      "  (0, 0)\t(1+0j)\n",
      "  (1, 1)\t(1+0j)\n",
      "  (2, 2)\t(-1+0j)\n",
      "  (3, 3)\t(-1+0j)\n",
      "  (4, 4)\t(-1+0j)\n",
      "  (5, 5)\t(-1+0j)\n",
      "  (6, 6)\t(1+0j)\n",
      "  (7, 7)\t(1+0j)\n"
     ]
    }
   ],
   "source": [
    "pl = Pauli('ZZI')\n",
    "\n",
    "print(pl.to_matrix(sparse=True))"
   ]
  },
  {
   "cell_type": "code",
   "execution_count": 10,
   "metadata": {},
   "outputs": [
    {
     "name": "stdout",
     "output_type": "stream",
     "text": [
      "H_cut is\n",
      "SparsePauliOp(['ZZI', 'ZIZ'],\n",
      "              coeffs=[1.+0.j, 1.+0.j])\n",
      "The sparse representation of H_cut is\n",
      "  (0, 0)\t(2+0j)\n",
      "  (1, 1)\t0j\n",
      "  (2, 2)\t0j\n",
      "  (3, 3)\t(-2+0j)\n",
      "  (4, 4)\t(-2+0j)\n",
      "  (5, 5)\t0j\n",
      "  (6, 6)\t0j\n",
      "  (7, 7)\t(2+0j)\n"
     ]
    }
   ],
   "source": [
    "H_cut = SparsePauliOp(Pauli('ZZI'))+ SparsePauliOp(Pauli('ZIZ'))\n",
    "\n",
    "print(\"H_cut is\")\n",
    "print(H_cut)\n",
    "print(\"The sparse representation of H_cut is\")\n",
    "print(H_cut.to_matrix(sparse=True))"
   ]
  },
  {
   "cell_type": "code",
   "execution_count": 18,
   "metadata": {},
   "outputs": [
    {
     "data": {
      "text/plain": [
       "-2.0"
      ]
     },
     "execution_count": 18,
     "metadata": {},
     "output_type": "execute_result"
    }
   ],
   "source": [
    "psi.expectation_value(H_cut).real"
   ]
  },
  {
   "cell_type": "markdown",
   "metadata": {},
   "source": [
    "## Quantum Annealer\n",
    "\n",
    "In this part of the notebook, we try the Ocean framework, to work with quantum annealers "
   ]
  },
  {
   "cell_type": "code",
   "execution_count": 44,
   "metadata": {},
   "outputs": [],
   "source": [
    "import dimod\n",
    "from dwave.system import DWaveSampler, EmbeddingComposite"
   ]
  },
  {
   "cell_type": "code",
   "execution_count": null,
   "metadata": {},
   "outputs": [
    {
     "name": "stdout",
     "output_type": "stream",
     "text": [
      "The problem we are going to solve is:\n",
      "BinaryQuadraticModel({0: 0.0, 1: 0.0, 2: 0.0}, {(1, 0): 1.0, (2, 0): 1.0}, 0.0, 'SPIN')\n"
     ]
    }
   ],
   "source": [
    "# Coefficients of the quadratic term elements (squared or products)\n",
    "J = {(0,1):1, (0,2):1}\n",
    "# Coefficients of the linear terms\n",
    "h = {}\n",
    "problem = dimod.BinaryQuadraticModel(h, J, 0.0, dimod.SPIN)\n",
    "print(\"The problem we are going to solve is:\")\n",
    "print(problem)\n"
   ]
  },
  {
   "cell_type": "code",
   "execution_count": null,
   "metadata": {},
   "outputs": [
    {
     "name": "stdout",
     "output_type": "stream",
     "text": [
      "The solutions that we have obtained are\n",
      "   0  1  2 energy num_oc. chain_.\n",
      "0 -1 +1 +1   -2.0       4     0.0\n",
      "1 +1 -1 -1   -2.0       6     0.0\n",
      "['SPIN', 2 rows, 10 samples, 3 variables]\n"
     ]
    }
   ],
   "source": [
    "# You need to have an access token configured\n",
    "# sampler = EmbeddingComposite(DWaveSampler())\n",
    "# result = sampler.sample(problem, num_reads=10)\n",
    "print(\"The solutions that we have obtained are\")\n",
    "print(result)"
   ]
  },
  {
   "cell_type": "code",
   "execution_count": 4,
   "metadata": {},
   "outputs": [
    {
     "data": {
      "text/plain": [
       "16583.76"
      ]
     },
     "execution_count": 4,
     "metadata": {},
     "output_type": "execute_result"
    }
   ],
   "source": [
    "result.info['timing']['qpu_access_time']"
   ]
  },
  {
   "cell_type": "markdown",
   "metadata": {},
   "source": [
    "Using `dimod` we can also solve binary problems without having to rewrite them in the QUBO or Ising model form. To test this we will solve the next minimization problem:\n",
    "\n",
    "\\begin{aligned}   \n",
    "        \\text{Minimize } \\quad -5x_0+3x_1-2x_2\\\\\n",
    "        \\text{Subject to }\\qquad \\qquad x_0 + x_2 \\leq 1,\\\\\n",
    "        3x_0 − x_1 + 3x_2 \\leq 4 \\\\\n",
    "        \\vec{x} \\in \\{0,1\\}^3\n",
    "    \\end{aligned}"
   ]
  },
  {
   "cell_type": "code",
   "execution_count": 42,
   "metadata": {},
   "outputs": [
    {
     "name": "stdout",
     "output_type": "stream",
     "text": [
      "Variables: Variables(['x0', 'x1', 'x2'])\n",
      "Objective: ObjectiveView({'x0': -5.0, 'x1': 3.0, 'x2': -2.0}, {}, 0.0, {'x0': 'BINARY', 'x1': 'BINARY', 'x2': 'BINARY'})\n",
      "Our constraints are: {'First constraint': Le(ConstraintView({'x0': 1.0, 'x2': 1.0}, {}, 0.0, {'x0': 'BINARY', 'x2': 'BINARY'}), 1.0), 'Second constraint': Le(ConstraintView({'x0': 3.0, 'x1': -1.0, 'x2': 3.0}, {}, 0.0, {'x0': 'BINARY', 'x1': 'BINARY', 'x2': 'BINARY'}), 4.0)}\n",
      "Solutions\n",
      "  x0 x1 x2 energy num_oc. is_sat. is_fea.\n",
      "6  1  0  1   -7.0       1 arra...   False\n",
      "2  1  0  0   -5.0       1 arra...    True\n",
      "7  1  1  1   -4.0       1 arra...   False\n",
      "3  1  1  0   -2.0       1 arra...    True\n",
      "4  0  0  1   -2.0       1 arra...    True\n",
      "0  0  0  0    0.0       1 arra...    True\n",
      "5  0  1  1    1.0       1 arra...    True\n",
      "1  0  1  0    3.0       1 arra...    True\n",
      "['INTEGER', 8 rows, 8 samples, 3 variables] \n",
      "\n",
      "\u001b[31mBest Solution\u001b[39m\n",
      "Variables: {'x0': 1, 'x1': 0, 'x2': 0}, Cost = -5.0\n"
     ]
    }
   ],
   "source": [
    "from dimod import Binary\n",
    "\n",
    "x0 = Binary(\"x0\")\n",
    "x1 = Binary(\"x1\")\n",
    "x2 = Binary(\"x2\")\n",
    "\n",
    "# Define the problem (objective and constraints)\n",
    "blp = dimod.ConstrainedQuadraticModel()\n",
    "\n",
    "blp.set_objective(-5*x0+3*x1-2*x2)\n",
    "blp.add_constraint(x0 + x2 <= 1, \"First constraint\")\n",
    "blp.add_constraint(3*x0 -x1 + 3*x2 <= 4, \"Second constraint\")\n",
    "\n",
    "print(f\"Variables: {blp.variables}\")\n",
    "print(f\"Objective: {blp.objective}\")\n",
    "print(f\"Our constraints are: {blp.constraints}\")\n",
    "\n",
    "solver = dimod.ExactCQMSolver()\n",
    "\n",
    "sol = solver.sample_cqm(blp)\n",
    "\n",
    "# This calculates even non feasible solutions\n",
    "print('Solutions')\n",
    "print(sol,'\\n')\n",
    "\n",
    "# We want the best feasible solution. We can filter by its feasibility and take the first element\n",
    "feas_sol = sol.filter(lambda s: s.is_feasible)\n",
    "print(Fore.RED+'Best Solution'+Fore.RESET)\n",
    "print(f'Variables: {feas_sol.first.sample}, Cost = {feas_sol.first.energy}')"
   ]
  },
  {
   "cell_type": "markdown",
   "metadata": {},
   "source": [
    "However, using this we dont use quantum annealers, to do that we can transform the problem to a QUBO using Ocean functions."
   ]
  },
  {
   "cell_type": "code",
   "execution_count": null,
   "metadata": {},
   "outputs": [
    {
     "name": "stdout",
     "output_type": "stream",
     "text": [
      "Solutions\n",
      "  slack_v050645ea8f4d4fa59dfae269a2016c91_0 ... x2 energy num_oc. chain_.\n",
      "0                                         0 ...  1   -2.0       1     0.0\n",
      "1                                         0 ...  0   -2.0       1     0.0\n",
      "2                                         0 ...  0    0.0       1     0.0\n",
      "3                                         0 ...  0    0.0       2     0.0\n",
      "4                                         0 ...  1    3.0       2     0.0\n",
      "5                                         1 ...  0    5.0       1     0.0\n",
      "6                                         1 ...  1    8.0       1     0.0\n",
      "7                                         1 ...  1   21.0       1     0.0\n",
      "['BINARY', 8 rows, 10 samples, 7 variables]\n"
     ]
    }
   ],
   "source": [
    "qubo, invert = dimod.cqm_to_bqm(blp,lagrange_multiplier = 5)\n",
    "\n",
    "# print(qubo) # Quite ugly output\n",
    "\n",
    "# Uncomment to execute\n",
    "# sampler = EmbeddingComposite(DWaveSampler())\n",
    "# result = sampler.sample(qubo,num_reads=10)\n",
    "\n",
    "print('Solutions')\n",
    "print(result)"
   ]
  },
  {
   "cell_type": "markdown",
   "metadata": {},
   "source": [
    "By using the QA we get the solutions from the transformed problem, we can obtain the solutions from the original problem by untransforming"
   ]
  },
  {
   "cell_type": "code",
   "execution_count": 55,
   "metadata": {},
   "outputs": [
    {
     "name": "stdout",
     "output_type": "stream",
     "text": [
      "The solutions to the original problem are\n",
      "  x0 x1 x2 energy num_oc. is_sat. is_fea.\n",
      "2  1  0  0   -5.0       1 arra...    True\n",
      "3  1  0  0   -5.0       2 arra...    True\n",
      "7  1  1  1   -4.0       1 arra...   False\n",
      "0  0  0  1   -2.0       1 arra...    True\n",
      "1  1  1  0   -2.0       1 arra...    True\n",
      "4  0  0  1   -2.0       2 arra...    True\n",
      "6  0  0  1   -2.0       1 arra...    True\n",
      "5  0  0  0    0.0       1 arra...    True\n",
      "['INTEGER', 8 rows, 10 samples, 3 variables] \n",
      "\n",
      "\u001b[31mBest Solution\u001b[39m\n",
      "Variables: {'x0': 1, 'x1': 0, 'x2': 0}, Cost = -5.0\n"
     ]
    }
   ],
   "source": [
    "samples = []\n",
    "occurrences = []\n",
    "\n",
    "for s in result.data():\n",
    "    samples.append(invert(s.sample))\n",
    "    occurrences.append(s.num_occurrences)\n",
    "    sampleset = dimod.SampleSet.from_samples_cqm(samples,blp,num_occurrences=occurrences)\n",
    "    \n",
    "print(\"The solutions to the original problem are\")\n",
    "print(sampleset,'\\n')\n",
    "\n",
    "feas_sol = sampleset.filter(lambda s: s.is_feasible)\n",
    "print(Fore.RED+'Best Solution'+Fore.RESET)\n",
    "print(f'Variables: {feas_sol.first.sample}, Cost = {feas_sol.first.energy}')"
   ]
  },
  {
   "cell_type": "markdown",
   "metadata": {},
   "source": [
    "As we can see, we get the same solutions, with the observation that we get the best solution ($x_0=1, x_1=x_2=0$) more than any other answer.\n",
    "\n",
    "---\n",
    "Using properties from the `dimod` package, we can change the multiple parameters that define the QA, maybe even obtaining better solutions for the problems. However, the scope of this work is not to use QA, rather **Quantum Approximate Optimization Algorithm** or **QAOA** to run the simulation on a general purpose QPU. We will be using **Qiskit** again.\n",
    "\n",
    "## QAOA"
   ]
  },
  {
   "cell_type": "code",
   "execution_count": 51,
   "metadata": {},
   "outputs": [],
   "source": [
    "from qiskit import QuantumCircuit, transpile\n",
    "from qiskit_aer import AerSimulator\n",
    "from qiskit_aer.primitives import SamplerV2\n",
    "from qiskit.visualization import plot_histogram"
   ]
  },
  {
   "cell_type": "markdown",
   "metadata": {},
   "source": [
    "As we will be using this disposition of gates multiple times, we create a function"
   ]
  },
  {
   "cell_type": "code",
   "execution_count": 9,
   "metadata": {},
   "outputs": [],
   "source": [
    "def interaction_term(qc: QuantumCircuit, phi, control, target)->QuantumCircuit:\n",
    "    \"\"\"\n",
    "    Builds the gate from the interaction term in the Ising Hamiltonian\n",
    "    \n",
    "    Args:\n",
    "        `qc`: The quantum circuit to be added\n",
    "        `phi`: The parameter $\\phi$ from the optimization\n",
    "        `control`: The position of the control qubit\n",
    "        `target`: The position of the target qubit\n",
    "    \n",
    "    Returns:\n",
    "        The modified QuantumCircuit\n",
    "    \n",
    "    \"\"\"\n",
    "    \n",
    "    qc.cx(control,target)\n",
    "    qc.rz(phi*2,target)\n",
    "    qc.cx(control,target)\n",
    "    qc.barrier()\n",
    "    \n",
    "    return qc"
   ]
  },
  {
   "cell_type": "code",
   "execution_count": 121,
   "metadata": {},
   "outputs": [],
   "source": [
    "# Function to automatize layers of an ansatz\n",
    "def create_ansatz_layer(qc:QuantumCircuit,expression:str,x=1,y=1)->QuantumCircuit:\n",
    "    \n",
    "    expression = expression.replace(' ', '')\n",
    "    \n",
    "    # Standardize the polynomial string to handle positive terms properly\n",
    "    expression = expression.replace('-', '+-')\n",
    "    if expression[0] == '+':\n",
    "        expression = expression[1:]\n",
    "    \n",
    "    # Split the string into terms\n",
    "    terms = expression.split('+')\n",
    "    \n",
    "    for term in terms:\n",
    "        gate = term.count('Z')\n",
    "        coefs = term.split('Z')\n",
    "        if coefs[0] == '':\n",
    "            coefs[0]=1\n",
    "        if coefs[0] == '-':\n",
    "            coefs[0]=-1\n",
    "        coefs = [int(x) for x in coefs]\n",
    "        if gate == 1:\n",
    "            qc.rz(2*coefs[0]*y,coefs[1])\n",
    "            qc.barrier()\n",
    "        else:\n",
    "            qc = interaction_term(qc,x,coefs[1],coefs[2])\n",
    "    return qc"
   ]
  },
  {
   "cell_type": "markdown",
   "metadata": {},
   "source": [
    "This is a test to write a QAOA circuit for a simple Hamiltonian $H_1=𝑍_1𝑍_3 + 𝑍_0𝑍_2 − 2𝑍_1 + 3𝑍_2$ with $𝑝 = 1$ (AKA one layer). As we only have 1 layer we will need 2 parameters: $\\beta$ and $\\gamma$. In this example we are already using the function that creates an ansatz from a ising hamiltonian."
   ]
  },
  {
   "cell_type": "code",
   "execution_count": 118,
   "metadata": {},
   "outputs": [
    {
     "data": {
      "image/png": "[encoded data removed]",
      "text/plain": [
       "<Figure size 621.739x200.667 with 1 Axes>"
      ]
     },
     "execution_count": 118,
     "metadata": {},
     "output_type": "execute_result"
    }
   ],
   "source": [
    "expression = 'Z0Z1'\n",
    "size = 2\n",
    "qc = QuantumCircuit(size)\n",
    "for i in range(size):\n",
    "    qc.h(i)\n",
    "qc =  create_ansatz_layer(qc,expression)\n",
    "for i in range(size):\n",
    "    qc.rx(2,i)\n",
    "qc.draw('mpl')"
   ]
  },
  {
   "cell_type": "code",
   "execution_count": 119,
   "metadata": {},
   "outputs": [
    {
     "data": {
      "image/png": "[encoded data removed]",
      "text/plain": [
       "<Figure size 640x480 with 1 Axes>"
      ]
     },
     "execution_count": 119,
     "metadata": {},
     "output_type": "execute_result"
    }
   ],
   "source": [
    "sim = AerSimulator()\n",
    "qc.measure_all()\n",
    "qc = transpile(qc,sim)\n",
    "\n",
    "sampler = SamplerV2()\n",
    "shots =1028\n",
    "\n",
    "job = sampler.run([qc],shots=shots)\n",
    "job_result = job.result()\n",
    "counts=job_result[0].data.meas.get_counts()\n",
    "plot_histogram(counts)"
   ]
  },
  {
   "cell_type": "markdown",
   "metadata": {},
   "source": [
    "### Time test\n",
    "\n",
    "In order to calculate the energy of the system you have to compute multiple matrix products, however the matrices we are working with are diagonal, so we try to create a more efficient method. Moreover, we are working with states from the computational basis, meaning every position is a 0 so:\n",
    "\n",
    "$\\bra{a}H_1\\ket{a}=H_{jj}$, as $a_j=1$.\n",
    "\n",
    "With this in mind and knowing that:\n",
    "\n",
    "$\\bra{a}Z_jZ_k\\ket{a}=\\pm1$\n",
    "\n",
    "We can obtain the energy without having to calculate any matrix products."
   ]
  },
  {
   "cell_type": "code",
   "execution_count": 111,
   "metadata": {},
   "outputs": [],
   "source": [
    "def eval_energy(expression:str,factor:str):\n",
    "    energy = 0\n",
    "    \n",
    "    expression = expression.replace(' ', '')\n",
    "    \n",
    "    # Standardize the polynomial string to handle positive terms properly\n",
    "    expression = expression.replace('-', '+-')\n",
    "    if expression[0] == '+':\n",
    "        expression = expression[1:]\n",
    "    \n",
    "    # Split the string into terms\n",
    "    terms = expression.split('+')\n",
    "    \n",
    "    \n",
    "    for term in terms:\n",
    "        gate = term.count('Z')\n",
    "        coefs = term.split('Z')\n",
    "        if coefs[0] == '':\n",
    "            coefs[0]=1\n",
    "        if coefs[0] == '-':\n",
    "            coefs[0]=-1\n",
    "        coefs = [int(x) for x in coefs]\n",
    "        if gate == 1:\n",
    "            energy += (-2*int(factor[coefs[1]])+1)*coefs[0]\n",
    "        else:\n",
    "            energy += (2*np.abs(int(factor[coefs[1]])+int(factor[coefs[2]])-1)-1)*coefs[0]\n",
    "    \n",
    "    return energy"
   ]
  },
  {
   "cell_type": "code",
   "execution_count": 112,
   "metadata": {},
   "outputs": [
    {
     "data": {
      "text/plain": [
       "-5"
      ]
     },
     "execution_count": 112,
     "metadata": {},
     "output_type": "execute_result"
    }
   ],
   "source": [
    "eval_energy('Z1Z3+Z0Z2-2Z1+3Z2','1011')"
   ]
  },
  {
   "cell_type": "markdown",
   "metadata": {},
   "source": [
    "Using what we know this should be the energy expectation using the parameters $\\beta=\\gamma=1$ with one layer."
   ]
  },
  {
   "cell_type": "code",
   "execution_count": 120,
   "metadata": {},
   "outputs": [
    {
     "name": "stdout",
     "output_type": "stream",
     "text": [
      "-0.6634241245136185\n"
     ]
    }
   ],
   "source": [
    "energy = 0\n",
    "for key in counts:\n",
    "    energy+= counts[key]*eval_energy(expression,key)/shots\n",
    "    \n",
    "print(energy)"
   ]
  },
  {
   "cell_type": "code",
   "execution_count": 128,
   "metadata": {},
   "outputs": [],
   "source": [
    "def f_to_minimize(x):\n",
    "    expression = 'Z0Z1'\n",
    "    size = 2\n",
    "    qc = QuantumCircuit(size)\n",
    "    for i in range(size):\n",
    "        qc.h(i)\n",
    "    qc =  create_ansatz_layer(qc,expression,x[0],x[1])\n",
    "    for i in range(size):\n",
    "        qc.rx(2,i)\n",
    "        sim = AerSimulator()\n",
    "    qc.measure_all()\n",
    "    qc = transpile(qc,sim)\n",
    "\n",
    "    sampler = SamplerV2()\n",
    "    shots =64\n",
    "\n",
    "    job = sampler.run([qc],shots=shots)\n",
    "    job_result = job.result()\n",
    "    counts=job_result[0].data.meas.get_counts()\n",
    "    \n",
    "    energy = 0\n",
    "    for key in counts:\n",
    "        energy+= counts[key]*eval_energy(expression,key)/shots\n",
    "        \n",
    "    return energy"
   ]
  },
  {
   "cell_type": "code",
   "execution_count": 145,
   "metadata": {},
   "outputs": [
    {
     "ename": "KeyboardInterrupt",
     "evalue": "",
     "output_type": "error",
     "traceback": [
      "\u001b[1;31m---------------------------------------------------------------------------\u001b[0m",
      "\u001b[1;31mKeyboardInterrupt\u001b[0m                         Traceback (most recent call last)",
      "Cell \u001b[1;32mIn[145], line 4\u001b[0m\n\u001b[0;32m      1\u001b[0m \u001b[38;5;28;01mimport\u001b[39;00m \u001b[38;5;21;01mscipy\u001b[39;00m\n\u001b[0;32m      2\u001b[0m \u001b[38;5;28;01mimport\u001b[39;00m \u001b[38;5;21;01mscipy\u001b[39;00m\u001b[38;5;21;01m.\u001b[39;00m\u001b[38;5;21;01moptimize\u001b[39;00m\n\u001b[1;32m----> 4\u001b[0m result \u001b[38;5;241m=\u001b[39m \u001b[43mscipy\u001b[49m\u001b[38;5;241;43m.\u001b[39;49m\u001b[43moptimize\u001b[49m\u001b[38;5;241;43m.\u001b[39;49m\u001b[43mdifferential_evolution\u001b[49m\u001b[43m(\u001b[49m\u001b[43mfunc\u001b[49m\u001b[38;5;241;43m=\u001b[39;49m\u001b[43mf_to_minimize\u001b[49m\u001b[43m,\u001b[49m\u001b[43mbounds\u001b[49m\u001b[38;5;241;43m=\u001b[39;49m\u001b[43m[\u001b[49m\u001b[43m(\u001b[49m\u001b[38;5;241;43m-\u001b[39;49m\u001b[43mnp\u001b[49m\u001b[38;5;241;43m.\u001b[39;49m\u001b[43mpi\u001b[49m\u001b[43m,\u001b[49m\u001b[43mnp\u001b[49m\u001b[38;5;241;43m.\u001b[39;49m\u001b[43mpi\u001b[49m\u001b[43m)\u001b[49m\u001b[43m,\u001b[49m\u001b[43m(\u001b[49m\u001b[38;5;241;43m-\u001b[39;49m\u001b[43mnp\u001b[49m\u001b[38;5;241;43m.\u001b[39;49m\u001b[43mpi\u001b[49m\u001b[43m,\u001b[49m\u001b[43mnp\u001b[49m\u001b[38;5;241;43m.\u001b[39;49m\u001b[43mpi\u001b[49m\u001b[43m)\u001b[49m\u001b[43m]\u001b[49m\u001b[43m)\u001b[49m\n\u001b[0;32m      6\u001b[0m \u001b[38;5;28mprint\u001b[39m(\u001b[38;5;124m\"\u001b[39m\u001b[38;5;124mOptimal value:\u001b[39m\u001b[38;5;124m\"\u001b[39m, result\u001b[38;5;241m.\u001b[39mfun)\n\u001b[0;32m      7\u001b[0m \u001b[38;5;28mprint\u001b[39m(\u001b[38;5;124m\"\u001b[39m\u001b[38;5;124mOptimal parameters:\u001b[39m\u001b[38;5;124m\"\u001b[39m, result\u001b[38;5;241m.\u001b[39mx)\n",
      "File \u001b[1;32mc:\\Users\\Nicolás Fernández\\AppData\\Local\\Programs\\Python\\Python310\\lib\\site-packages\\scipy\\optimize\\_differentialevolution.py:397\u001b[0m, in \u001b[0;36mdifferential_evolution\u001b[1;34m(func, bounds, args, strategy, maxiter, popsize, tol, mutation, recombination, seed, callback, disp, polish, init, atol, updating, workers, constraints, x0, integrality, vectorized)\u001b[0m\n\u001b[0;32m    380\u001b[0m \u001b[38;5;66;03m# using a context manager means that any created Pool objects are\u001b[39;00m\n\u001b[0;32m    381\u001b[0m \u001b[38;5;66;03m# cleared up.\u001b[39;00m\n\u001b[0;32m    382\u001b[0m \u001b[38;5;28;01mwith\u001b[39;00m DifferentialEvolutionSolver(func, bounds, args\u001b[38;5;241m=\u001b[39margs,\n\u001b[0;32m    383\u001b[0m                                  strategy\u001b[38;5;241m=\u001b[39mstrategy,\n\u001b[0;32m    384\u001b[0m                                  maxiter\u001b[38;5;241m=\u001b[39mmaxiter,\n\u001b[1;32m   (...)\u001b[0m\n\u001b[0;32m    395\u001b[0m                                  integrality\u001b[38;5;241m=\u001b[39mintegrality,\n\u001b[0;32m    396\u001b[0m                                  vectorized\u001b[38;5;241m=\u001b[39mvectorized) \u001b[38;5;28;01mas\u001b[39;00m solver:\n\u001b[1;32m--> 397\u001b[0m     ret \u001b[38;5;241m=\u001b[39m \u001b[43msolver\u001b[49m\u001b[38;5;241;43m.\u001b[39;49m\u001b[43msolve\u001b[49m\u001b[43m(\u001b[49m\u001b[43m)\u001b[49m\n\u001b[0;32m    399\u001b[0m \u001b[38;5;28;01mreturn\u001b[39;00m ret\n",
      "File \u001b[1;32mc:\\Users\\Nicolás Fernández\\AppData\\Local\\Programs\\Python\\Python310\\lib\\site-packages\\scipy\\optimize\\_differentialevolution.py:998\u001b[0m, in \u001b[0;36mDifferentialEvolutionSolver.solve\u001b[1;34m(self)\u001b[0m\n\u001b[0;32m    995\u001b[0m \u001b[38;5;28;01mfor\u001b[39;00m nit \u001b[38;5;129;01min\u001b[39;00m \u001b[38;5;28mrange\u001b[39m(\u001b[38;5;241m1\u001b[39m, \u001b[38;5;28mself\u001b[39m\u001b[38;5;241m.\u001b[39mmaxiter \u001b[38;5;241m+\u001b[39m \u001b[38;5;241m1\u001b[39m):\n\u001b[0;32m    996\u001b[0m     \u001b[38;5;66;03m# evolve the population by a generation\u001b[39;00m\n\u001b[0;32m    997\u001b[0m     \u001b[38;5;28;01mtry\u001b[39;00m:\n\u001b[1;32m--> 998\u001b[0m         \u001b[38;5;28;43mnext\u001b[39;49m\u001b[43m(\u001b[49m\u001b[38;5;28;43mself\u001b[39;49m\u001b[43m)\u001b[49m\n\u001b[0;32m    999\u001b[0m     \u001b[38;5;28;01mexcept\u001b[39;00m \u001b[38;5;167;01mStopIteration\u001b[39;00m:\n\u001b[0;32m   1000\u001b[0m         warning_flag \u001b[38;5;241m=\u001b[39m \u001b[38;5;28;01mTrue\u001b[39;00m\n",
      "File \u001b[1;32mc:\\Users\\Nicolás Fernández\\AppData\\Local\\Programs\\Python\\Python310\\lib\\site-packages\\scipy\\optimize\\_differentialevolution.py:1385\u001b[0m, in \u001b[0;36mDifferentialEvolutionSolver.__next__\u001b[1;34m(self)\u001b[0m\n\u001b[0;32m   1383\u001b[0m     feasible \u001b[38;5;241m=\u001b[39m \u001b[38;5;28;01mTrue\u001b[39;00m\n\u001b[0;32m   1384\u001b[0m     cv \u001b[38;5;241m=\u001b[39m np\u001b[38;5;241m.\u001b[39matleast_2d([\u001b[38;5;241m0.\u001b[39m])\n\u001b[1;32m-> 1385\u001b[0m     energy \u001b[38;5;241m=\u001b[39m \u001b[38;5;28;43mself\u001b[39;49m\u001b[38;5;241;43m.\u001b[39;49m\u001b[43mfunc\u001b[49m\u001b[43m(\u001b[49m\u001b[43mparameters\u001b[49m\u001b[43m)\u001b[49m\n\u001b[0;32m   1386\u001b[0m     \u001b[38;5;28mself\u001b[39m\u001b[38;5;241m.\u001b[39m_nfev \u001b[38;5;241m+\u001b[39m\u001b[38;5;241m=\u001b[39m \u001b[38;5;241m1\u001b[39m\n\u001b[0;32m   1388\u001b[0m \u001b[38;5;66;03m# compare trial and population member\u001b[39;00m\n",
      "File \u001b[1;32mc:\\Users\\Nicolás Fernández\\AppData\\Local\\Programs\\Python\\Python310\\lib\\site-packages\\scipy\\_lib\\_util.py:372\u001b[0m, in \u001b[0;36m_FunctionWrapper.__call__\u001b[1;34m(self, x)\u001b[0m\n\u001b[0;32m    371\u001b[0m \u001b[38;5;28;01mdef\u001b[39;00m \u001b[38;5;21m__call__\u001b[39m(\u001b[38;5;28mself\u001b[39m, x):\n\u001b[1;32m--> 372\u001b[0m     \u001b[38;5;28;01mreturn\u001b[39;00m \u001b[38;5;28;43mself\u001b[39;49m\u001b[38;5;241;43m.\u001b[39;49m\u001b[43mf\u001b[49m\u001b[43m(\u001b[49m\u001b[43mx\u001b[49m\u001b[43m,\u001b[49m\u001b[43m \u001b[49m\u001b[38;5;241;43m*\u001b[39;49m\u001b[38;5;28;43mself\u001b[39;49m\u001b[38;5;241;43m.\u001b[39;49m\u001b[43margs\u001b[49m\u001b[43m)\u001b[49m\n",
      "Cell \u001b[1;32mIn[128], line 12\u001b[0m, in \u001b[0;36mf_to_minimize\u001b[1;34m(x)\u001b[0m\n\u001b[0;32m     10\u001b[0m     sim \u001b[38;5;241m=\u001b[39m AerSimulator()\n\u001b[0;32m     11\u001b[0m qc\u001b[38;5;241m.\u001b[39mmeasure_all()\n\u001b[1;32m---> 12\u001b[0m qc \u001b[38;5;241m=\u001b[39m \u001b[43mtranspile\u001b[49m\u001b[43m(\u001b[49m\u001b[43mqc\u001b[49m\u001b[43m,\u001b[49m\u001b[43msim\u001b[49m\u001b[43m)\u001b[49m\n\u001b[0;32m     14\u001b[0m sampler \u001b[38;5;241m=\u001b[39m SamplerV2()\n\u001b[0;32m     15\u001b[0m shots \u001b[38;5;241m=\u001b[39m\u001b[38;5;241m64\u001b[39m\n",
      "File \u001b[1;32mc:\\Users\\Nicolás Fernández\\AppData\\Local\\Programs\\Python\\Python310\\lib\\site-packages\\qiskit\\compiler\\transpiler.py:381\u001b[0m, in \u001b[0;36mtranspile\u001b[1;34m(circuits, backend, basis_gates, inst_map, coupling_map, backend_properties, initial_layout, layout_method, routing_method, translation_method, scheduling_method, instruction_durations, dt, approximation_degree, timing_constraints, seed_transpiler, optimization_level, callback, output_name, unitary_synthesis_method, unitary_synthesis_plugin_config, target, hls_config, init_method, optimization_method, ignore_backend_supplied_default_methods, num_processes)\u001b[0m\n\u001b[0;32m    377\u001b[0m inst_map \u001b[38;5;241m=\u001b[39m _parse_inst_map(inst_map, backend)\n\u001b[0;32m    379\u001b[0m _check_circuits_coupling_map(circuits, coupling_map, backend)\n\u001b[1;32m--> 381\u001b[0m timing_constraints \u001b[38;5;241m=\u001b[39m \u001b[43m_parse_timing_constraints\u001b[49m\u001b[43m(\u001b[49m\u001b[43mbackend\u001b[49m\u001b[43m,\u001b[49m\u001b[43m \u001b[49m\u001b[43mtiming_constraints\u001b[49m\u001b[43m)\u001b[49m\n\u001b[0;32m    382\u001b[0m instruction_durations \u001b[38;5;241m=\u001b[39m _parse_instruction_durations(backend, instruction_durations, dt)\n\u001b[0;32m    384\u001b[0m \u001b[38;5;28;01mif\u001b[39;00m _given_inst_map \u001b[38;5;129;01mand\u001b[39;00m inst_map\u001b[38;5;241m.\u001b[39mhas_custom_gate() \u001b[38;5;129;01mand\u001b[39;00m target \u001b[38;5;129;01mis\u001b[39;00m \u001b[38;5;129;01mnot\u001b[39;00m \u001b[38;5;28;01mNone\u001b[39;00m:\n\u001b[0;32m    385\u001b[0m     \u001b[38;5;66;03m# Do not mutate backend target\u001b[39;00m\n",
      "\u001b[1;31mKeyboardInterrupt\u001b[0m: "
     ]
    }
   ],
   "source": [
    "import scipy\n",
    "import scipy.optimize\n",
    "\n",
    "result = scipy.optimize.differential_evolution(func=f_to_minimize,bounds=[(-np.pi,np.pi),(-np.pi,np.pi)])\n",
    "\n",
    "print(\"Optimal value:\", result.fun)\n",
    "print(\"Optimal parameters:\", result.x)"
   ]
  }
 ],
 "metadata": {
  "kernelspec": {
   "display_name": "Python 3",
   "language": "python",
   "name": "python3"
  },
  "language_info": {
   "codemirror_mode": {
    "name": "ipython",
    "version": 3
   },
   "file_extension": ".py",
   "mimetype": "text/x-python",
   "name": "python",
   "nbconvert_exporter": "python",
   "pygments_lexer": "ipython3",
   "version": "3.10.0"
  }
 },
 "nbformat": 4,
 "nbformat_minor": 2
}
