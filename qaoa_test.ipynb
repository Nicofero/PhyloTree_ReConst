{
 "cells": [
  {
   "cell_type": "markdown",
   "metadata": {},
   "source": [
    "# QAOA Test\n",
    "\n",
    "As the las notebook was getting a little bigger than I would have wanted, I created a new notebook. I will transfer all the qaoa functions and the ones back in `test.ipynb` will probably become outdated"
   ]
  },
  {
   "cell_type": "code",
   "execution_count": 29,
   "metadata": {},
   "outputs": [],
   "source": [
    "from qiskit.quantum_info import Pauli,SparsePauliOp,Statevector\n",
    "from typing import Union\n",
    "from colorama import Fore\n",
    "import numpy as np\n",
    "from qiskit import QuantumCircuit, transpile\n",
    "from qiskit_aer import AerSimulator\n",
    "from qiskit_aer.primitives import SamplerV2\n",
    "from qiskit.visualization import plot_histogram"
   ]
  },
  {
   "cell_type": "code",
   "execution_count": 35,
   "metadata": {},
   "outputs": [],
   "source": [
    "def interaction_term(qc: QuantumCircuit, phi, control, target)->QuantumCircuit:\n",
    "    r\"\"\"\n",
    "    Builds the gate from the interaction term in the Ising Hamiltonian\n",
    "    \n",
    "    Args:\n",
    "        `qc`: The quantum circuit to be added\n",
    "        `phi`: The parameter $\\phi$ from the optimization\n",
    "        `control`: The position of the control qubit\n",
    "        `target`: The position of the target qubit\n",
    "    \n",
    "    Returns:\n",
    "        The modified QuantumCircuit    \n",
    "    \"\"\"\n",
    "    \n",
    "    qc.cx(control,target)\n",
    "    qc.rz(phi*2,target)\n",
    "    qc.cx(control,target)\n",
    "    qc.barrier()\n",
    "    \n",
    "    return qc\n",
    "\n",
    "def circuit_size(qc:QuantumCircuit)->int:\n",
    "    r\"\"\"Utility function to get the number of registers of a QuantumCircuit\"\"\"\n",
    "    size = 0\n",
    "    for reg in qc.qregs:\n",
    "        size+=reg.size\n",
    "    return size\n",
    "    "
   ]
  },
  {
   "cell_type": "code",
   "execution_count": 78,
   "metadata": {},
   "outputs": [],
   "source": [
    "# Transforms a Pauli expression to a supported quadratic expression\n",
    "def pauliop_to_exp(op:SparsePauliOp)->str:\n",
    "    exp = ''\n",
    "    for i,pauli in enumerate(op.paulis):\n",
    "        exp+=str(int(op.coeffs[i].real))\n",
    "        for i,char in enumerate(pauli.to_label()):\n",
    "            if char == 'Z':\n",
    "                exp+='Z'+str(i)\n",
    "        exp+='+'\n",
    "    exp = exp[:-1]\n",
    "    return exp"
   ]
  },
  {
   "cell_type": "code",
   "execution_count": 79,
   "metadata": {},
   "outputs": [],
   "source": [
    "# Function to automatize layers of an ansatz\n",
    "def create_ansatz_layer(qc:QuantumCircuit,expression:Union[str,SparsePauliOp],phi=1,beta=1)->QuantumCircuit:\n",
    "    r\"\"\"\n",
    "    Creates an ansatz layer. However you need to start your circuit with h gates to enter superposition.\n",
    "    \n",
    "    Args:\n",
    "        `qc`: QuantumCircuit to be modified.\n",
    "        `expression`: Hamiltonian to optimize. Either in str or pauli expression.\n",
    "        `phi`: Parameter for the Z rotations.\n",
    "        `beta`: Parameter for the X rotations.\n",
    "    \n",
    "    Returns:\n",
    "    The QuantumCircuit with the added ansatz.\n",
    "    \n",
    "    \"\"\"\n",
    "    if type(expression) == SparsePauliOp:\n",
    "        expression = pauliop_to_exp(expression)\n",
    "    #Read expression\n",
    "    expression = expression.replace(' ', '')\n",
    "    \n",
    "    # Standardize the polynomial string to handle positive terms properly\n",
    "    expression = expression.replace('-', '+-')\n",
    "    if expression[0] == '+':\n",
    "        expression = expression[1:]\n",
    "    \n",
    "    # Split the string into terms\n",
    "    terms = expression.split('+')\n",
    "    \n",
    "    for term in terms:\n",
    "        gate = term.count('Z')\n",
    "        coefs = term.split('Z')\n",
    "        if coefs[0] == '':\n",
    "            coefs[0]=1\n",
    "        if coefs[0] == '-':\n",
    "            coefs[0]=-1\n",
    "        coefs = [int(t) for t in coefs]\n",
    "        if gate == 1:\n",
    "            qc.rz(2*coefs[0]*phi,coefs[1])\n",
    "            qc.barrier()\n",
    "        else:\n",
    "            qc = interaction_term(qc,coefs[0]*phi,coefs[1],coefs[2])\n",
    "            \n",
    "    size = circuit_size(qc)\n",
    "    for i in range(size):\n",
    "        qc.rx(2*beta,i)\n",
    "    qc.barrier()\n",
    "    return qc\n",
    "\n",
    "# Create full ansatz (kind of stupid)\n",
    "def create_ansatz(qc:QuantumCircuit,expression:str,layers=1,phi=1,beta=1):\n",
    "    r\"\"\"\n",
    "    Creates an ansatz. However you need to start your circuit with h gates to enter superposition.\n",
    "    \n",
    "    Args:\n",
    "        `qc`: QuantumCircuit to be modified.\n",
    "        `expression`: Hamiltonian to optimize. Either in str or pauli expression.\n",
    "        `layers`:Number of layers to be added\n",
    "        `phi`: Parameter for the Z rotations.\n",
    "        `beta`: Parameter for the X rotations.\n",
    "    \n",
    "    Returns:\n",
    "    The QuantumCircuit with the added ansatz.\n",
    "    \n",
    "    \"\"\"\n",
    "    for _ in range(layers):\n",
    "        qc = create_ansatz_layer(qc,expression,phi,beta)\n",
    "    return qc"
   ]
  },
  {
   "cell_type": "code",
   "execution_count": 80,
   "metadata": {},
   "outputs": [
    {
     "data": {
      "image/png": "[encoded data removed]",
      "text/plain": [
       "<Figure size 1541.46x200.667 with 1 Axes>"
      ]
     },
     "execution_count": 80,
     "metadata": {},
     "output_type": "execute_result"
    }
   ],
   "source": [
    "expression = \"2Z0Z1+3Z0\"\n",
    "size = 2\n",
    "\n",
    "qc = QuantumCircuit(size)\n",
    "\n",
    "for i in range(size):\n",
    "    qc.h(i)\n",
    "    \n",
    "qc=create_ansatz(qc,expression,2)\n",
    "\n",
    "qc.draw('mpl')"
   ]
  },
  {
   "cell_type": "code",
   "execution_count": 81,
   "metadata": {},
   "outputs": [
    {
     "data": {
      "image/png": "[encoded data removed]",
      "text/plain": [
       "<Figure size 1541.46x200.667 with 1 Axes>"
      ]
     },
     "execution_count": 81,
     "metadata": {},
     "output_type": "execute_result"
    }
   ],
   "source": [
    "op = 2* SparsePauliOp(Pauli('ZZ'))+3*SparsePauliOp(Pauli('ZI'))\n",
    "\n",
    "size = 2\n",
    "\n",
    "qc = QuantumCircuit(size)\n",
    "\n",
    "for i in range(size):\n",
    "    qc.h(i)\n",
    "    \n",
    "qc=create_ansatz(qc,op,2)\n",
    "\n",
    "qc.draw('mpl')"
   ]
  }
 ],
 "metadata": {
  "kernelspec": {
   "display_name": "Python 3",
   "language": "python",
   "name": "python3"
  },
  "language_info": {
   "codemirror_mode": {
    "name": "ipython",
    "version": 3
   },
   "file_extension": ".py",
   "mimetype": "text/x-python",
   "name": "python",
   "nbconvert_exporter": "python",
   "pygments_lexer": "ipython3",
   "version": "3.12.7"
  }
 },
 "nbformat": 4,
 "nbformat_minor": 2
}
