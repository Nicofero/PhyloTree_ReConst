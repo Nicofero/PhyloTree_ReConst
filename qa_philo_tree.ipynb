{
 "cells": [
  {
   "cell_type": "markdown",
   "metadata": {},
   "source": [
    "# Quantum Annealer for Philogenetic Trees\n",
    "\n",
    "---\n",
    "\n",
    "In this notebook, we are going to use D-Wave's Ocean to create the needed optimization problem to reconstruct Philogenetic Trees. In short, this is where the real work begins. This work will be based in 2 documents, a book that describes Quantum Annealing [1], and the paper for reconstruction of Philogenetic Trees [2].\n",
    "\n",
    "\n",
    "\n",
    "[1] Combarro, E. F., & Gonzalez-Castillo, S. (2023). A practical guide to quantum machine learning and quantum optimisation: Hands-On Approach to Modern Quantum Algorithms. Packt Publishing.\n",
    "\n",
    "[2] Onodera, W., Hara, N., Aoki, S., Asahi, T., & Sawamura, N. (2022). Phylogenetic tree reconstruction via graph cut presented using a quantum-inspired computer. Molecular Phylogenetics and Evolution, 178, 107636. https://doi.org/10.1016/j.ympev.2022.107636"
   ]
  },
  {
   "cell_type": "code",
   "execution_count": 120,
   "metadata": {},
   "outputs": [],
   "source": [
    "import numpy as np\n",
    "import dimod\n",
    "from dimod import BinaryQuadraticModel, BINARY\n",
    "from typing import Optional\n",
    "from dwave.system import DWaveSampler, EmbeddingComposite\n",
    "from colorama import Fore"
   ]
  },
  {
   "cell_type": "markdown",
   "metadata": {},
   "source": [
    "First, we start with an example:"
   ]
  },
  {
   "cell_type": "code",
   "execution_count": 46,
   "metadata": {},
   "outputs": [
    {
     "name": "stdout",
     "output_type": "stream",
     "text": [
      "The problem we are going to solve is:\n",
      "BinaryQuadraticModel({0: 0.0, 1: 0.0, 2: 0.0}, {(1, 0): 1.0, (2, 0): 1.0}, 0.0, 'BINARY')\n"
     ]
    }
   ],
   "source": [
    "# Coefficients of the quadratic term elements (squared or products)\n",
    "J = {(0,1):1, (0,2):1}\n",
    "# Coefficients of the linear terms\n",
    "h = {}\n",
    "problem = BinaryQuadraticModel(h, J, 0.0, BINARY)\n",
    "print(\"The problem we are going to solve is:\")\n",
    "print(problem)"
   ]
  },
  {
   "cell_type": "markdown",
   "metadata": {},
   "source": [
    "From the paper we have that the minimization is defined as:\n",
    "\n",
    "$$Min_{cut}=\\sum_{i=1}^{n-1}\\sum_{j=i+1}^n d_{ij}(x_i-x_j)^2,\\qquad x_i=\\{0,1\\}, \\quad i = 1,...,n.$$\n",
    "\n",
    "Where $d_{ij}$ is the element $ij$ from the matrix $D$, where the differences between elements are represented. In other words, if you consider the problem as a graph, $D$ is the adjacency matrix from the graph.\n",
    "\n",
    "If we take a closer look at this formula, we can see that we take the top part of the matrix, also, we start counting from 1, and I don't want that, so we can rewrite the expression as:\n",
    "\n",
    "$$Min_{cut}=\\sum_{i=0}^{n-2}\\sum_{j=i+1}^{n-1} d_{ij}(x_i-x_j)^2,\\qquad x_i=\\{0,1\\}, \\quad i = 0,...,n-1.$$"
   ]
  },
  {
   "cell_type": "markdown",
   "metadata": {},
   "source": [
    "To start, as I don't have any data to create adjacency matrices, I can create a random all-to-all graph with the characteristics defined in the paper. The graph would be the next:\n",
    "\n",
    "<div style=\"text-align: center;\">\n",
    "    <img src=\"images/randgraph_1.png\" alt=\"Complete Graph\" width=\"600px\">\n",
    "</div>"
   ]
  },
  {
   "cell_type": "markdown",
   "metadata": {},
   "source": [
    "Defined by the following adjacency matrix:\n",
    "\n",
    "$$\n",
    "\\begin{pmatrix}\n",
    "    0  & 92 & 73 & 78 & 92 \\\\\n",
    "    92 & 0  & 21 & 49 & 34 \\\\\n",
    "    73 & 21 & 0  & 35 & 63 \\\\\n",
    "    78 & 49 & 35 & 0  & 29 \\\\\n",
    "    92 & 34 & 63 & 29 & 0 \\\\\n",
    "\\end{pmatrix}\n",
    "$$\n",
    "\n",
    "Firstly, we can create a function that creates ``BinaryQuadraticModel`` objects from a given matrix for our problem. This will facilitate the process hereafter."
   ]
  },
  {
   "cell_type": "code",
   "execution_count": 73,
   "metadata": {},
   "outputs": [
    {
     "data": {
      "text/plain": [
       "{(0, 0): 1}"
      ]
     },
     "execution_count": 73,
     "metadata": {},
     "output_type": "execute_result"
    }
   ],
   "source": [
    "w = {}\n",
    "if (0,0) in w:\n",
    "    w[(0,0)]+=1\n",
    "else:\n",
    "    w[(0,0)]=1\n",
    "    \n",
    "w"
   ]
  },
  {
   "cell_type": "code",
   "execution_count": 101,
   "metadata": {},
   "outputs": [],
   "source": [
    "# Function to create BinaryQuadraticModel from a numpy matrix\n",
    "def create_problem (matrix:np.ndarray)->BinaryQuadraticModel:\n",
    "    r\"\"\"\n",
    "    Creates a BinaryQuadraticModel from a numpy matrix using the Min-cut formulation. Both simmetrical matrices and matrices with 0 above the main diagonal work.\n",
    "    \n",
    "    Args:\n",
    "        `matrix`: Matrix that defines the problem.\n",
    "    \n",
    "    Returns:\n",
    "        The BinaryQuadraticModel from dimod that defines the problem.\n",
    "    \"\"\"\n",
    "    \n",
    "    # No linear terms\n",
    "    h = {}\n",
    "    J = {}\n",
    "    rows,cols = matrix.shape\n",
    "    \n",
    "    if rows!=cols:\n",
    "        raise ValueError('The matrix MUST be symmetric')\n",
    "    \n",
    "    # Quadratic terms\n",
    "    for i in range(rows):\n",
    "        for j in range(i):\n",
    "            coef = matrix[i,j]\n",
    "            # First term\n",
    "            if (i,i) in J:\n",
    "                J[(i,i)]+=coef\n",
    "            else:\n",
    "                J[(i,i)]=coef\n",
    "            \n",
    "            # Double term\n",
    "            J[(i,j)]=-2*coef\n",
    "            \n",
    "            # Second term\n",
    "            if (j,j) in J:\n",
    "                J[(j,j)]+=coef\n",
    "            else:\n",
    "                J[(j,j)]=coef\n",
    "    print(J)\n",
    "    problem = BinaryQuadraticModel(h, J, dimod.BINARY)\n",
    "    return problem"
   ]
  },
  {
   "cell_type": "code",
   "execution_count": 102,
   "metadata": {},
   "outputs": [
    {
     "name": "stdout",
     "output_type": "stream",
     "text": [
      "{(1, 1): np.int64(196), (1, 0): np.int64(-184), (0, 0): np.int64(335), (2, 2): np.int64(192), (2, 0): np.int64(-146), (2, 1): np.int64(-42), (3, 3): np.int64(191), (3, 0): np.int64(-156), (3, 1): np.int64(-98), (3, 2): np.int64(-70), (4, 4): np.int64(218), (4, 0): np.int64(-184), (4, 1): np.int64(-68), (4, 2): np.int64(-126), (4, 3): np.int64(-58)}\n",
      "BinaryQuadraticModel({1: 196.0, 0: 335.0, 2: 192.0, 3: 191.0, 4: 218.0}, {(0, 1): -184.0, (2, 1): -42.0, (2, 0): -146.0, (3, 1): -98.0, (3, 0): -156.0, (3, 2): -70.0, (4, 1): -68.0, (4, 0): -184.0, (4, 2): -126.0, (4, 3): -58.0}, 0.0, 'BINARY')\n"
     ]
    }
   ],
   "source": [
    "matrix = np.array([[0,0,0,0,0],[92,0,0,0,0],[73,21,0,0,0],[78,49,35,0,0],[92,34,63,29,0]])\n",
    "\n",
    "problem = create_problem(matrix)\n",
    "print(problem)"
   ]
  },
  {
   "cell_type": "markdown",
   "metadata": {},
   "source": [
    "It's important to know that the next cell access the D-Wave Quantum Annealer. That's why there's commented lines."
   ]
  },
  {
   "cell_type": "code",
   "execution_count": null,
   "metadata": {},
   "outputs": [
    {
     "name": "stdout",
     "output_type": "stream",
     "text": [
      "The solutions that we have obtained are\n",
      "   0  1  2  3  4 energy num_oc. chain_.\n",
      "0  0  0  0  0  0    0.0       5     0.0\n",
      "1  1  1  1  1  1    0.0       5     0.0\n",
      "['BINARY', 2 rows, 10 samples, 5 variables]\n"
     ]
    }
   ],
   "source": [
    "# You need to have an access token configured\n",
    "# sampler = EmbeddingComposite(DWaveSampler())\n",
    "# result = sampler.sample(problem, num_reads=10)\n",
    "print(\"The solutions that we have obtained are\")\n",
    "print(result)"
   ]
  },
  {
   "cell_type": "code",
   "execution_count": 55,
   "metadata": {},
   "outputs": [
    {
     "name": "stdout",
     "output_type": "stream",
     "text": [
      "Time required to complete: 16541.56ms\n"
     ]
    }
   ],
   "source": [
    "print(f'Time required to complete: {result.info['timing']['qpu_access_time']}ms')"
   ]
  },
  {
   "cell_type": "code",
   "execution_count": 145,
   "metadata": {},
   "outputs": [
    {
     "name": "stdout",
     "output_type": "stream",
     "text": [
      "Constrained quadratic model: 3 variables, 1 constraints, 9 biases\n",
      "\n",
      "Objective\n",
      "  1 + 3*Binary('x0') + 5*Binary('x1') + 3*Binary('x2') - 4*Binary('x0')*Binary('x1') - 4*Binary('x1')*Binary('x2')\n",
      "\n",
      "Constraints\n",
      "  cca69ae: Binary('x0') + Binary('x1') + Binary('x2') == 1.0\n",
      "\n",
      "Bounds\n",
      "\n",
      "Solutions\n",
      "  x0 x1 x2 energy num_oc. is_sat. is_fea.\n",
      "0  0  0  0    1.0       1 arra... np.F...\n",
      "2  1  0  0    4.0       1 arra... np.T...\n",
      "4  0  0  1    4.0       1 arra... np.T...\n",
      "7  1  1  1    4.0       1 arra... np.F...\n",
      "3  1  1  0    5.0       1 arra... np.F...\n",
      "5  0  1  1    5.0       1 arra... np.F...\n",
      "1  0  1  0    6.0       1 arra... np.T...\n",
      "6  1  0  1    7.0       1 arra... np.F...\n",
      "['INTEGER', 8 rows, 8 samples, 3 variables] \n",
      "\n",
      "\u001b[31mBest Solution\u001b[39m\n",
      "Variables: {'x0': np.int64(1), 'x1': np.int64(0), 'x2': np.int64(0)}, Cost = 4.0\n"
     ]
    }
   ],
   "source": [
    "x0 = dimod.Binary('x0')\n",
    "x1 = dimod.Binary('x1')\n",
    "x2 = dimod.Binary('x2')\n",
    "\n",
    "blp = dimod.ConstrainedQuadraticModel()\n",
    "\n",
    "blp.set_objective(3*(x0-x1)**2+3*(x1-x2)**2+(x0-x2)**2+(x0+x1+x2-1)**2)\n",
    "blp.add_constraint(x0+x1+x2 == 1 )\n",
    "# blp.add_constraint(x0+x1+x2 <= 2 )\n",
    "\n",
    "print(blp)\n",
    "\n",
    "solver = dimod.ExactCQMSolver()\n",
    "\n",
    "sol = solver.sample_cqm(blp)\n",
    "\n",
    "print('Solutions')\n",
    "print(sol,'\\n')\n",
    "\n",
    "# We want the best feasible solution. We can filter by its feasibility and take the first element\n",
    "feas_sol = sol.filter(lambda s: s.is_feasible)\n",
    "print(Fore.RED+'Best Solution'+Fore.RESET)\n",
    "print(f'Variables: {feas_sol.first.sample}, Cost = {feas_sol.first.energy}')"
   ]
  },
  {
   "cell_type": "code",
   "execution_count": 144,
   "metadata": {},
   "outputs": [
    {
     "name": "stdout",
     "output_type": "stream",
     "text": [
      "(BinaryQuadraticModel({'x0': 3.0, 'x1': 5.0, 'x2': 3.0}, {('x1', 'x0'): -4.0, ('x2', 'x0'): 0.0, ('x2', 'x1'): -4.0}, 1.0, 'BINARY'), <dimod.constrained.constrained.CQMToBQMInverter object at 0x000002089A377640>)\n"
     ]
    }
   ],
   "source": [
    "qubo = dimod.cqm_to_bqm(blp,lagrange_multiplier=5)\n",
    "print(qubo)"
   ]
  },
  {
   "cell_type": "markdown",
   "metadata": {},
   "source": [
    "Para mañana TODO list:\n",
    "\n",
    "- [ ] Hacer el modelo de Mincut con variables binarias\n",
    "- [ ] Hacer las comprobaciones del funcionamiento de las constraints\n",
    "- [ ] Probar a hacerlo sin las constraints en el modelo Mincut\n",
    "- [ ] Ejecutar cosas\n"
   ]
  }
 ],
 "metadata": {
  "kernelspec": {
   "display_name": "Python 3",
   "language": "python",
   "name": "python3"
  },
  "language_info": {
   "codemirror_mode": {
    "name": "ipython",
    "version": 3
   },
   "file_extension": ".py",
   "mimetype": "text/x-python",
   "name": "python",
   "nbconvert_exporter": "python",
   "pygments_lexer": "ipython3",
   "version": "3.12.7"
  }
 },
 "nbformat": 4,
 "nbformat_minor": 2
}
