{
 "cells": [
  {
   "cell_type": "markdown",
   "metadata": {},
   "source": [
    "# Quantum Annealer for Philogenetic Trees\n",
    "\n",
    "---\n",
    "\n",
    "In this notebook, we are going to use D-Wave's Ocean to create the needed optimization problem to reconstruct Philogenetic Trees. In short, this is where the real work begins. This work will be based in 2 documents, a book that describes Quantum Annealing [1], and the paper for reconstruction of Philogenetic Trees [2].\n",
    "\n",
    "\n",
    "\n",
    "[1] Combarro, E. F., & Gonzalez-Castillo, S. (2023). A practical guide to quantum machine learning and quantum optimisation: Hands-On Approach to Modern Quantum Algorithms. Packt Publishing.\n",
    "\n",
    "[2] Onodera, W., Hara, N., Aoki, S., Asahi, T., & Sawamura, N. (2022). Phylogenetic tree reconstruction via graph cut presented using a quantum-inspired computer. Molecular Phylogenetics and Evolution, 178, 107636. https://doi.org/10.1016/j.ympev.2022.107636"
   ]
  },
  {
   "cell_type": "code",
   "execution_count": 1,
   "metadata": {},
   "outputs": [],
   "source": [
    "import numpy as np\n",
    "import dimod\n",
    "from dimod import BinaryQuadraticModel, BINARY\n",
    "from typing import Optional\n",
    "from dwave.system import DWaveSampler, EmbeddingComposite\n",
    "from colorama import Fore"
   ]
  },
  {
   "cell_type": "markdown",
   "metadata": {},
   "source": [
    "First, we start with an example:"
   ]
  },
  {
   "cell_type": "code",
   "execution_count": 46,
   "metadata": {},
   "outputs": [
    {
     "name": "stdout",
     "output_type": "stream",
     "text": [
      "The problem we are going to solve is:\n",
      "BinaryQuadraticModel({0: 0.0, 1: 0.0, 2: 0.0}, {(1, 0): 1.0, (2, 0): 1.0}, 0.0, 'BINARY')\n"
     ]
    }
   ],
   "source": [
    "# Coefficients of the quadratic term elements (squared or products)\n",
    "J = {(0,1):1, (0,2):1}\n",
    "# Coefficients of the linear terms\n",
    "h = {}\n",
    "problem = BinaryQuadraticModel(h, J, 0.0, BINARY)\n",
    "print(\"The problem we are going to solve is:\")\n",
    "print(problem)"
   ]
  },
  {
   "cell_type": "markdown",
   "metadata": {},
   "source": [
    "From the paper we have that the minimization is defined as:\n",
    "\n",
    "$$Min_{cut}=\\sum_{i=1}^{n-1}\\sum_{j=i+1}^n d_{ij}(x_i-x_j)^2,\\qquad x_i=\\{0,1\\}, \\quad i = 1,...,n.$$\n",
    "\n",
    "Where $d_{ij}$ is the element $ij$ from the matrix $D$, where the differences between elements are represented. In other words, if you consider the problem as a graph, $D$ is the adjacency matrix from the graph.\n",
    "\n",
    "If we take a closer look at this formula, we can see that we take the top part of the matrix, also, we start counting from 1, and I don't want that, so we can rewrite the expression as:\n",
    "\n",
    "$$Min_{cut}=\\sum_{i=0}^{n-2}\\sum_{j=i+1}^{n-1} d_{ij}(x_i-x_j)^2,\\qquad x_i=\\{0,1\\}, \\quad i = 0,...,n-1.$$"
   ]
  },
  {
   "cell_type": "markdown",
   "metadata": {},
   "source": [
    "To start, as I don't have any data to create adjacency matrices, I can create a random all-to-all graph with the characteristics defined in the paper. The graph would be the next:\n",
    "\n",
    "<div style=\"text-align: center;\">\n",
    "    <img src=\"images/randgraph_1.png\" alt=\"Complete Graph\" width=\"600px\">\n",
    "</div>"
   ]
  },
  {
   "cell_type": "markdown",
   "metadata": {},
   "source": [
    "Defined by the following adjacency matrix:\n",
    "\n",
    "$$\n",
    "\\begin{pmatrix}\n",
    "    0  & 92 & 73 & 78 & 92 \\\\\n",
    "    92 & 0  & 21 & 49 & 34 \\\\\n",
    "    73 & 21 & 0  & 35 & 63 \\\\\n",
    "    78 & 49 & 35 & 0  & 29 \\\\\n",
    "    92 & 34 & 63 & 29 & 0 \\\\\n",
    "\\end{pmatrix}\n",
    "$$\n",
    "\n",
    "Firstly, we can create a function that creates ``BinaryQuadraticModel`` objects from a given matrix for our problem. This will facilitate the process hereafter."
   ]
  },
  {
   "cell_type": "code",
   "execution_count": 20,
   "metadata": {},
   "outputs": [],
   "source": [
    "# Function to create BinaryQuadraticModel from a numpy matrix\n",
    "def create_problem (matrix:np.ndarray)->BinaryQuadraticModel:\n",
    "    r\"\"\"\n",
    "    Creates a BinaryQuadraticModel from a numpy matrix using the Min-cut formulation. Both simmetrical matrices and matrices with 0 above the main diagonal work.\n",
    "    \n",
    "    Args:\n",
    "        `matrix`: Matrix that defines the problem.\n",
    "    \n",
    "    Returns:\n",
    "        The BinaryQuadraticModel from dimod that defines the problem.\n",
    "    \"\"\"\n",
    "    \n",
    "    rows = matrix.shape[0]\n",
    "    var = []\n",
    "    \n",
    "    for i in range(rows):\n",
    "        var.append(dimod.Binary('x'+str(i)))\n",
    "        \n",
    "    obj = BinaryQuadraticModel({},{},0.0,BINARY)\n",
    "    \n",
    "    for i in range(rows):\n",
    "        for j in range(i):\n",
    "            obj+=matrix[i,j]*(var[i]-var[j])**2\n",
    "            \n",
    "    return obj"
   ]
  },
  {
   "cell_type": "code",
   "execution_count": 21,
   "metadata": {},
   "outputs": [
    {
     "name": "stdout",
     "output_type": "stream",
     "text": [
      "BinaryQuadraticModel({'x1': 196.0, 'x0': 335.0, 'x2': 192.0, 'x3': 191.0, 'x4': 218.0}, {('x0', 'x1'): -184.0, ('x2', 'x1'): -42.0, ('x2', 'x0'): -146.0, ('x3', 'x1'): -98.0, ('x3', 'x0'): -156.0, ('x3', 'x2'): -70.0, ('x4', 'x1'): -68.0, ('x4', 'x0'): -184.0, ('x4', 'x2'): -126.0, ('x4', 'x3'): -58.0}, 0.0, 'BINARY')\n"
     ]
    }
   ],
   "source": [
    "matrix = np.array([[0,0,0,0,0],[92,0,0,0,0],[73,21,0,0,0],[78,49,35,0,0],[92,34,63,29,0]])\n",
    "\n",
    "problem = create_problem(matrix)\n",
    "print(problem)"
   ]
  },
  {
   "cell_type": "markdown",
   "metadata": {},
   "source": [
    "It's important to know that the next cell access the D-Wave Quantum Annealer. That's why there's commented lines."
   ]
  },
  {
   "cell_type": "code",
   "execution_count": null,
   "metadata": {},
   "outputs": [
    {
     "name": "stdout",
     "output_type": "stream",
     "text": [
      "The solutions that we have obtained are\n",
      "   0  1  2  3  4 energy num_oc. chain_.\n",
      "0  0  0  0  0  0    0.0       5     0.0\n",
      "1  1  1  1  1  1    0.0       5     0.0\n",
      "['BINARY', 2 rows, 10 samples, 5 variables]\n"
     ]
    }
   ],
   "source": [
    "# You need to have an access token configured\n",
    "# sampler = EmbeddingComposite(DWaveSampler())\n",
    "# result = sampler.sample(problem, num_reads=10)\n",
    "print(\"The solutions that we have obtained are\")\n",
    "print(result)"
   ]
  },
  {
   "cell_type": "code",
   "execution_count": 55,
   "metadata": {},
   "outputs": [
    {
     "name": "stdout",
     "output_type": "stream",
     "text": [
      "Time required to complete: 16541.56ms\n"
     ]
    }
   ],
   "source": [
    "print(f'Time required to complete: {result.info['timing']['qpu_access_time']}ms')"
   ]
  },
  {
   "cell_type": "code",
   "execution_count": 45,
   "metadata": {},
   "outputs": [
    {
     "name": "stdout",
     "output_type": "stream",
     "text": [
      "Constrained quadratic model: 3 variables, 0 constraints, 6 biases\n",
      "\n",
      "Objective\n",
      "  24 - 20*Binary('x0') - 18*Binary('x1') - 20*Binary('x2') + 42*Binary('x0')*Binary('x1') + 46*Binary('x0')*Binary('x2') + 42*Binary('x1')*Binary('x2')\n",
      "\n",
      "Constraints\n",
      "\n",
      "Bounds\n",
      "\n",
      "Solutions\n",
      "  x0 x1 x2 energy num_oc. is_sat. is_fea.\n",
      "2  1  0  0    4.0       1 arra... np.T...\n",
      "4  0  0  1    4.0       1 arra... np.T...\n",
      "1  0  1  0    6.0       1 arra... np.T...\n",
      "0  0  0  0   24.0       1 arra... np.T...\n",
      "3  1  1  0   28.0       1 arra... np.T...\n",
      "5  0  1  1   28.0       1 arra... np.T...\n",
      "6  1  0  1   30.0       1 arra... np.T...\n",
      "7  1  1  1   96.0       1 arra... np.T...\n",
      "['INTEGER', 8 rows, 8 samples, 3 variables] \n",
      "\n",
      "\u001b[31mBest Solution\u001b[39m\n",
      "Variables: {'x0': np.int64(1), 'x1': np.int64(0), 'x2': np.int64(0)}, Cost = 4.0\n"
     ]
    }
   ],
   "source": [
    "x0 = dimod.Binary('x0')\n",
    "x1 = dimod.Binary('x1')\n",
    "x2 = dimod.Binary('x2')\n",
    "\n",
    "blp = dimod.ConstrainedQuadraticModel()\n",
    "\n",
    "blp.set_objective(3*(x0-x1)**2+3*(x1-x2)**2+(x0-x2)**2+24*(x0+x1+x2-1)**2)\n",
    "# blp.add_constraint(x0+x1+x2 == 1 )\n",
    "# blp.add_constraint(x0+x1+x2 <= 2 )\n",
    "\n",
    "print(blp)\n",
    "\n",
    "solver = dimod.ExactCQMSolver()\n",
    "\n",
    "sol = solver.sample_cqm(blp)\n",
    "\n",
    "print('Solutions')\n",
    "print(sol,'\\n')\n",
    "\n",
    "# We want the best feasible solution. We can filter by its feasibility and take the first element\n",
    "feas_sol = sol.filter(lambda s: s.is_feasible)\n",
    "print(Fore.RED+'Best Solution'+Fore.RESET)\n",
    "print(f'Variables: {feas_sol.first.sample}, Cost = {feas_sol.first.energy}')"
   ]
  },
  {
   "cell_type": "code",
   "execution_count": 144,
   "metadata": {},
   "outputs": [
    {
     "name": "stdout",
     "output_type": "stream",
     "text": [
      "(BinaryQuadraticModel({'x0': 3.0, 'x1': 5.0, 'x2': 3.0}, {('x1', 'x0'): -4.0, ('x2', 'x0'): 0.0, ('x2', 'x1'): -4.0}, 1.0, 'BINARY'), <dimod.constrained.constrained.CQMToBQMInverter object at 0x000002089A377640>)\n"
     ]
    }
   ],
   "source": [
    "qubo = dimod.cqm_to_bqm(blp,lagrange_multiplier=5)\n",
    "print(qubo)"
   ]
  },
  {
   "cell_type": "code",
   "execution_count": 48,
   "metadata": {},
   "outputs": [],
   "source": [
    "# Function to create BinaryQuadraticModel from a numpy matrix\n",
    "def create_cqm_problem (matrix:np.ndarray,c=0,alpha=0)->dimod.ConstrainedQuadraticModel:\n",
    "    r\"\"\"\n",
    "    Creates a ConstrainedQuadraticModel from a numpy matrix using the Min-cut formulation. Both simmetrical matrices and matrices with 0 above the main diagonal work.\n",
    "    \n",
    "    Args:\n",
    "        `matrix`: Matrix that defines the problem.\n",
    "        `c`: Number of non zero results wanted.\n",
    "        `alpha`: Factor to amplify. Higher alpha (>1) achieve the number of `c` of non zero results easily. If 0, no defined `c` is set, thus 11...11 and 00...00 become the best solution.\n",
    "    \n",
    "    Returns:\n",
    "        The ConstrainedQuadraticModel from dimod that defines the problem.\n",
    "    \"\"\"\n",
    "    \n",
    "    rows = matrix.shape[0]\n",
    "    var = []\n",
    "    \n",
    "    for i in range(rows):\n",
    "        var.append(dimod.Binary('x'+str(i)))\n",
    "        \n",
    "    obj = BinaryQuadraticModel({},{},0.0,BINARY)\n",
    "    \n",
    "    for i in range(rows):\n",
    "        for j in range(i):\n",
    "            obj+=matrix[i,j]*(var[i]-var[j])**2\n",
    "    \n",
    "    suma = np.sum(var)      \n",
    "    # Add restriction term\n",
    "    obj+=alpha*(suma-c)**2\n",
    "    \n",
    "    problem = dimod.ConstrainedQuadraticModel()\n",
    "    \n",
    "    problem.set_objective(obj)\n",
    "    \n",
    "    return problem"
   ]
  },
  {
   "cell_type": "code",
   "execution_count": 43,
   "metadata": {},
   "outputs": [
    {
     "name": "stdout",
     "output_type": "stream",
     "text": [
      "Constrained quadratic model: 5 variables, 0 constraints, 15 biases\n",
      "\n",
      "Objective\n",
      "  400 - 104*Binary('x1') + 35*Binary('x0') - 108*Binary('x2') - 109*Binary('x3') - 82*Binary('x4') + 16*Binary('x1')*Binary('x0') + 158*Binary('x1')*Binary('x2') + 54*Binary('x0')*Binary('x2') + 102*Binary('x1')*Binary('x3') + 44*Binary('x0')*Binary('x3') + 130*Binary('x2')*Binary('x3') + 132*Binary('x1')*Binary('x4') + 16*Binary('x0')*Binary('x4') + 74*Binary('x2')*Binary('x4') + 142*Binary('x3')*Binary('x4')\n",
      "\n",
      "Constraints\n",
      "\n",
      "Bounds\n",
      "\n",
      "Solutions\n",
      "   x0 x1 x2 x3 x4 energy num_oc. is_sat. is_fea.\n",
      "20  0  0  1  0  1  284.0       1 arra... np.T...\n",
      "10  0  1  0  1  0  289.0       1 arra... np.T...\n",
      "8   0  0  0  1  0  291.0       1 arra... np.T...\n",
      "4   0  0  1  0  0  292.0       1 arra... np.T...\n",
      "2   0  1  0  0  0  296.0       1 arra... np.T...\n",
      "12  0  0  1  1  0  313.0       1 arra... np.T...\n",
      "16  0  0  0  0  1  318.0       1 arra... np.T...\n",
      "6   0  1  1  0  0  346.0       1 arra... np.T...\n",
      "18  0  1  0  0  1  346.0       1 arra... np.T...\n",
      "3   1  1  0  0  0  347.0       1 arra... np.T...\n",
      "24  0  0  0  1  1  351.0       1 arra... np.T...\n",
      "17  1  0  0  0  1  369.0       1 arra... np.T...\n",
      "9   1  0  0  1  0  370.0       1 arra... np.T...\n",
      "5   1  0  1  0  0  381.0       1 arra... np.T...\n",
      "11  1  1  0  1  0  384.0       1 arra... np.T...\n",
      "21  1  0  1  0  1  389.0       1 arra... np.T...\n",
      "0   0  0  0  0  0  400.0       1 arra... np.T...\n",
      "19  1  1  0  0  1  413.0       1 arra... np.T...\n",
      "1   1  0  0  0  0  435.0       1 arra... np.T...\n",
      "13  1  0  1  1  0  446.0       1 arra... np.T...\n",
      "25  1  0  0  1  1  446.0       1 arra... np.T...\n",
      "28  0  0  1  1  1  447.0       1 arra... np.T...\n",
      "7   1  1  1  0  0  451.0       1 arra... np.T...\n",
      "14  0  1  1  1  0  469.0       1 arra... np.T...\n",
      "22  0  1  1  0  1  470.0       1 arra... np.T...\n",
      "26  0  1  0  1  1  481.0       1 arra... np.T...\n",
      "23  1  1  1  0  1  591.0       1 arra... np.T...\n",
      "27  1  1  0  1  1  592.0       1 arra... np.T...\n",
      "29  1  0  1  1  1  596.0       1 arra... np.T...\n",
      "15  1  1  1  1  0  618.0       1 arra... np.T...\n",
      "30  0  1  1  1  1  735.0       1 arra... np.T...\n",
      "31  1  1  1  1  1  900.0       1 arra... np.T...\n",
      "['INTEGER', 32 rows, 32 samples, 5 variables] \n",
      "\n",
      "\u001b[31mBest Solution\u001b[39m\n",
      "Variables: {'x0': np.int64(0), 'x1': np.int64(0), 'x2': np.int64(1), 'x3': np.int64(0), 'x4': np.int64(1)}, Cost = 284.0\n"
     ]
    }
   ],
   "source": [
    "matrix = np.array([[0,0,0,0,0],[92,0,0,0,0],[73,21,0,0,0],[78,49,35,0,0],[92,34,63,29,0]])\n",
    "\n",
    "problem = create_cqm_problem(matrix,c=2,alpha=100)\n",
    "\n",
    "sol = solver.sample_cqm(problem)\n",
    "\n",
    "print(problem)\n",
    "\n",
    "print('Solutions')\n",
    "print(sol,'\\n')\n",
    "\n",
    "# We want the best feasible solution. We can filter by its feasibility and take the first element\n",
    "feas_sol = sol.filter(lambda s: s.is_feasible)\n",
    "print(Fore.RED+'Best Solution'+Fore.RESET)\n",
    "print(f'Variables: {feas_sol.first.sample}, Cost = {feas_sol.first.energy}')"
   ]
  },
  {
   "cell_type": "code",
   "execution_count": 40,
   "metadata": {},
   "outputs": [
    {
     "name": "stdout",
     "output_type": "stream",
     "text": [
      "(BinaryQuadraticModel({'x1': 196.0, 'x0': 335.0, 'x2': 192.0, 'x3': 191.0, 'x4': 218.0}, {('x0', 'x1'): -184.0, ('x2', 'x1'): -42.0, ('x2', 'x0'): -146.0, ('x3', 'x1'): -98.0, ('x3', 'x0'): -156.0, ('x3', 'x2'): -70.0, ('x4', 'x1'): -68.0, ('x4', 'x0'): -184.0, ('x4', 'x2'): -126.0, ('x4', 'x3'): -58.0}, 0.0, 'BINARY'), <dimod.constrained.constrained.CQMToBQMInverter object at 0x00000233FF201570>)\n"
     ]
    }
   ],
   "source": [
    "qprob = dimod.cqm_to_bqm(problem)\n",
    "\n",
    "print(qprob)"
   ]
  },
  {
   "cell_type": "markdown",
   "metadata": {},
   "source": [
    "After this tests, we see that with a high enough $\\alpha$ we can guarantee that the best solution contais the subdivision that we want. Knowing this, with good management of the variables we can achieve a solution without adding consraints. Thus, we will refrain from using constraints and use directly the `BinaryQuadraticModel`. However, we will mantain the function `create_cqm_problem` for future convenience of obtaining all solutions in a simple way.\n",
    "\n",
    "In the next cell, there will be the final problem creation function, so **refrain from using the function from cell 8**."
   ]
  },
  {
   "cell_type": "code",
   "execution_count": 50,
   "metadata": {},
   "outputs": [],
   "source": [
    "def min_cut_c (matrix:np.ndarray,c=0,alpha=0)->BinaryQuadraticModel:\n",
    "    r\"\"\"\n",
    "    Creates a BinaryQuadraticModel from a numpy matrix using the Min-cut formulation. Both simmetrical matrices and matrices with 0 above the main diagonal work.\n",
    "    \n",
    "    Args:\n",
    "        `matrix`: Matrix that defines the problem.\n",
    "        `c`: Number of non zero results desired.\n",
    "        `alpha`: Factor to amplify. Higher alpha (>1) achieve the number of `c` of non zero results easily. If 0, no defined `c` is set, thus 11...11 and 00...00 become the best solution.\n",
    "    \n",
    "    Returns:\n",
    "        The BinaryQuadraticModel from dimod that defines the problem.\n",
    "    \"\"\"\n",
    "    \n",
    "    rows = matrix.shape[0]\n",
    "    var = []\n",
    "    \n",
    "    for i in range(rows):\n",
    "        var.append(dimod.Binary('x'+str(i)))\n",
    "        \n",
    "    obj = BinaryQuadraticModel({},{},0.0,BINARY)\n",
    "    \n",
    "    for i in range(rows):\n",
    "        for j in range(i):\n",
    "            obj+=matrix[i,j]*(var[i]-var[j])**2\n",
    "    \n",
    "    suma = np.sum(var)      \n",
    "    # Add restriction term\n",
    "    obj+=alpha*(suma-c)**2\n",
    "    \n",
    "    return obj"
   ]
  },
  {
   "cell_type": "code",
   "execution_count": 105,
   "metadata": {},
   "outputs": [
    {
     "name": "stdout",
     "output_type": "stream",
     "text": [
      "BinaryQuadraticModel({'x1': -404.0, 'x0': -265.0, 'x2': -408.0, 'x3': -409.0, 'x4': -382.0}, {('x0', 'x1'): 216.0, ('x2', 'x1'): 358.0, ('x2', 'x0'): 254.0, ('x3', 'x1'): 302.0, ('x3', 'x0'): 244.0, ('x3', 'x2'): 330.0, ('x4', 'x1'): 332.0, ('x4', 'x0'): 216.0, ('x4', 'x2'): 274.0, ('x4', 'x3'): 342.0}, 800.0, 'BINARY')\n",
      "The solutions that we have obtained are\n",
      "  x0 x1 x2 x3 x4 energy num_oc. chain_.\n",
      "0  0  0  1  0  1  284.0       2     0.0\n",
      "1  0  1  0  1  0  289.0       6     0.0\n",
      "2  0  0  1  1  0  313.0       1     0.0\n",
      "3  0  1  0  0  1  346.0       1     0.0\n",
      "['BINARY', 4 rows, 10 samples, 5 variables]\n"
     ]
    }
   ],
   "source": [
    "# Test the code using D-Wave QA\n",
    "matrix = np.array([[0,0,0,0,0],[92,0,0,0,0],[73,21,0,0,0],[78,49,35,0,0],[92,34,63,29,0]])\n",
    "\n",
    "problem = min_cut_c(matrix,c=2,alpha=200)\n",
    "\n",
    "print(problem)\n",
    "\n",
    "sampler = EmbeddingComposite(DWaveSampler())\n",
    "result = sampler.sample(problem, num_reads=10)\n",
    "print(\"The solutions that we have obtained are\")\n",
    "print(result)"
   ]
  },
  {
   "cell_type": "code",
   "execution_count": 106,
   "metadata": {},
   "outputs": [
    {
     "name": "stdout",
     "output_type": "stream",
     "text": [
      "Time required to complete: 16919.56us\n",
      "Best solution energy: 284.0\n",
      "Best solution configuration: {'x0': np.int8(0), 'x1': np.int8(0), 'x2': np.int8(1), 'x3': np.int8(0), 'x4': np.int8(1)}\n",
      "The cut graph are:\n",
      "Graph 1: ['x0', 'x1', 'x3']\n",
      "Graph 2: ['x2', 'x4']\n"
     ]
    }
   ],
   "source": [
    "print(f'Time required to complete: {result.info['timing']['qpu_access_time']}us')\n",
    "print(f'Best solution energy: {result.first.energy}')\n",
    "print(f'Best solution configuration: {result.first.sample}')\n",
    "\n",
    "n_graph_0 = [i for i in result.first.sample if result.first.sample[i]==0]\n",
    "n_graph_1 = [i for i in result.first.sample if result.first.sample[i]==1]\n",
    "\n",
    "print(f'The cut graph are:\\nGraph 1: {n_graph_0}\\nGraph 2: {n_graph_1}')"
   ]
  },
  {
   "cell_type": "code",
   "execution_count": 107,
   "metadata": {},
   "outputs": [
    {
     "name": "stdout",
     "output_type": "stream",
     "text": [
      "[[ 0  0  0]\n",
      " [92  0  0]\n",
      " [78 49  0]]\n"
     ]
    }
   ],
   "source": [
    "indices = [int(i[1]) for i in n_graph_0]\n",
    "indices2 = [int(i[1]) for i in n_graph_1]\n",
    "\n",
    "new_matrix = matrix[np.ix_(indices, indices)]\n",
    "\n",
    "print(new_matrix)\n"
   ]
  },
  {
   "cell_type": "code",
   "execution_count": 103,
   "metadata": {},
   "outputs": [],
   "source": [
    "def n_cut(score,ng0,ng1,og):\n",
    "    r\"\"\"\n",
    "    Returns the Ncut from a cut.\n",
    "    \n",
    "    Args:\n",
    "        `score`: The energy level obtained from the Mincut method.\n",
    "        `ng0`: The nodes defining one of the new graphs.\n",
    "        `ng1`: The nodes defining the other new graph.\n",
    "        `og`: The original matrix.\n",
    "    Returns:\n",
    "        Ncut energy level.\n",
    "    \"\"\"\n",
    "    asoc0 = np.sum(og[ng0, :])\n",
    "    asoc1 = np.sum(og[ng1, :])    \n",
    "    \n",
    "    ncut = (score/asoc0) + (score/asoc1)\n",
    "    \n",
    "    return ncut"
   ]
  },
  {
   "cell_type": "code",
   "execution_count": 108,
   "metadata": {},
   "outputs": [
    {
     "data": {
      "text/plain": [
       "np.float64(2.028366646476883)"
      ]
     },
     "execution_count": 108,
     "metadata": {},
     "output_type": "execute_result"
    }
   ],
   "source": [
    "n_cut(result.first.energy,indices,indices2,matrix)"
   ]
  },
  {
   "cell_type": "markdown",
   "metadata": {},
   "source": [
    "After this, we can define the full algorithm, without the initial matrix definition."
   ]
  },
  {
   "cell_type": "code",
   "execution_count": null,
   "metadata": {},
   "outputs": [],
   "source": [
    "def philo_tree(matrix:np.ndarray):\n",
    "    r\"\"\"\n",
    "    Recursive function that uses D-Wave QA to create the tree using Ncut\n",
    "    \n",
    "    Args:\n",
    "        `matrix`: The matrix defining the graph\n",
    "        Probably you could define alpha from outside.\n",
    "    \"\"\"\n",
    "    \n",
    "    rows = matrix.shape[0]\n",
    "    \n",
    "    var = int(np.floor(rows/2.0))+1\n",
    "    ncuts = []\n",
    "    n_graph_0 = []\n",
    "    n_graph_1 = []\n",
    "    sampler = EmbeddingComposite(DWaveSampler())\n",
    "\n",
    "    # Run min_cut for each configuration\n",
    "    for i in range(1,var):\n",
    "        problem = min_cut_c(matrix,c=i,alpha=200)\n",
    "        result = sampler.sample(problem, num_reads=10)\n",
    "        n_graph_0.append([int(i[1]) for i in result.first.sample if result.first.sample[i]==0])\n",
    "        n_graph_1.append([int(i[1]) for i in result.first.sample if result.first.sample[i]==1])\n",
    "        ncuts.append(n_cut(result.first.energy,n_graph_0,n_graph_1,matrix))\n",
    "    \n",
    "    index = np.argmin(ncuts)\n",
    "    \n",
    "    # Recursivity in the first graph\n",
    "    if len(n_graph_0[index]) > 2:\n",
    "        nmatrix1 = matrix[np.ix_(n_graph_0[index], n_graph_0[index])]\n",
    "        philo_tree(nmatrix1)\n",
    "        \n",
    "    # Recursivity in the first graph\n",
    "    if len(n_graph_1[index]) > 2:   \n",
    "        nmatrix2 = matrix[np.ix_(n_graph_1[index], n_graph_1[index])]\n",
    "        philo_tree(nmatrix2)\n",
    "        "
   ]
  },
  {
   "cell_type": "code",
   "execution_count": null,
   "metadata": {},
   "outputs": [
    {
     "ename": "SyntaxError",
     "evalue": "invalid syntax (4182533435.py, line 12)",
     "output_type": "error",
     "traceback": [
      "\u001b[1;36m  Cell \u001b[1;32mIn[140], line 12\u001b[1;36m\u001b[0m\n\u001b[1;33m    a(&x)\u001b[0m\n\u001b[1;37m      ^\u001b[0m\n\u001b[1;31mSyntaxError\u001b[0m\u001b[1;31m:\u001b[0m invalid syntax\n"
     ]
    }
   ],
   "source": [
    "ncuts = [2,1,3,4]\n",
    "n_graph_0 = []\n",
    "\n",
    "n_graph_0.append([1,2,3])\n",
    "n_graph_0.append([4,5,6])\n",
    "len(n_graph_0[np.argmin(ncuts)])"
   ]
  },
  {
   "cell_type": "markdown",
   "metadata": {},
   "source": [
    "### TODO MAÑANA\n",
    "\n",
    "- [ ] Ver que cojones devolver\n",
    "- [ ] Hacer pruebas"
   ]
  }
 ],
 "metadata": {
  "kernelspec": {
   "display_name": "Python 3",
   "language": "python",
   "name": "python3"
  },
  "language_info": {
   "codemirror_mode": {
    "name": "ipython",
    "version": 3
   },
   "file_extension": ".py",
   "mimetype": "text/x-python",
   "name": "python",
   "nbconvert_exporter": "python",
   "pygments_lexer": "ipython3",
   "version": "3.12.7"
  }
 },
 "nbformat": 4,
 "nbformat_minor": 2
}
